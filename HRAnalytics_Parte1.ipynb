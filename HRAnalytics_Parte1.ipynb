{
  "cells": [
    {
      "cell_type": "markdown",
      "id": "43fcd34e",
      "metadata": {
        "id": "43fcd34e"
      },
      "source": [
        "## 1. Entendimiento del Negocio"
      ]
    },
    {
      "cell_type": "markdown",
      "id": "4bd62e3d",
      "metadata": {
        "id": "4bd62e3d"
      },
      "source": [
        "**Caso de Estudio:**\n",
        "\n",
        "El análisis de Recursos Humanos (RR.HH.) está en constante evolución para optimizar la eficiencia y resultados. Este estudio se centra en la retención y promoción de colaboradores en una empresa de consultoría, en respuesta a una alta rotación en el área de Analytics, superior al 20% anual. Esta rotación afecta la continuidad y el conocimiento en los proyectos, y uno de los motivos mencionados por los excolaboradores para su salida es la falta de una línea de carrera definida en la empresa. Ante esto, el equipo de RR.HH. busca crear un modelo predictivo para identificar colaboradores con alta probabilidad de ser promovidos.  \n",
        "La empresa puede beneficiarse de este modelo para:\n",
        "\n",
        "- Reducir la rotación en áreas estratégicas como Analytics.\n",
        "- Identificar empleados con potencial de crecimiento y brindarles oportunidades de promoción.\n",
        "- Optimizar los programas de retención y capacitación para mantener el talento clave en la organización."
      ]
    },
    {
      "cell_type": "markdown",
      "id": "f8829822",
      "metadata": {
        "id": "f8829822"
      },
      "source": [
        "**Planteamiento del Modelo (Objetivo del negocio y Población Objetivo):**\n",
        "\n",
        "El objetivo del modelo es anticipar la probabilidad de promoción de empleados en la empresa, especialmente en áreas estratégicas como Analytics. La población objetivo incluye a todos los colaboradores activos en la empresa que podrían calificar para una promoción según sus características personales y de desempeño. Este enfoque busca optimizar la retención de talento, particularmente de empleados que demuestren potencial para roles superiores en la organización."
      ]
    },
    {
      "cell_type": "markdown",
      "id": "e28006b3",
      "metadata": {
        "id": "e28006b3"
      },
      "source": [
        "## 2. Análisis Exploratorio de Datos"
      ]
    },
    {
      "cell_type": "markdown",
      "id": "45fcfa0a",
      "metadata": {
        "id": "45fcfa0a"
      },
      "source": [
        "**Descripción de las Variables:**\n",
        "\n",
        "- `employee_id`: Identificador único de cada empleado.\n",
        "- `department`: Área o departamento donde trabaja el empleado.\n",
        "- `region`: Región de la empresa donde trabaja el empleado.\n",
        "- `education`: Nivel educativo alcanzado por el empleado.\n",
        "- `gender`: Género del empleado.\n",
        "- `recruitment_channel`: Canal de reclutamiento por el que fue contratado.\n",
        "- `no_of_trainings`: Número de entrenamientos recibidos en el último año.\n",
        "- `age`: Edad del empleado.\n",
        "- `previous_year_rating`: Calificación del empleado en el año anterior.\n",
        "- `length_of_service`: Tiempo en años que el empleado ha trabajado en la empresa.\n",
        "- `KPIs_met >80%`: Indicador de si el empleado cumplió con más del 80% de sus KPIs.\n",
        "- `awards_won?`: Indicador de si el empleado ha ganado algún reconocimiento.\n",
        "- `avg_training_score`: Puntaje promedio obtenido en entrenamientos.\n",
        "- `is_promoted`: Variable objetivo que indica si el empleado fue promovido (1) o no (0)."
      ]
    },
    {
      "cell_type": "code",
      "source": [
        "from google.colab import drive\n",
        "drive.mount('/content/drive')"
      ],
      "metadata": {
        "colab": {
          "base_uri": "https://localhost:8080/"
        },
        "id": "cDHLGl8OxPDB",
        "outputId": "37655925-b40d-4918-e074-f5172d8df369"
      },
      "id": "cDHLGl8OxPDB",
      "execution_count": 1,
      "outputs": [
        {
          "output_type": "stream",
          "name": "stdout",
          "text": [
            "Mounted at /content/drive\n"
          ]
        }
      ]
    },
    {
      "cell_type": "code",
      "execution_count": 2,
      "id": "e2e82528",
      "metadata": {
        "colab": {
          "base_uri": "https://localhost:8080/",
          "height": 505
        },
        "id": "e2e82528",
        "outputId": "419ed4d2-41dd-4dfb-9e3b-d9cf8c5e1db6"
      },
      "outputs": [
        {
          "output_type": "execute_result",
          "data": {
            "text/plain": [
              "<pandas.io.formats.style.Styler at 0x7dde066a54e0>"
            ],
            "text/html": [
              "<style type=\"text/css\">\n",
              "#T_32f49 th {\n",
              "  font-size: 14px;\n",
              "  text-align: center;\n",
              "  color: white;\n",
              "  background-color: #4CAF50;\n",
              "}\n",
              "#T_32f49 td {\n",
              "  font-size: 12px;\n",
              "}\n",
              "#T_32f49_row0_col0, #T_32f49_row0_col1, #T_32f49_row0_col2, #T_32f49_row0_col3, #T_32f49_row1_col0, #T_32f49_row1_col1, #T_32f49_row1_col2, #T_32f49_row1_col3, #T_32f49_row2_col0, #T_32f49_row2_col1, #T_32f49_row2_col2, #T_32f49_row2_col3, #T_32f49_row3_col0, #T_32f49_row3_col1, #T_32f49_row3_col2, #T_32f49_row3_col3, #T_32f49_row4_col0, #T_32f49_row4_col1, #T_32f49_row4_col2, #T_32f49_row4_col3, #T_32f49_row5_col0, #T_32f49_row5_col1, #T_32f49_row5_col2, #T_32f49_row5_col3, #T_32f49_row6_col0, #T_32f49_row6_col1, #T_32f49_row6_col2, #T_32f49_row6_col3, #T_32f49_row7_col0, #T_32f49_row7_col1, #T_32f49_row7_col2, #T_32f49_row7_col3, #T_32f49_row8_col0, #T_32f49_row8_col1, #T_32f49_row8_col2, #T_32f49_row8_col3, #T_32f49_row9_col0, #T_32f49_row9_col1, #T_32f49_row9_col2, #T_32f49_row9_col3, #T_32f49_row10_col0, #T_32f49_row10_col1, #T_32f49_row10_col2, #T_32f49_row10_col3, #T_32f49_row11_col0, #T_32f49_row11_col1, #T_32f49_row11_col2, #T_32f49_row11_col3, #T_32f49_row12_col0, #T_32f49_row12_col1, #T_32f49_row12_col2, #T_32f49_row12_col3, #T_32f49_row13_col0, #T_32f49_row13_col1, #T_32f49_row13_col2, #T_32f49_row13_col3 {\n",
              "  text-align: center;\n",
              "}\n",
              "</style>\n",
              "<table id=\"T_32f49\" class=\"dataframe\">\n",
              "  <caption>Estructura de Datos del Archivo 'HRAnalytics.csv'</caption>\n",
              "  <thead>\n",
              "    <tr>\n",
              "      <th class=\"blank level0\" >&nbsp;</th>\n",
              "      <th id=\"T_32f49_level0_col0\" class=\"col_heading level0 col0\" >Columnas</th>\n",
              "      <th id=\"T_32f49_level0_col1\" class=\"col_heading level0 col1\" >Tipo de Dato</th>\n",
              "      <th id=\"T_32f49_level0_col2\" class=\"col_heading level0 col2\" >Valores Nulos</th>\n",
              "      <th id=\"T_32f49_level0_col3\" class=\"col_heading level0 col3\" >Valores No Nulos</th>\n",
              "    </tr>\n",
              "  </thead>\n",
              "  <tbody>\n",
              "    <tr>\n",
              "      <th id=\"T_32f49_level0_row0\" class=\"row_heading level0 row0\" >employee_id</th>\n",
              "      <td id=\"T_32f49_row0_col0\" class=\"data row0 col0\" >employee_id</td>\n",
              "      <td id=\"T_32f49_row0_col1\" class=\"data row0 col1\" >int64</td>\n",
              "      <td id=\"T_32f49_row0_col2\" class=\"data row0 col2\" >0</td>\n",
              "      <td id=\"T_32f49_row0_col3\" class=\"data row0 col3\" >54808</td>\n",
              "    </tr>\n",
              "    <tr>\n",
              "      <th id=\"T_32f49_level0_row1\" class=\"row_heading level0 row1\" >department</th>\n",
              "      <td id=\"T_32f49_row1_col0\" class=\"data row1 col0\" >department</td>\n",
              "      <td id=\"T_32f49_row1_col1\" class=\"data row1 col1\" >object</td>\n",
              "      <td id=\"T_32f49_row1_col2\" class=\"data row1 col2\" >0</td>\n",
              "      <td id=\"T_32f49_row1_col3\" class=\"data row1 col3\" >54808</td>\n",
              "    </tr>\n",
              "    <tr>\n",
              "      <th id=\"T_32f49_level0_row2\" class=\"row_heading level0 row2\" >region</th>\n",
              "      <td id=\"T_32f49_row2_col0\" class=\"data row2 col0\" >region</td>\n",
              "      <td id=\"T_32f49_row2_col1\" class=\"data row2 col1\" >object</td>\n",
              "      <td id=\"T_32f49_row2_col2\" class=\"data row2 col2\" >0</td>\n",
              "      <td id=\"T_32f49_row2_col3\" class=\"data row2 col3\" >54808</td>\n",
              "    </tr>\n",
              "    <tr>\n",
              "      <th id=\"T_32f49_level0_row3\" class=\"row_heading level0 row3\" >education</th>\n",
              "      <td id=\"T_32f49_row3_col0\" class=\"data row3 col0\" >education</td>\n",
              "      <td id=\"T_32f49_row3_col1\" class=\"data row3 col1\" >object</td>\n",
              "      <td id=\"T_32f49_row3_col2\" class=\"data row3 col2\" >2409</td>\n",
              "      <td id=\"T_32f49_row3_col3\" class=\"data row3 col3\" >52399</td>\n",
              "    </tr>\n",
              "    <tr>\n",
              "      <th id=\"T_32f49_level0_row4\" class=\"row_heading level0 row4\" >gender</th>\n",
              "      <td id=\"T_32f49_row4_col0\" class=\"data row4 col0\" >gender</td>\n",
              "      <td id=\"T_32f49_row4_col1\" class=\"data row4 col1\" >object</td>\n",
              "      <td id=\"T_32f49_row4_col2\" class=\"data row4 col2\" >0</td>\n",
              "      <td id=\"T_32f49_row4_col3\" class=\"data row4 col3\" >54808</td>\n",
              "    </tr>\n",
              "    <tr>\n",
              "      <th id=\"T_32f49_level0_row5\" class=\"row_heading level0 row5\" >recruitment_channel</th>\n",
              "      <td id=\"T_32f49_row5_col0\" class=\"data row5 col0\" >recruitment_channel</td>\n",
              "      <td id=\"T_32f49_row5_col1\" class=\"data row5 col1\" >object</td>\n",
              "      <td id=\"T_32f49_row5_col2\" class=\"data row5 col2\" >0</td>\n",
              "      <td id=\"T_32f49_row5_col3\" class=\"data row5 col3\" >54808</td>\n",
              "    </tr>\n",
              "    <tr>\n",
              "      <th id=\"T_32f49_level0_row6\" class=\"row_heading level0 row6\" >no_of_trainings</th>\n",
              "      <td id=\"T_32f49_row6_col0\" class=\"data row6 col0\" >no_of_trainings</td>\n",
              "      <td id=\"T_32f49_row6_col1\" class=\"data row6 col1\" >int64</td>\n",
              "      <td id=\"T_32f49_row6_col2\" class=\"data row6 col2\" >0</td>\n",
              "      <td id=\"T_32f49_row6_col3\" class=\"data row6 col3\" >54808</td>\n",
              "    </tr>\n",
              "    <tr>\n",
              "      <th id=\"T_32f49_level0_row7\" class=\"row_heading level0 row7\" >age</th>\n",
              "      <td id=\"T_32f49_row7_col0\" class=\"data row7 col0\" >age</td>\n",
              "      <td id=\"T_32f49_row7_col1\" class=\"data row7 col1\" >int64</td>\n",
              "      <td id=\"T_32f49_row7_col2\" class=\"data row7 col2\" >0</td>\n",
              "      <td id=\"T_32f49_row7_col3\" class=\"data row7 col3\" >54808</td>\n",
              "    </tr>\n",
              "    <tr>\n",
              "      <th id=\"T_32f49_level0_row8\" class=\"row_heading level0 row8\" >previous_year_rating</th>\n",
              "      <td id=\"T_32f49_row8_col0\" class=\"data row8 col0\" >previous_year_rating</td>\n",
              "      <td id=\"T_32f49_row8_col1\" class=\"data row8 col1\" >float64</td>\n",
              "      <td id=\"T_32f49_row8_col2\" class=\"data row8 col2\" >4124</td>\n",
              "      <td id=\"T_32f49_row8_col3\" class=\"data row8 col3\" >50684</td>\n",
              "    </tr>\n",
              "    <tr>\n",
              "      <th id=\"T_32f49_level0_row9\" class=\"row_heading level0 row9\" >length_of_service</th>\n",
              "      <td id=\"T_32f49_row9_col0\" class=\"data row9 col0\" >length_of_service</td>\n",
              "      <td id=\"T_32f49_row9_col1\" class=\"data row9 col1\" >int64</td>\n",
              "      <td id=\"T_32f49_row9_col2\" class=\"data row9 col2\" >0</td>\n",
              "      <td id=\"T_32f49_row9_col3\" class=\"data row9 col3\" >54808</td>\n",
              "    </tr>\n",
              "    <tr>\n",
              "      <th id=\"T_32f49_level0_row10\" class=\"row_heading level0 row10\" >KPIs_met >80%</th>\n",
              "      <td id=\"T_32f49_row10_col0\" class=\"data row10 col0\" >KPIs_met >80%</td>\n",
              "      <td id=\"T_32f49_row10_col1\" class=\"data row10 col1\" >int64</td>\n",
              "      <td id=\"T_32f49_row10_col2\" class=\"data row10 col2\" >0</td>\n",
              "      <td id=\"T_32f49_row10_col3\" class=\"data row10 col3\" >54808</td>\n",
              "    </tr>\n",
              "    <tr>\n",
              "      <th id=\"T_32f49_level0_row11\" class=\"row_heading level0 row11\" >awards_won?</th>\n",
              "      <td id=\"T_32f49_row11_col0\" class=\"data row11 col0\" >awards_won?</td>\n",
              "      <td id=\"T_32f49_row11_col1\" class=\"data row11 col1\" >int64</td>\n",
              "      <td id=\"T_32f49_row11_col2\" class=\"data row11 col2\" >0</td>\n",
              "      <td id=\"T_32f49_row11_col3\" class=\"data row11 col3\" >54808</td>\n",
              "    </tr>\n",
              "    <tr>\n",
              "      <th id=\"T_32f49_level0_row12\" class=\"row_heading level0 row12\" >avg_training_score</th>\n",
              "      <td id=\"T_32f49_row12_col0\" class=\"data row12 col0\" >avg_training_score</td>\n",
              "      <td id=\"T_32f49_row12_col1\" class=\"data row12 col1\" >int64</td>\n",
              "      <td id=\"T_32f49_row12_col2\" class=\"data row12 col2\" >0</td>\n",
              "      <td id=\"T_32f49_row12_col3\" class=\"data row12 col3\" >54808</td>\n",
              "    </tr>\n",
              "    <tr>\n",
              "      <th id=\"T_32f49_level0_row13\" class=\"row_heading level0 row13\" >is_promoted</th>\n",
              "      <td id=\"T_32f49_row13_col0\" class=\"data row13 col0\" >is_promoted</td>\n",
              "      <td id=\"T_32f49_row13_col1\" class=\"data row13 col1\" >int64</td>\n",
              "      <td id=\"T_32f49_row13_col2\" class=\"data row13 col2\" >0</td>\n",
              "      <td id=\"T_32f49_row13_col3\" class=\"data row13 col3\" >54808</td>\n",
              "    </tr>\n",
              "  </tbody>\n",
              "</table>\n"
            ]
          },
          "metadata": {},
          "execution_count": 2
        }
      ],
      "source": [
        "# Importación de librerías necesarias\n",
        "import pandas as pd\n",
        "import numpy as np\n",
        "\n",
        "# Lectura de datos\n",
        "datos = pd.read_csv(\"/content/drive/MyDrive/Caso de Estudio - Resolución/HRAnalytics.csv\", sep=\",\", decimal=\".\")\n",
        "\n",
        "# Inspeccionando la estructura de los datos\n",
        "info_data = {\n",
        "    'Columnas': datos.columns,\n",
        "    'Tipo de Dato': datos.dtypes,\n",
        "    'Valores Nulos': datos.isnull().sum(),\n",
        "    'Valores No Nulos': datos.notnull().sum()\n",
        "}\n",
        "\n",
        "# Creando el DataFrame\n",
        "estructura_datos = pd.DataFrame(info_data)\n",
        "\n",
        "# Aplicando estilo para la visualización\n",
        "estructura_datos.style.set_caption(\"Estructura de Datos del Archivo 'HRAnalytics.csv'\") \\\n",
        "                      .set_properties(**{'text-align': 'center'}) \\\n",
        "                      .set_table_styles([{\n",
        "                          'selector': 'th',\n",
        "                          'props': [('font-size', '14px'), ('text-align', 'center'), ('color', 'white'),\n",
        "                                    ('background-color', '#4CAF50')]\n",
        "                      }, {\n",
        "                          'selector': 'td',\n",
        "                          'props': [('font-size', '12px')]\n",
        "                      }])"
      ]
    },
    {
      "cell_type": "code",
      "execution_count": 3,
      "id": "db2590dd",
      "metadata": {
        "colab": {
          "base_uri": "https://localhost:8080/",
          "height": 521
        },
        "id": "db2590dd",
        "outputId": "fa38e0eb-5468-4b7e-eae6-ca186db7a840"
      },
      "outputs": [
        {
          "output_type": "stream",
          "name": "stdout",
          "text": [
            "\n",
            "Primeros 10 elementos de los datos:\n"
          ]
        },
        {
          "output_type": "execute_result",
          "data": {
            "text/plain": [
              "   employee_id         department     region         education gender  \\\n",
              "0        65438  Sales & Marketing   region_7  Master's & above      f   \n",
              "1        65141         Operations  region_22        Bachelor's      m   \n",
              "2         7513  Sales & Marketing  region_19        Bachelor's      m   \n",
              "3         2542  Sales & Marketing  region_23        Bachelor's      m   \n",
              "4        48945         Technology  region_26        Bachelor's      m   \n",
              "5        58896          Analytics   region_2        Bachelor's      m   \n",
              "6        20379         Operations  region_20        Bachelor's      f   \n",
              "7        16290         Operations  region_34  Master's & above      m   \n",
              "8        73202          Analytics  region_20        Bachelor's      m   \n",
              "9        28911  Sales & Marketing   region_1  Master's & above      m   \n",
              "\n",
              "  recruitment_channel  no_of_trainings  age  previous_year_rating  \\\n",
              "0            sourcing                1   35                   5.0   \n",
              "1               other                1   30                   5.0   \n",
              "2            sourcing                1   34                   3.0   \n",
              "3               other                2   39                   1.0   \n",
              "4               other                1   45                   3.0   \n",
              "5            sourcing                2   31                   3.0   \n",
              "6               other                1   31                   3.0   \n",
              "7            sourcing                1   33                   3.0   \n",
              "8               other                1   28                   4.0   \n",
              "9            sourcing                1   32                   5.0   \n",
              "\n",
              "   length_of_service  KPIs_met >80%  awards_won?  avg_training_score  \\\n",
              "0                  8              1            0                  49   \n",
              "1                  4              0            0                  60   \n",
              "2                  7              0            0                  50   \n",
              "3                 10              0            0                  50   \n",
              "4                  2              0            0                  73   \n",
              "5                  7              0            0                  85   \n",
              "6                  5              0            0                  59   \n",
              "7                  6              0            0                  63   \n",
              "8                  5              0            0                  83   \n",
              "9                  5              1            0                  54   \n",
              "\n",
              "   is_promoted  \n",
              "0            0  \n",
              "1            0  \n",
              "2            0  \n",
              "3            0  \n",
              "4            0  \n",
              "5            0  \n",
              "6            0  \n",
              "7            0  \n",
              "8            0  \n",
              "9            0  "
            ],
            "text/html": [
              "\n",
              "  <div id=\"df-93343d07-c625-4167-9b2e-8f8a41922c66\" class=\"colab-df-container\">\n",
              "    <div>\n",
              "<style scoped>\n",
              "    .dataframe tbody tr th:only-of-type {\n",
              "        vertical-align: middle;\n",
              "    }\n",
              "\n",
              "    .dataframe tbody tr th {\n",
              "        vertical-align: top;\n",
              "    }\n",
              "\n",
              "    .dataframe thead th {\n",
              "        text-align: right;\n",
              "    }\n",
              "</style>\n",
              "<table border=\"1\" class=\"dataframe\">\n",
              "  <thead>\n",
              "    <tr style=\"text-align: right;\">\n",
              "      <th></th>\n",
              "      <th>employee_id</th>\n",
              "      <th>department</th>\n",
              "      <th>region</th>\n",
              "      <th>education</th>\n",
              "      <th>gender</th>\n",
              "      <th>recruitment_channel</th>\n",
              "      <th>no_of_trainings</th>\n",
              "      <th>age</th>\n",
              "      <th>previous_year_rating</th>\n",
              "      <th>length_of_service</th>\n",
              "      <th>KPIs_met &gt;80%</th>\n",
              "      <th>awards_won?</th>\n",
              "      <th>avg_training_score</th>\n",
              "      <th>is_promoted</th>\n",
              "    </tr>\n",
              "  </thead>\n",
              "  <tbody>\n",
              "    <tr>\n",
              "      <th>0</th>\n",
              "      <td>65438</td>\n",
              "      <td>Sales &amp; Marketing</td>\n",
              "      <td>region_7</td>\n",
              "      <td>Master's &amp; above</td>\n",
              "      <td>f</td>\n",
              "      <td>sourcing</td>\n",
              "      <td>1</td>\n",
              "      <td>35</td>\n",
              "      <td>5.0</td>\n",
              "      <td>8</td>\n",
              "      <td>1</td>\n",
              "      <td>0</td>\n",
              "      <td>49</td>\n",
              "      <td>0</td>\n",
              "    </tr>\n",
              "    <tr>\n",
              "      <th>1</th>\n",
              "      <td>65141</td>\n",
              "      <td>Operations</td>\n",
              "      <td>region_22</td>\n",
              "      <td>Bachelor's</td>\n",
              "      <td>m</td>\n",
              "      <td>other</td>\n",
              "      <td>1</td>\n",
              "      <td>30</td>\n",
              "      <td>5.0</td>\n",
              "      <td>4</td>\n",
              "      <td>0</td>\n",
              "      <td>0</td>\n",
              "      <td>60</td>\n",
              "      <td>0</td>\n",
              "    </tr>\n",
              "    <tr>\n",
              "      <th>2</th>\n",
              "      <td>7513</td>\n",
              "      <td>Sales &amp; Marketing</td>\n",
              "      <td>region_19</td>\n",
              "      <td>Bachelor's</td>\n",
              "      <td>m</td>\n",
              "      <td>sourcing</td>\n",
              "      <td>1</td>\n",
              "      <td>34</td>\n",
              "      <td>3.0</td>\n",
              "      <td>7</td>\n",
              "      <td>0</td>\n",
              "      <td>0</td>\n",
              "      <td>50</td>\n",
              "      <td>0</td>\n",
              "    </tr>\n",
              "    <tr>\n",
              "      <th>3</th>\n",
              "      <td>2542</td>\n",
              "      <td>Sales &amp; Marketing</td>\n",
              "      <td>region_23</td>\n",
              "      <td>Bachelor's</td>\n",
              "      <td>m</td>\n",
              "      <td>other</td>\n",
              "      <td>2</td>\n",
              "      <td>39</td>\n",
              "      <td>1.0</td>\n",
              "      <td>10</td>\n",
              "      <td>0</td>\n",
              "      <td>0</td>\n",
              "      <td>50</td>\n",
              "      <td>0</td>\n",
              "    </tr>\n",
              "    <tr>\n",
              "      <th>4</th>\n",
              "      <td>48945</td>\n",
              "      <td>Technology</td>\n",
              "      <td>region_26</td>\n",
              "      <td>Bachelor's</td>\n",
              "      <td>m</td>\n",
              "      <td>other</td>\n",
              "      <td>1</td>\n",
              "      <td>45</td>\n",
              "      <td>3.0</td>\n",
              "      <td>2</td>\n",
              "      <td>0</td>\n",
              "      <td>0</td>\n",
              "      <td>73</td>\n",
              "      <td>0</td>\n",
              "    </tr>\n",
              "    <tr>\n",
              "      <th>5</th>\n",
              "      <td>58896</td>\n",
              "      <td>Analytics</td>\n",
              "      <td>region_2</td>\n",
              "      <td>Bachelor's</td>\n",
              "      <td>m</td>\n",
              "      <td>sourcing</td>\n",
              "      <td>2</td>\n",
              "      <td>31</td>\n",
              "      <td>3.0</td>\n",
              "      <td>7</td>\n",
              "      <td>0</td>\n",
              "      <td>0</td>\n",
              "      <td>85</td>\n",
              "      <td>0</td>\n",
              "    </tr>\n",
              "    <tr>\n",
              "      <th>6</th>\n",
              "      <td>20379</td>\n",
              "      <td>Operations</td>\n",
              "      <td>region_20</td>\n",
              "      <td>Bachelor's</td>\n",
              "      <td>f</td>\n",
              "      <td>other</td>\n",
              "      <td>1</td>\n",
              "      <td>31</td>\n",
              "      <td>3.0</td>\n",
              "      <td>5</td>\n",
              "      <td>0</td>\n",
              "      <td>0</td>\n",
              "      <td>59</td>\n",
              "      <td>0</td>\n",
              "    </tr>\n",
              "    <tr>\n",
              "      <th>7</th>\n",
              "      <td>16290</td>\n",
              "      <td>Operations</td>\n",
              "      <td>region_34</td>\n",
              "      <td>Master's &amp; above</td>\n",
              "      <td>m</td>\n",
              "      <td>sourcing</td>\n",
              "      <td>1</td>\n",
              "      <td>33</td>\n",
              "      <td>3.0</td>\n",
              "      <td>6</td>\n",
              "      <td>0</td>\n",
              "      <td>0</td>\n",
              "      <td>63</td>\n",
              "      <td>0</td>\n",
              "    </tr>\n",
              "    <tr>\n",
              "      <th>8</th>\n",
              "      <td>73202</td>\n",
              "      <td>Analytics</td>\n",
              "      <td>region_20</td>\n",
              "      <td>Bachelor's</td>\n",
              "      <td>m</td>\n",
              "      <td>other</td>\n",
              "      <td>1</td>\n",
              "      <td>28</td>\n",
              "      <td>4.0</td>\n",
              "      <td>5</td>\n",
              "      <td>0</td>\n",
              "      <td>0</td>\n",
              "      <td>83</td>\n",
              "      <td>0</td>\n",
              "    </tr>\n",
              "    <tr>\n",
              "      <th>9</th>\n",
              "      <td>28911</td>\n",
              "      <td>Sales &amp; Marketing</td>\n",
              "      <td>region_1</td>\n",
              "      <td>Master's &amp; above</td>\n",
              "      <td>m</td>\n",
              "      <td>sourcing</td>\n",
              "      <td>1</td>\n",
              "      <td>32</td>\n",
              "      <td>5.0</td>\n",
              "      <td>5</td>\n",
              "      <td>1</td>\n",
              "      <td>0</td>\n",
              "      <td>54</td>\n",
              "      <td>0</td>\n",
              "    </tr>\n",
              "  </tbody>\n",
              "</table>\n",
              "</div>\n",
              "    <div class=\"colab-df-buttons\">\n",
              "\n",
              "  <div class=\"colab-df-container\">\n",
              "    <button class=\"colab-df-convert\" onclick=\"convertToInteractive('df-93343d07-c625-4167-9b2e-8f8a41922c66')\"\n",
              "            title=\"Convert this dataframe to an interactive table.\"\n",
              "            style=\"display:none;\">\n",
              "\n",
              "  <svg xmlns=\"http://www.w3.org/2000/svg\" height=\"24px\" viewBox=\"0 -960 960 960\">\n",
              "    <path d=\"M120-120v-720h720v720H120Zm60-500h600v-160H180v160Zm220 220h160v-160H400v160Zm0 220h160v-160H400v160ZM180-400h160v-160H180v160Zm440 0h160v-160H620v160ZM180-180h160v-160H180v160Zm440 0h160v-160H620v160Z\"/>\n",
              "  </svg>\n",
              "    </button>\n",
              "\n",
              "  <style>\n",
              "    .colab-df-container {\n",
              "      display:flex;\n",
              "      gap: 12px;\n",
              "    }\n",
              "\n",
              "    .colab-df-convert {\n",
              "      background-color: #E8F0FE;\n",
              "      border: none;\n",
              "      border-radius: 50%;\n",
              "      cursor: pointer;\n",
              "      display: none;\n",
              "      fill: #1967D2;\n",
              "      height: 32px;\n",
              "      padding: 0 0 0 0;\n",
              "      width: 32px;\n",
              "    }\n",
              "\n",
              "    .colab-df-convert:hover {\n",
              "      background-color: #E2EBFA;\n",
              "      box-shadow: 0px 1px 2px rgba(60, 64, 67, 0.3), 0px 1px 3px 1px rgba(60, 64, 67, 0.15);\n",
              "      fill: #174EA6;\n",
              "    }\n",
              "\n",
              "    .colab-df-buttons div {\n",
              "      margin-bottom: 4px;\n",
              "    }\n",
              "\n",
              "    [theme=dark] .colab-df-convert {\n",
              "      background-color: #3B4455;\n",
              "      fill: #D2E3FC;\n",
              "    }\n",
              "\n",
              "    [theme=dark] .colab-df-convert:hover {\n",
              "      background-color: #434B5C;\n",
              "      box-shadow: 0px 1px 3px 1px rgba(0, 0, 0, 0.15);\n",
              "      filter: drop-shadow(0px 1px 2px rgba(0, 0, 0, 0.3));\n",
              "      fill: #FFFFFF;\n",
              "    }\n",
              "  </style>\n",
              "\n",
              "    <script>\n",
              "      const buttonEl =\n",
              "        document.querySelector('#df-93343d07-c625-4167-9b2e-8f8a41922c66 button.colab-df-convert');\n",
              "      buttonEl.style.display =\n",
              "        google.colab.kernel.accessAllowed ? 'block' : 'none';\n",
              "\n",
              "      async function convertToInteractive(key) {\n",
              "        const element = document.querySelector('#df-93343d07-c625-4167-9b2e-8f8a41922c66');\n",
              "        const dataTable =\n",
              "          await google.colab.kernel.invokeFunction('convertToInteractive',\n",
              "                                                    [key], {});\n",
              "        if (!dataTable) return;\n",
              "\n",
              "        const docLinkHtml = 'Like what you see? Visit the ' +\n",
              "          '<a target=\"_blank\" href=https://colab.research.google.com/notebooks/data_table.ipynb>data table notebook</a>'\n",
              "          + ' to learn more about interactive tables.';\n",
              "        element.innerHTML = '';\n",
              "        dataTable['output_type'] = 'display_data';\n",
              "        await google.colab.output.renderOutput(dataTable, element);\n",
              "        const docLink = document.createElement('div');\n",
              "        docLink.innerHTML = docLinkHtml;\n",
              "        element.appendChild(docLink);\n",
              "      }\n",
              "    </script>\n",
              "  </div>\n",
              "\n",
              "\n",
              "<div id=\"df-35ff3588-c3da-4f62-a6b9-d09beff11917\">\n",
              "  <button class=\"colab-df-quickchart\" onclick=\"quickchart('df-35ff3588-c3da-4f62-a6b9-d09beff11917')\"\n",
              "            title=\"Suggest charts\"\n",
              "            style=\"display:none;\">\n",
              "\n",
              "<svg xmlns=\"http://www.w3.org/2000/svg\" height=\"24px\"viewBox=\"0 0 24 24\"\n",
              "     width=\"24px\">\n",
              "    <g>\n",
              "        <path d=\"M19 3H5c-1.1 0-2 .9-2 2v14c0 1.1.9 2 2 2h14c1.1 0 2-.9 2-2V5c0-1.1-.9-2-2-2zM9 17H7v-7h2v7zm4 0h-2V7h2v10zm4 0h-2v-4h2v4z\"/>\n",
              "    </g>\n",
              "</svg>\n",
              "  </button>\n",
              "\n",
              "<style>\n",
              "  .colab-df-quickchart {\n",
              "      --bg-color: #E8F0FE;\n",
              "      --fill-color: #1967D2;\n",
              "      --hover-bg-color: #E2EBFA;\n",
              "      --hover-fill-color: #174EA6;\n",
              "      --disabled-fill-color: #AAA;\n",
              "      --disabled-bg-color: #DDD;\n",
              "  }\n",
              "\n",
              "  [theme=dark] .colab-df-quickchart {\n",
              "      --bg-color: #3B4455;\n",
              "      --fill-color: #D2E3FC;\n",
              "      --hover-bg-color: #434B5C;\n",
              "      --hover-fill-color: #FFFFFF;\n",
              "      --disabled-bg-color: #3B4455;\n",
              "      --disabled-fill-color: #666;\n",
              "  }\n",
              "\n",
              "  .colab-df-quickchart {\n",
              "    background-color: var(--bg-color);\n",
              "    border: none;\n",
              "    border-radius: 50%;\n",
              "    cursor: pointer;\n",
              "    display: none;\n",
              "    fill: var(--fill-color);\n",
              "    height: 32px;\n",
              "    padding: 0;\n",
              "    width: 32px;\n",
              "  }\n",
              "\n",
              "  .colab-df-quickchart:hover {\n",
              "    background-color: var(--hover-bg-color);\n",
              "    box-shadow: 0 1px 2px rgba(60, 64, 67, 0.3), 0 1px 3px 1px rgba(60, 64, 67, 0.15);\n",
              "    fill: var(--button-hover-fill-color);\n",
              "  }\n",
              "\n",
              "  .colab-df-quickchart-complete:disabled,\n",
              "  .colab-df-quickchart-complete:disabled:hover {\n",
              "    background-color: var(--disabled-bg-color);\n",
              "    fill: var(--disabled-fill-color);\n",
              "    box-shadow: none;\n",
              "  }\n",
              "\n",
              "  .colab-df-spinner {\n",
              "    border: 2px solid var(--fill-color);\n",
              "    border-color: transparent;\n",
              "    border-bottom-color: var(--fill-color);\n",
              "    animation:\n",
              "      spin 1s steps(1) infinite;\n",
              "  }\n",
              "\n",
              "  @keyframes spin {\n",
              "    0% {\n",
              "      border-color: transparent;\n",
              "      border-bottom-color: var(--fill-color);\n",
              "      border-left-color: var(--fill-color);\n",
              "    }\n",
              "    20% {\n",
              "      border-color: transparent;\n",
              "      border-left-color: var(--fill-color);\n",
              "      border-top-color: var(--fill-color);\n",
              "    }\n",
              "    30% {\n",
              "      border-color: transparent;\n",
              "      border-left-color: var(--fill-color);\n",
              "      border-top-color: var(--fill-color);\n",
              "      border-right-color: var(--fill-color);\n",
              "    }\n",
              "    40% {\n",
              "      border-color: transparent;\n",
              "      border-right-color: var(--fill-color);\n",
              "      border-top-color: var(--fill-color);\n",
              "    }\n",
              "    60% {\n",
              "      border-color: transparent;\n",
              "      border-right-color: var(--fill-color);\n",
              "    }\n",
              "    80% {\n",
              "      border-color: transparent;\n",
              "      border-right-color: var(--fill-color);\n",
              "      border-bottom-color: var(--fill-color);\n",
              "    }\n",
              "    90% {\n",
              "      border-color: transparent;\n",
              "      border-bottom-color: var(--fill-color);\n",
              "    }\n",
              "  }\n",
              "</style>\n",
              "\n",
              "  <script>\n",
              "    async function quickchart(key) {\n",
              "      const quickchartButtonEl =\n",
              "        document.querySelector('#' + key + ' button');\n",
              "      quickchartButtonEl.disabled = true;  // To prevent multiple clicks.\n",
              "      quickchartButtonEl.classList.add('colab-df-spinner');\n",
              "      try {\n",
              "        const charts = await google.colab.kernel.invokeFunction(\n",
              "            'suggestCharts', [key], {});\n",
              "      } catch (error) {\n",
              "        console.error('Error during call to suggestCharts:', error);\n",
              "      }\n",
              "      quickchartButtonEl.classList.remove('colab-df-spinner');\n",
              "      quickchartButtonEl.classList.add('colab-df-quickchart-complete');\n",
              "    }\n",
              "    (() => {\n",
              "      let quickchartButtonEl =\n",
              "        document.querySelector('#df-35ff3588-c3da-4f62-a6b9-d09beff11917 button');\n",
              "      quickchartButtonEl.style.display =\n",
              "        google.colab.kernel.accessAllowed ? 'block' : 'none';\n",
              "    })();\n",
              "  </script>\n",
              "</div>\n",
              "\n",
              "    </div>\n",
              "  </div>\n"
            ],
            "application/vnd.google.colaboratory.intrinsic+json": {
              "type": "dataframe",
              "variable_name": "datos",
              "summary": "{\n  \"name\": \"datos\",\n  \"rows\": 54808,\n  \"fields\": [\n    {\n      \"column\": \"employee_id\",\n      \"properties\": {\n        \"dtype\": \"number\",\n        \"std\": 22586,\n        \"min\": 1,\n        \"max\": 78298,\n        \"num_unique_values\": 54808,\n        \"samples\": [\n          5599,\n          73176,\n          13157\n        ],\n        \"semantic_type\": \"\",\n        \"description\": \"\"\n      }\n    },\n    {\n      \"column\": \"department\",\n      \"properties\": {\n        \"dtype\": \"category\",\n        \"num_unique_values\": 9,\n        \"samples\": [\n          \"HR\",\n          \"Operations\",\n          \"Procurement\"\n        ],\n        \"semantic_type\": \"\",\n        \"description\": \"\"\n      }\n    },\n    {\n      \"column\": \"region\",\n      \"properties\": {\n        \"dtype\": \"category\",\n        \"num_unique_values\": 34,\n        \"samples\": [\n          \"region_5\",\n          \"region_16\",\n          \"region_32\"\n        ],\n        \"semantic_type\": \"\",\n        \"description\": \"\"\n      }\n    },\n    {\n      \"column\": \"education\",\n      \"properties\": {\n        \"dtype\": \"category\",\n        \"num_unique_values\": 3,\n        \"samples\": [\n          \"Master's & above\",\n          \"Bachelor's\",\n          \"Below Secondary\"\n        ],\n        \"semantic_type\": \"\",\n        \"description\": \"\"\n      }\n    },\n    {\n      \"column\": \"gender\",\n      \"properties\": {\n        \"dtype\": \"category\",\n        \"num_unique_values\": 2,\n        \"samples\": [\n          \"m\",\n          \"f\"\n        ],\n        \"semantic_type\": \"\",\n        \"description\": \"\"\n      }\n    },\n    {\n      \"column\": \"recruitment_channel\",\n      \"properties\": {\n        \"dtype\": \"category\",\n        \"num_unique_values\": 3,\n        \"samples\": [\n          \"sourcing\",\n          \"other\"\n        ],\n        \"semantic_type\": \"\",\n        \"description\": \"\"\n      }\n    },\n    {\n      \"column\": \"no_of_trainings\",\n      \"properties\": {\n        \"dtype\": \"number\",\n        \"std\": 0,\n        \"min\": 1,\n        \"max\": 10,\n        \"num_unique_values\": 10,\n        \"samples\": [\n          10,\n          2\n        ],\n        \"semantic_type\": \"\",\n        \"description\": \"\"\n      }\n    },\n    {\n      \"column\": \"age\",\n      \"properties\": {\n        \"dtype\": \"number\",\n        \"std\": 7,\n        \"min\": 20,\n        \"max\": 60,\n        \"num_unique_values\": 41,\n        \"samples\": [\n          56,\n          27\n        ],\n        \"semantic_type\": \"\",\n        \"description\": \"\"\n      }\n    },\n    {\n      \"column\": \"previous_year_rating\",\n      \"properties\": {\n        \"dtype\": \"number\",\n        \"std\": 1.2599925519407267,\n        \"min\": 1.0,\n        \"max\": 5.0,\n        \"num_unique_values\": 5,\n        \"samples\": [\n          3.0,\n          2.0\n        ],\n        \"semantic_type\": \"\",\n        \"description\": \"\"\n      }\n    },\n    {\n      \"column\": \"length_of_service\",\n      \"properties\": {\n        \"dtype\": \"number\",\n        \"std\": 4,\n        \"min\": 1,\n        \"max\": 37,\n        \"num_unique_values\": 35,\n        \"samples\": [\n          31,\n          12\n        ],\n        \"semantic_type\": \"\",\n        \"description\": \"\"\n      }\n    },\n    {\n      \"column\": \"KPIs_met >80%\",\n      \"properties\": {\n        \"dtype\": \"number\",\n        \"std\": 0,\n        \"min\": 0,\n        \"max\": 1,\n        \"num_unique_values\": 2,\n        \"samples\": [\n          0,\n          1\n        ],\n        \"semantic_type\": \"\",\n        \"description\": \"\"\n      }\n    },\n    {\n      \"column\": \"awards_won?\",\n      \"properties\": {\n        \"dtype\": \"number\",\n        \"std\": 0,\n        \"min\": 0,\n        \"max\": 1,\n        \"num_unique_values\": 2,\n        \"samples\": [\n          1,\n          0\n        ],\n        \"semantic_type\": \"\",\n        \"description\": \"\"\n      }\n    },\n    {\n      \"column\": \"avg_training_score\",\n      \"properties\": {\n        \"dtype\": \"number\",\n        \"std\": 13,\n        \"min\": 39,\n        \"max\": 99,\n        \"num_unique_values\": 61,\n        \"samples\": [\n          49,\n          59\n        ],\n        \"semantic_type\": \"\",\n        \"description\": \"\"\n      }\n    },\n    {\n      \"column\": \"is_promoted\",\n      \"properties\": {\n        \"dtype\": \"number\",\n        \"std\": 0,\n        \"min\": 0,\n        \"max\": 1,\n        \"num_unique_values\": 2,\n        \"samples\": [\n          1,\n          0\n        ],\n        \"semantic_type\": \"\",\n        \"description\": \"\"\n      }\n    }\n  ]\n}"
            }
          },
          "metadata": {},
          "execution_count": 3
        }
      ],
      "source": [
        "# Vista general de los primeros 10 elementos\n",
        "pd.set_option('display.max_columns', None)  # Muestra todas las columnas\n",
        "pd.set_option('display.max_rows', 10)       # Muestra hasta 10 filas\n",
        "print(\"\\nPrimeros 10 elementos de los datos:\")\n",
        "datos.head(10)"
      ]
    },
    {
      "cell_type": "code",
      "execution_count": 4,
      "id": "1bd80c11",
      "metadata": {
        "colab": {
          "base_uri": "https://localhost:8080/"
        },
        "id": "1bd80c11",
        "outputId": "97d08f68-922c-4403-9343-b3ff6324bf2f"
      },
      "outputs": [
        {
          "output_type": "stream",
          "name": "stdout",
          "text": [
            "Número de IDs únicos: 54808\n"
          ]
        }
      ],
      "source": [
        "# Detectando los valores duplicados con ayuda de en la columna 'employee_id'\n",
        "unique_ids = datos['employee_id'].nunique()\n",
        "print(f'Número de IDs únicos: {unique_ids}')"
      ]
    },
    {
      "cell_type": "code",
      "execution_count": 5,
      "id": "3e39bd28",
      "metadata": {
        "id": "3e39bd28"
      },
      "outputs": [],
      "source": [
        "# Eliminamos las variables 'employee_id' y 'region' ya que no son de interés para el caso\n",
        "datos.drop('employee_id', axis=1, inplace=True)\n",
        "datos.drop('region', axis=1, inplace=True)"
      ]
    },
    {
      "cell_type": "code",
      "execution_count": 6,
      "id": "3bc8ea9d",
      "metadata": {
        "id": "3bc8ea9d"
      },
      "outputs": [],
      "source": [
        "# Convertimos la variable target a tipo categoría\n",
        "datos['is_promoted'] = datos['is_promoted'].astype('category')"
      ]
    },
    {
      "cell_type": "code",
      "execution_count": 7,
      "id": "0e0cda54",
      "metadata": {
        "colab": {
          "base_uri": "https://localhost:8080/"
        },
        "id": "0e0cda54",
        "outputId": "9fcad9cd-0bcd-4ec7-e9a6-50b26efe4358"
      },
      "outputs": [
        {
          "output_type": "stream",
          "name": "stdout",
          "text": [
            "Index([0, 1], dtype='int64')\n"
          ]
        }
      ],
      "source": [
        "# Revisamos el orden de las observaciones negativas y positivas\n",
        "print(datos['is_promoted'].cat.categories)"
      ]
    },
    {
      "cell_type": "markdown",
      "id": "3c2649e0",
      "metadata": {
        "id": "3c2649e0"
      },
      "source": [
        "La variable objetivo `is_promoted` fue recodificada como `NO_PROMOVIDO` y `PROMOVIDO` para mejorar la interpretación en las salidas de análisis."
      ]
    },
    {
      "cell_type": "code",
      "execution_count": 8,
      "id": "670edb66",
      "metadata": {
        "id": "670edb66"
      },
      "outputs": [],
      "source": [
        "# Renombramos las categorías del target\n",
        "datos['is_promoted'] = datos['is_promoted'].cat.rename_categories(['NO_PROMOVIDO', 'PROMOVIDO'])"
      ]
    },
    {
      "cell_type": "code",
      "execution_count": 9,
      "id": "184e6131",
      "metadata": {
        "colab": {
          "base_uri": "https://localhost:8080/",
          "height": 160
        },
        "id": "184e6131",
        "outputId": "0b36c489-7f76-4678-c20c-02e466c9f0a8"
      },
      "outputs": [
        {
          "output_type": "execute_result",
          "data": {
            "text/plain": [
              "<pandas.io.formats.style.Styler at 0x7dde066a7940>"
            ],
            "text/html": [
              "<style type=\"text/css\">\n",
              "#T_cf748 th {\n",
              "  font-size: 14px;\n",
              "  text-align: center;\n",
              "  color: white;\n",
              "  background-color: #4CAF50;\n",
              "}\n",
              "#T_cf748 td {\n",
              "  font-size: 12px;\n",
              "}\n",
              "#T_cf748_row0_col0, #T_cf748_row0_col1, #T_cf748_row1_col0, #T_cf748_row1_col1 {\n",
              "  text-align: center;\n",
              "}\n",
              "</style>\n",
              "<table id=\"T_cf748\" class=\"dataframe\">\n",
              "  <caption>Distribución de la Variable Target 'is_promoted'</caption>\n",
              "  <thead>\n",
              "    <tr>\n",
              "      <th class=\"blank level0\" >&nbsp;</th>\n",
              "      <th id=\"T_cf748_level0_col0\" class=\"col_heading level0 col0\" >Frecuencia</th>\n",
              "      <th id=\"T_cf748_level0_col1\" class=\"col_heading level0 col1\" >Porcentaje (%)</th>\n",
              "    </tr>\n",
              "    <tr>\n",
              "      <th class=\"index_name level0\" >is_promoted</th>\n",
              "      <th class=\"blank col0\" >&nbsp;</th>\n",
              "      <th class=\"blank col1\" >&nbsp;</th>\n",
              "    </tr>\n",
              "  </thead>\n",
              "  <tbody>\n",
              "    <tr>\n",
              "      <th id=\"T_cf748_level0_row0\" class=\"row_heading level0 row0\" >NO_PROMOVIDO</th>\n",
              "      <td id=\"T_cf748_row0_col0\" class=\"data row0 col0\" >50140</td>\n",
              "      <td id=\"T_cf748_row0_col1\" class=\"data row0 col1\" >91.48%</td>\n",
              "    </tr>\n",
              "    <tr>\n",
              "      <th id=\"T_cf748_level0_row1\" class=\"row_heading level0 row1\" >PROMOVIDO</th>\n",
              "      <td id=\"T_cf748_row1_col0\" class=\"data row1 col0\" >4668</td>\n",
              "      <td id=\"T_cf748_row1_col1\" class=\"data row1 col1\" >8.52%</td>\n",
              "    </tr>\n",
              "  </tbody>\n",
              "</table>\n"
            ]
          },
          "metadata": {},
          "execution_count": 9
        }
      ],
      "source": [
        "# Evaluando la variable target 'is_promoted'\n",
        "\n",
        "# Calculando las frecuencias y porcentajes\n",
        "conteo = datos['is_promoted'].value_counts()\n",
        "porcentaje = datos['is_promoted'].value_counts(normalize=True) * 100\n",
        "\n",
        "# Creando un DataFrame para mostrar ambos resultados en un cuadro\n",
        "resultado = pd.DataFrame({'Frecuencia': conteo, 'Porcentaje (%)': porcentaje})\n",
        "\n",
        "# Aplicando formato para la visualización\n",
        "resultado.style.format({'Porcentaje (%)': '{:.2f}%'}) \\\n",
        "               .set_caption(\"Distribución de la Variable Target 'is_promoted'\") \\\n",
        "               .set_properties(**{'text-align': 'center'}) \\\n",
        "               .set_table_styles([{\n",
        "                   'selector': 'th',\n",
        "                   'props': [('font-size', '14px'), ('text-align', 'center'), ('color', 'white'),\n",
        "                             ('background-color', '#4CAF50')]\n",
        "               }, {\n",
        "                   'selector': 'td',\n",
        "                   'props': [('font-size', '12px')]\n",
        "               }])"
      ]
    },
    {
      "cell_type": "markdown",
      "id": "f099a582",
      "metadata": {
        "id": "f099a582"
      },
      "source": [
        "- El porcentaje de nuestra variable target nos indica que debemos hacer un balanceo previo ya que supera el 9:1 con 91.48% para los no promovidos y un 8.52% para los que si son promovidos. Tambien podemos ver que nuestro éxito será encontrar los \"PROMOVIDO\""
      ]
    },
    {
      "cell_type": "markdown",
      "id": "4e4190c3",
      "metadata": {
        "id": "4e4190c3"
      },
      "source": [
        "## 3. Detección de datos perdidos o valores faltantes"
      ]
    },
    {
      "cell_type": "code",
      "execution_count": 10,
      "id": "5cee68a8",
      "metadata": {
        "colab": {
          "base_uri": "https://localhost:8080/",
          "height": 588
        },
        "id": "5cee68a8",
        "outputId": "9da99752-2cae-4454-815e-3423e77f3580"
      },
      "outputs": [
        {
          "output_type": "execute_result",
          "data": {
            "text/plain": [
              "<Axes: >"
            ]
          },
          "metadata": {},
          "execution_count": 10
        },
        {
          "output_type": "display_data",
          "data": {
            "text/plain": [
              "<Figure size 2500x1000 with 2 Axes>"
            ],
            "image/png": "[encoded data removed]"
          },
          "metadata": {}
        }
      ],
      "source": [
        "import missingno as msno\n",
        "\n",
        "# Visualización de datos perdidos\n",
        "msno.matrix(datos)"
      ]
    },
    {
      "cell_type": "code",
      "execution_count": 11,
      "id": "98d21517",
      "metadata": {
        "colab": {
          "base_uri": "https://localhost:8080/",
          "height": 460
        },
        "id": "98d21517",
        "outputId": "acd2590b-8758-4a14-e8b1-59b770ebc995"
      },
      "outputs": [
        {
          "output_type": "execute_result",
          "data": {
            "text/plain": [
              "department                 0\n",
              "education               2409\n",
              "gender                     0\n",
              "recruitment_channel        0\n",
              "no_of_trainings            0\n",
              "age                        0\n",
              "previous_year_rating    4124\n",
              "length_of_service          0\n",
              "KPIs_met >80%              0\n",
              "awards_won?                0\n",
              "avg_training_score         0\n",
              "is_promoted                0\n",
              "dtype: int64"
            ],
            "text/html": [
              "<div>\n",
              "<style scoped>\n",
              "    .dataframe tbody tr th:only-of-type {\n",
              "        vertical-align: middle;\n",
              "    }\n",
              "\n",
              "    .dataframe tbody tr th {\n",
              "        vertical-align: top;\n",
              "    }\n",
              "\n",
              "    .dataframe thead th {\n",
              "        text-align: right;\n",
              "    }\n",
              "</style>\n",
              "<table border=\"1\" class=\"dataframe\">\n",
              "  <thead>\n",
              "    <tr style=\"text-align: right;\">\n",
              "      <th></th>\n",
              "      <th>0</th>\n",
              "    </tr>\n",
              "  </thead>\n",
              "  <tbody>\n",
              "    <tr>\n",
              "      <th>department</th>\n",
              "      <td>0</td>\n",
              "    </tr>\n",
              "    <tr>\n",
              "      <th>education</th>\n",
              "      <td>2409</td>\n",
              "    </tr>\n",
              "    <tr>\n",
              "      <th>gender</th>\n",
              "      <td>0</td>\n",
              "    </tr>\n",
              "    <tr>\n",
              "      <th>recruitment_channel</th>\n",
              "      <td>0</td>\n",
              "    </tr>\n",
              "    <tr>\n",
              "      <th>no_of_trainings</th>\n",
              "      <td>0</td>\n",
              "    </tr>\n",
              "    <tr>\n",
              "      <th>age</th>\n",
              "      <td>0</td>\n",
              "    </tr>\n",
              "    <tr>\n",
              "      <th>previous_year_rating</th>\n",
              "      <td>4124</td>\n",
              "    </tr>\n",
              "    <tr>\n",
              "      <th>length_of_service</th>\n",
              "      <td>0</td>\n",
              "    </tr>\n",
              "    <tr>\n",
              "      <th>KPIs_met &gt;80%</th>\n",
              "      <td>0</td>\n",
              "    </tr>\n",
              "    <tr>\n",
              "      <th>awards_won?</th>\n",
              "      <td>0</td>\n",
              "    </tr>\n",
              "    <tr>\n",
              "      <th>avg_training_score</th>\n",
              "      <td>0</td>\n",
              "    </tr>\n",
              "    <tr>\n",
              "      <th>is_promoted</th>\n",
              "      <td>0</td>\n",
              "    </tr>\n",
              "  </tbody>\n",
              "</table>\n",
              "</div><br><label><b>dtype:</b> int64</label>"
            ]
          },
          "metadata": {},
          "execution_count": 11
        }
      ],
      "source": [
        "# Número de registros con datos perdidos por variable\n",
        "pd.set_option('display.max_rows', None) # Muestra todas las columnas\n",
        "pd.set_option('display.max_rows', None) # Muestra todas las filas\n",
        "datos.isnull().sum()"
      ]
    },
    {
      "cell_type": "markdown",
      "id": "5db74ab7",
      "metadata": {
        "id": "5db74ab7"
      },
      "source": [
        "## 4. Preprocesamiento de datos"
      ]
    },
    {
      "cell_type": "markdown",
      "id": "25ac8985",
      "metadata": {
        "id": "25ac8985"
      },
      "source": [
        "### 4.1. Analizando la naturaleza de las variables \"previous_year_rating\" y \"education\" antes de ser imputadas"
      ]
    },
    {
      "cell_type": "code",
      "execution_count": 12,
      "id": "24b7764a",
      "metadata": {
        "scrolled": true,
        "colab": {
          "base_uri": "https://localhost:8080/",
          "height": 241
        },
        "id": "24b7764a",
        "outputId": "5c7eed84-a835-4d17-a54e-72caf264459d"
      },
      "outputs": [
        {
          "output_type": "execute_result",
          "data": {
            "text/plain": [
              "<pandas.io.formats.style.Styler at 0x7dde0660a3b0>"
            ],
            "text/html": [
              "<style type=\"text/css\">\n",
              "#T_d3641 th {\n",
              "  font-size: 14px;\n",
              "  text-align: center;\n",
              "  color: white;\n",
              "  background-color: #4CAF50;\n",
              "}\n",
              "#T_d3641 td {\n",
              "  font-size: 12px;\n",
              "}\n",
              "#T_d3641_row0_col0, #T_d3641_row1_col0, #T_d3641_row2_col0, #T_d3641_row3_col0 {\n",
              "  text-align: center;\n",
              "}\n",
              "</style>\n",
              "<table id=\"T_d3641\" class=\"dataframe\">\n",
              "  <caption>Distribución de la Variable 'education'</caption>\n",
              "  <thead>\n",
              "    <tr>\n",
              "      <th class=\"blank level0\" >&nbsp;</th>\n",
              "      <th id=\"T_d3641_level0_col0\" class=\"col_heading level0 col0\" >Frecuencia</th>\n",
              "    </tr>\n",
              "    <tr>\n",
              "      <th class=\"index_name level0\" >education</th>\n",
              "      <th class=\"blank col0\" >&nbsp;</th>\n",
              "    </tr>\n",
              "  </thead>\n",
              "  <tbody>\n",
              "    <tr>\n",
              "      <th id=\"T_d3641_level0_row0\" class=\"row_heading level0 row0\" >Bachelor's</th>\n",
              "      <td id=\"T_d3641_row0_col0\" class=\"data row0 col0\" >36669</td>\n",
              "    </tr>\n",
              "    <tr>\n",
              "      <th id=\"T_d3641_level0_row1\" class=\"row_heading level0 row1\" >Master's & above</th>\n",
              "      <td id=\"T_d3641_row1_col0\" class=\"data row1 col0\" >14925</td>\n",
              "    </tr>\n",
              "    <tr>\n",
              "      <th id=\"T_d3641_level0_row2\" class=\"row_heading level0 row2\" >nan</th>\n",
              "      <td id=\"T_d3641_row2_col0\" class=\"data row2 col0\" >2409</td>\n",
              "    </tr>\n",
              "    <tr>\n",
              "      <th id=\"T_d3641_level0_row3\" class=\"row_heading level0 row3\" >Below Secondary</th>\n",
              "      <td id=\"T_d3641_row3_col0\" class=\"data row3 col0\" >805</td>\n",
              "    </tr>\n",
              "  </tbody>\n",
              "</table>\n"
            ]
          },
          "metadata": {},
          "execution_count": 12
        }
      ],
      "source": [
        "# Conteo de valores en la columna 'education'\n",
        "education_counts = datos['education'].value_counts(dropna=False)\n",
        "\n",
        "# Creando un DataFrame\n",
        "education_df = pd.DataFrame({'Frecuencia': education_counts})\n",
        "\n",
        "# Aplicando estilo para la visualización\n",
        "education_df.style.set_caption(\"Distribución de la Variable 'education'\") \\\n",
        "                  .set_properties(**{'text-align': 'center'}) \\\n",
        "                  .set_table_styles([{\n",
        "                      'selector': 'th',\n",
        "                      'props': [('font-size', '14px'), ('text-align', 'center'), ('color', 'white'),\n",
        "                                ('background-color', '#4CAF50')]\n",
        "                  }, {\n",
        "                      'selector': 'td',\n",
        "                      'props': [('font-size', '12px')]\n",
        "                  }])"
      ]
    },
    {
      "cell_type": "markdown",
      "id": "2dd311f4",
      "metadata": {
        "id": "2dd311f4"
      },
      "source": [
        "- Viendo la naturaleza de la variable no podemos hacer uso de alguna imputación ya que el NaN es por falta de educación no por un valor sin completar, entonces el NaN la consideraremos como otro categoría."
      ]
    },
    {
      "cell_type": "code",
      "execution_count": 13,
      "id": "4227122f",
      "metadata": {
        "colab": {
          "base_uri": "https://localhost:8080/",
          "height": 303
        },
        "id": "4227122f",
        "outputId": "eff471f9-6564-4355-e6f4-56e8a1a7eb81"
      },
      "outputs": [
        {
          "output_type": "execute_result",
          "data": {
            "text/plain": [
              "<pandas.io.formats.style.Styler at 0x7dddce3d4670>"
            ],
            "text/html": [
              "<style type=\"text/css\">\n",
              "#T_933f1 th {\n",
              "  font-size: 14px;\n",
              "  text-align: center;\n",
              "  color: white;\n",
              "  background-color: #4CAF50;\n",
              "}\n",
              "#T_933f1 td {\n",
              "  font-size: 12px;\n",
              "}\n",
              "#T_933f1_row0_col0, #T_933f1_row1_col0, #T_933f1_row2_col0, #T_933f1_row3_col0, #T_933f1_row4_col0, #T_933f1_row5_col0 {\n",
              "  text-align: center;\n",
              "}\n",
              "</style>\n",
              "<table id=\"T_933f1\" class=\"dataframe\">\n",
              "  <caption>Distribución de la Variable 'previous_year_rating'</caption>\n",
              "  <thead>\n",
              "    <tr>\n",
              "      <th class=\"blank level0\" >&nbsp;</th>\n",
              "      <th id=\"T_933f1_level0_col0\" class=\"col_heading level0 col0\" >Frecuencia</th>\n",
              "    </tr>\n",
              "    <tr>\n",
              "      <th class=\"index_name level0\" >previous_year_rating</th>\n",
              "      <th class=\"blank col0\" >&nbsp;</th>\n",
              "    </tr>\n",
              "  </thead>\n",
              "  <tbody>\n",
              "    <tr>\n",
              "      <th id=\"T_933f1_level0_row0\" class=\"row_heading level0 row0\" >3.000000</th>\n",
              "      <td id=\"T_933f1_row0_col0\" class=\"data row0 col0\" >18618</td>\n",
              "    </tr>\n",
              "    <tr>\n",
              "      <th id=\"T_933f1_level0_row1\" class=\"row_heading level0 row1\" >5.000000</th>\n",
              "      <td id=\"T_933f1_row1_col0\" class=\"data row1 col0\" >11741</td>\n",
              "    </tr>\n",
              "    <tr>\n",
              "      <th id=\"T_933f1_level0_row2\" class=\"row_heading level0 row2\" >4.000000</th>\n",
              "      <td id=\"T_933f1_row2_col0\" class=\"data row2 col0\" >9877</td>\n",
              "    </tr>\n",
              "    <tr>\n",
              "      <th id=\"T_933f1_level0_row3\" class=\"row_heading level0 row3\" >1.000000</th>\n",
              "      <td id=\"T_933f1_row3_col0\" class=\"data row3 col0\" >6223</td>\n",
              "    </tr>\n",
              "    <tr>\n",
              "      <th id=\"T_933f1_level0_row4\" class=\"row_heading level0 row4\" >2.000000</th>\n",
              "      <td id=\"T_933f1_row4_col0\" class=\"data row4 col0\" >4225</td>\n",
              "    </tr>\n",
              "    <tr>\n",
              "      <th id=\"T_933f1_level0_row5\" class=\"row_heading level0 row5\" >nan</th>\n",
              "      <td id=\"T_933f1_row5_col0\" class=\"data row5 col0\" >4124</td>\n",
              "    </tr>\n",
              "  </tbody>\n",
              "</table>\n"
            ]
          },
          "metadata": {},
          "execution_count": 13
        }
      ],
      "source": [
        "# Conteo de valores en la columna 'previous_year_rating'\n",
        "rating_counts = datos['previous_year_rating'].value_counts(dropna=False)\n",
        "\n",
        "# Creando un DataFrame\n",
        "rating_df = pd.DataFrame({'Frecuencia': rating_counts})\n",
        "\n",
        "# Aplicando estilo para la visualización\n",
        "rating_df.style.set_caption(\"Distribución de la Variable 'previous_year_rating'\") \\\n",
        "               .set_properties(**{'text-align': 'center'}) \\\n",
        "               .set_table_styles([{\n",
        "                   'selector': 'th',\n",
        "                   'props': [('font-size', '14px'), ('text-align', 'center'), ('color', 'white'),\n",
        "                             ('background-color', '#4CAF50')]\n",
        "               }, {\n",
        "                   'selector': 'td',\n",
        "                   'props': [('font-size', '12px')]\n",
        "               }])"
      ]
    },
    {
      "cell_type": "markdown",
      "id": "bf4d9245",
      "metadata": {
        "id": "bf4d9245"
      },
      "source": [
        "- Al analizar esta variable notamos que esos NaN provienen de colaboradores que tienen solo un año trabajando en la empresa, lo que los excluye de tener un rating, no podemos hacer una imputación numérica, pero lo que si podemos hacer es crear una nueva categoría."
      ]
    },
    {
      "cell_type": "markdown",
      "id": "61f1435b",
      "metadata": {
        "id": "61f1435b"
      },
      "source": [
        "**Revisión y tratamiento de missings:**  \n",
        "Los valores nulos en `education` y `previous_year_rating` requieren un tratamiento especial. La columna `education` contiene valores nulos cuando falta información educativa del empleado, lo cual puede ser interpretado como \"Sin Información\". Para `previous_year_rating`, los valores nulos ocurren cuando el empleado no fue evaluado en el año anterior, por lo que se imputan con una categoría específica (`0`)."
      ]
    },
    {
      "cell_type": "code",
      "execution_count": 14,
      "id": "63f77ee2",
      "metadata": {
        "colab": {
          "base_uri": "https://localhost:8080/",
          "height": 814
        },
        "id": "63f77ee2",
        "outputId": "aee34d90-29b1-4296-bb1a-2a0c157051df"
      },
      "outputs": [
        {
          "output_type": "stream",
          "name": "stdout",
          "text": [
            "department              0\n",
            "education               0\n",
            "gender                  0\n",
            "recruitment_channel     0\n",
            "no_of_trainings         0\n",
            "age                     0\n",
            "previous_year_rating    0\n",
            "length_of_service       0\n",
            "KPIs_met >80%           0\n",
            "awards_won?             0\n",
            "avg_training_score      0\n",
            "is_promoted             0\n",
            "dtype: int64\n"
          ]
        },
        {
          "output_type": "execute_result",
          "data": {
            "text/plain": [
              "<Axes: >"
            ]
          },
          "metadata": {},
          "execution_count": 14
        },
        {
          "output_type": "display_data",
          "data": {
            "text/plain": [
              "<Figure size 2500x1000 with 2 Axes>"
            ],
            "image/png": "[encoded data removed]"
          },
          "metadata": {}
        }
      ],
      "source": [
        "# Creamos una copia del data set donde tendremos la base de datos imputada\n",
        "datos_transformado = datos.copy()\n",
        "\n",
        "# Reemplazamos los \"NaN\" de la variable education por la categoría \"Sin_información\"\n",
        "datos_transformado['education'] = datos_transformado['education'].fillna('Sin_información')\n",
        "\n",
        "# Reemplazamos los \"NaN\" de la variable previous_year_rating por la categoría \"0\"\n",
        "datos_transformado['previous_year_rating']  = datos_transformado['previous_year_rating'].fillna('0')\n",
        "\n",
        "print(datos_transformado.isnull().sum())\n",
        "\n",
        "msno.matrix(datos_transformado)"
      ]
    },
    {
      "cell_type": "code",
      "execution_count": 15,
      "id": "c5b0b38c",
      "metadata": {
        "colab": {
          "base_uri": "https://localhost:8080/",
          "height": 299
        },
        "id": "c5b0b38c",
        "outputId": "3fb508a2-df5d-45a7-f2af-b5ea660291dd"
      },
      "outputs": [
        {
          "output_type": "stream",
          "name": "stdout",
          "text": [
            "\n",
            "Primeros 4 elementos de los datos:\n"
          ]
        },
        {
          "output_type": "execute_result",
          "data": {
            "text/plain": [
              "          department         education gender recruitment_channel  \\\n",
              "0  Sales & Marketing  Master's & above      f            sourcing   \n",
              "1         Operations        Bachelor's      m               other   \n",
              "2  Sales & Marketing        Bachelor's      m            sourcing   \n",
              "3  Sales & Marketing        Bachelor's      m               other   \n",
              "\n",
              "   no_of_trainings  age previous_year_rating  length_of_service  \\\n",
              "0                1   35                  5.0                  8   \n",
              "1                1   30                  5.0                  4   \n",
              "2                1   34                  3.0                  7   \n",
              "3                2   39                  1.0                 10   \n",
              "\n",
              "   KPIs_met >80%  awards_won?  avg_training_score   is_promoted  \n",
              "0              1            0                  49  NO_PROMOVIDO  \n",
              "1              0            0                  60  NO_PROMOVIDO  \n",
              "2              0            0                  50  NO_PROMOVIDO  \n",
              "3              0            0                  50  NO_PROMOVIDO  "
            ],
            "text/html": [
              "\n",
              "  <div id=\"df-a574c069-8947-45a8-b6a9-350a0dbee6ca\" class=\"colab-df-container\">\n",
              "    <div>\n",
              "<style scoped>\n",
              "    .dataframe tbody tr th:only-of-type {\n",
              "        vertical-align: middle;\n",
              "    }\n",
              "\n",
              "    .dataframe tbody tr th {\n",
              "        vertical-align: top;\n",
              "    }\n",
              "\n",
              "    .dataframe thead th {\n",
              "        text-align: right;\n",
              "    }\n",
              "</style>\n",
              "<table border=\"1\" class=\"dataframe\">\n",
              "  <thead>\n",
              "    <tr style=\"text-align: right;\">\n",
              "      <th></th>\n",
              "      <th>department</th>\n",
              "      <th>education</th>\n",
              "      <th>gender</th>\n",
              "      <th>recruitment_channel</th>\n",
              "      <th>no_of_trainings</th>\n",
              "      <th>age</th>\n",
              "      <th>previous_year_rating</th>\n",
              "      <th>length_of_service</th>\n",
              "      <th>KPIs_met &gt;80%</th>\n",
              "      <th>awards_won?</th>\n",
              "      <th>avg_training_score</th>\n",
              "      <th>is_promoted</th>\n",
              "    </tr>\n",
              "  </thead>\n",
              "  <tbody>\n",
              "    <tr>\n",
              "      <th>0</th>\n",
              "      <td>Sales &amp; Marketing</td>\n",
              "      <td>Master's &amp; above</td>\n",
              "      <td>f</td>\n",
              "      <td>sourcing</td>\n",
              "      <td>1</td>\n",
              "      <td>35</td>\n",
              "      <td>5.0</td>\n",
              "      <td>8</td>\n",
              "      <td>1</td>\n",
              "      <td>0</td>\n",
              "      <td>49</td>\n",
              "      <td>NO_PROMOVIDO</td>\n",
              "    </tr>\n",
              "    <tr>\n",
              "      <th>1</th>\n",
              "      <td>Operations</td>\n",
              "      <td>Bachelor's</td>\n",
              "      <td>m</td>\n",
              "      <td>other</td>\n",
              "      <td>1</td>\n",
              "      <td>30</td>\n",
              "      <td>5.0</td>\n",
              "      <td>4</td>\n",
              "      <td>0</td>\n",
              "      <td>0</td>\n",
              "      <td>60</td>\n",
              "      <td>NO_PROMOVIDO</td>\n",
              "    </tr>\n",
              "    <tr>\n",
              "      <th>2</th>\n",
              "      <td>Sales &amp; Marketing</td>\n",
              "      <td>Bachelor's</td>\n",
              "      <td>m</td>\n",
              "      <td>sourcing</td>\n",
              "      <td>1</td>\n",
              "      <td>34</td>\n",
              "      <td>3.0</td>\n",
              "      <td>7</td>\n",
              "      <td>0</td>\n",
              "      <td>0</td>\n",
              "      <td>50</td>\n",
              "      <td>NO_PROMOVIDO</td>\n",
              "    </tr>\n",
              "    <tr>\n",
              "      <th>3</th>\n",
              "      <td>Sales &amp; Marketing</td>\n",
              "      <td>Bachelor's</td>\n",
              "      <td>m</td>\n",
              "      <td>other</td>\n",
              "      <td>2</td>\n",
              "      <td>39</td>\n",
              "      <td>1.0</td>\n",
              "      <td>10</td>\n",
              "      <td>0</td>\n",
              "      <td>0</td>\n",
              "      <td>50</td>\n",
              "      <td>NO_PROMOVIDO</td>\n",
              "    </tr>\n",
              "  </tbody>\n",
              "</table>\n",
              "</div>\n",
              "    <div class=\"colab-df-buttons\">\n",
              "\n",
              "  <div class=\"colab-df-container\">\n",
              "    <button class=\"colab-df-convert\" onclick=\"convertToInteractive('df-a574c069-8947-45a8-b6a9-350a0dbee6ca')\"\n",
              "            title=\"Convert this dataframe to an interactive table.\"\n",
              "            style=\"display:none;\">\n",
              "\n",
              "  <svg xmlns=\"http://www.w3.org/2000/svg\" height=\"24px\" viewBox=\"0 -960 960 960\">\n",
              "    <path d=\"M120-120v-720h720v720H120Zm60-500h600v-160H180v160Zm220 220h160v-160H400v160Zm0 220h160v-160H400v160ZM180-400h160v-160H180v160Zm440 0h160v-160H620v160ZM180-180h160v-160H180v160Zm440 0h160v-160H620v160Z\"/>\n",
              "  </svg>\n",
              "    </button>\n",
              "\n",
              "  <style>\n",
              "    .colab-df-container {\n",
              "      display:flex;\n",
              "      gap: 12px;\n",
              "    }\n",
              "\n",
              "    .colab-df-convert {\n",
              "      background-color: #E8F0FE;\n",
              "      border: none;\n",
              "      border-radius: 50%;\n",
              "      cursor: pointer;\n",
              "      display: none;\n",
              "      fill: #1967D2;\n",
              "      height: 32px;\n",
              "      padding: 0 0 0 0;\n",
              "      width: 32px;\n",
              "    }\n",
              "\n",
              "    .colab-df-convert:hover {\n",
              "      background-color: #E2EBFA;\n",
              "      box-shadow: 0px 1px 2px rgba(60, 64, 67, 0.3), 0px 1px 3px 1px rgba(60, 64, 67, 0.15);\n",
              "      fill: #174EA6;\n",
              "    }\n",
              "\n",
              "    .colab-df-buttons div {\n",
              "      margin-bottom: 4px;\n",
              "    }\n",
              "\n",
              "    [theme=dark] .colab-df-convert {\n",
              "      background-color: #3B4455;\n",
              "      fill: #D2E3FC;\n",
              "    }\n",
              "\n",
              "    [theme=dark] .colab-df-convert:hover {\n",
              "      background-color: #434B5C;\n",
              "      box-shadow: 0px 1px 3px 1px rgba(0, 0, 0, 0.15);\n",
              "      filter: drop-shadow(0px 1px 2px rgba(0, 0, 0, 0.3));\n",
              "      fill: #FFFFFF;\n",
              "    }\n",
              "  </style>\n",
              "\n",
              "    <script>\n",
              "      const buttonEl =\n",
              "        document.querySelector('#df-a574c069-8947-45a8-b6a9-350a0dbee6ca button.colab-df-convert');\n",
              "      buttonEl.style.display =\n",
              "        google.colab.kernel.accessAllowed ? 'block' : 'none';\n",
              "\n",
              "      async function convertToInteractive(key) {\n",
              "        const element = document.querySelector('#df-a574c069-8947-45a8-b6a9-350a0dbee6ca');\n",
              "        const dataTable =\n",
              "          await google.colab.kernel.invokeFunction('convertToInteractive',\n",
              "                                                    [key], {});\n",
              "        if (!dataTable) return;\n",
              "\n",
              "        const docLinkHtml = 'Like what you see? Visit the ' +\n",
              "          '<a target=\"_blank\" href=https://colab.research.google.com/notebooks/data_table.ipynb>data table notebook</a>'\n",
              "          + ' to learn more about interactive tables.';\n",
              "        element.innerHTML = '';\n",
              "        dataTable['output_type'] = 'display_data';\n",
              "        await google.colab.output.renderOutput(dataTable, element);\n",
              "        const docLink = document.createElement('div');\n",
              "        docLink.innerHTML = docLinkHtml;\n",
              "        element.appendChild(docLink);\n",
              "      }\n",
              "    </script>\n",
              "  </div>\n",
              "\n",
              "\n",
              "<div id=\"df-ad574d61-80b2-4ebd-92ba-aa57008ecb59\">\n",
              "  <button class=\"colab-df-quickchart\" onclick=\"quickchart('df-ad574d61-80b2-4ebd-92ba-aa57008ecb59')\"\n",
              "            title=\"Suggest charts\"\n",
              "            style=\"display:none;\">\n",
              "\n",
              "<svg xmlns=\"http://www.w3.org/2000/svg\" height=\"24px\"viewBox=\"0 0 24 24\"\n",
              "     width=\"24px\">\n",
              "    <g>\n",
              "        <path d=\"M19 3H5c-1.1 0-2 .9-2 2v14c0 1.1.9 2 2 2h14c1.1 0 2-.9 2-2V5c0-1.1-.9-2-2-2zM9 17H7v-7h2v7zm4 0h-2V7h2v10zm4 0h-2v-4h2v4z\"/>\n",
              "    </g>\n",
              "</svg>\n",
              "  </button>\n",
              "\n",
              "<style>\n",
              "  .colab-df-quickchart {\n",
              "      --bg-color: #E8F0FE;\n",
              "      --fill-color: #1967D2;\n",
              "      --hover-bg-color: #E2EBFA;\n",
              "      --hover-fill-color: #174EA6;\n",
              "      --disabled-fill-color: #AAA;\n",
              "      --disabled-bg-color: #DDD;\n",
              "  }\n",
              "\n",
              "  [theme=dark] .colab-df-quickchart {\n",
              "      --bg-color: #3B4455;\n",
              "      --fill-color: #D2E3FC;\n",
              "      --hover-bg-color: #434B5C;\n",
              "      --hover-fill-color: #FFFFFF;\n",
              "      --disabled-bg-color: #3B4455;\n",
              "      --disabled-fill-color: #666;\n",
              "  }\n",
              "\n",
              "  .colab-df-quickchart {\n",
              "    background-color: var(--bg-color);\n",
              "    border: none;\n",
              "    border-radius: 50%;\n",
              "    cursor: pointer;\n",
              "    display: none;\n",
              "    fill: var(--fill-color);\n",
              "    height: 32px;\n",
              "    padding: 0;\n",
              "    width: 32px;\n",
              "  }\n",
              "\n",
              "  .colab-df-quickchart:hover {\n",
              "    background-color: var(--hover-bg-color);\n",
              "    box-shadow: 0 1px 2px rgba(60, 64, 67, 0.3), 0 1px 3px 1px rgba(60, 64, 67, 0.15);\n",
              "    fill: var(--button-hover-fill-color);\n",
              "  }\n",
              "\n",
              "  .colab-df-quickchart-complete:disabled,\n",
              "  .colab-df-quickchart-complete:disabled:hover {\n",
              "    background-color: var(--disabled-bg-color);\n",
              "    fill: var(--disabled-fill-color);\n",
              "    box-shadow: none;\n",
              "  }\n",
              "\n",
              "  .colab-df-spinner {\n",
              "    border: 2px solid var(--fill-color);\n",
              "    border-color: transparent;\n",
              "    border-bottom-color: var(--fill-color);\n",
              "    animation:\n",
              "      spin 1s steps(1) infinite;\n",
              "  }\n",
              "\n",
              "  @keyframes spin {\n",
              "    0% {\n",
              "      border-color: transparent;\n",
              "      border-bottom-color: var(--fill-color);\n",
              "      border-left-color: var(--fill-color);\n",
              "    }\n",
              "    20% {\n",
              "      border-color: transparent;\n",
              "      border-left-color: var(--fill-color);\n",
              "      border-top-color: var(--fill-color);\n",
              "    }\n",
              "    30% {\n",
              "      border-color: transparent;\n",
              "      border-left-color: var(--fill-color);\n",
              "      border-top-color: var(--fill-color);\n",
              "      border-right-color: var(--fill-color);\n",
              "    }\n",
              "    40% {\n",
              "      border-color: transparent;\n",
              "      border-right-color: var(--fill-color);\n",
              "      border-top-color: var(--fill-color);\n",
              "    }\n",
              "    60% {\n",
              "      border-color: transparent;\n",
              "      border-right-color: var(--fill-color);\n",
              "    }\n",
              "    80% {\n",
              "      border-color: transparent;\n",
              "      border-right-color: var(--fill-color);\n",
              "      border-bottom-color: var(--fill-color);\n",
              "    }\n",
              "    90% {\n",
              "      border-color: transparent;\n",
              "      border-bottom-color: var(--fill-color);\n",
              "    }\n",
              "  }\n",
              "</style>\n",
              "\n",
              "  <script>\n",
              "    async function quickchart(key) {\n",
              "      const quickchartButtonEl =\n",
              "        document.querySelector('#' + key + ' button');\n",
              "      quickchartButtonEl.disabled = true;  // To prevent multiple clicks.\n",
              "      quickchartButtonEl.classList.add('colab-df-spinner');\n",
              "      try {\n",
              "        const charts = await google.colab.kernel.invokeFunction(\n",
              "            'suggestCharts', [key], {});\n",
              "      } catch (error) {\n",
              "        console.error('Error during call to suggestCharts:', error);\n",
              "      }\n",
              "      quickchartButtonEl.classList.remove('colab-df-spinner');\n",
              "      quickchartButtonEl.classList.add('colab-df-quickchart-complete');\n",
              "    }\n",
              "    (() => {\n",
              "      let quickchartButtonEl =\n",
              "        document.querySelector('#df-ad574d61-80b2-4ebd-92ba-aa57008ecb59 button');\n",
              "      quickchartButtonEl.style.display =\n",
              "        google.colab.kernel.accessAllowed ? 'block' : 'none';\n",
              "    })();\n",
              "  </script>\n",
              "</div>\n",
              "\n",
              "    </div>\n",
              "  </div>\n"
            ],
            "application/vnd.google.colaboratory.intrinsic+json": {
              "type": "dataframe",
              "variable_name": "datos_transformado",
              "summary": "{\n  \"name\": \"datos_transformado\",\n  \"rows\": 54808,\n  \"fields\": [\n    {\n      \"column\": \"department\",\n      \"properties\": {\n        \"dtype\": \"category\",\n        \"num_unique_values\": 9,\n        \"samples\": [\n          \"HR\",\n          \"Operations\",\n          \"Procurement\"\n        ],\n        \"semantic_type\": \"\",\n        \"description\": \"\"\n      }\n    },\n    {\n      \"column\": \"education\",\n      \"properties\": {\n        \"dtype\": \"category\",\n        \"num_unique_values\": 4,\n        \"samples\": [\n          \"Bachelor's\",\n          \"Below Secondary\",\n          \"Master's & above\"\n        ],\n        \"semantic_type\": \"\",\n        \"description\": \"\"\n      }\n    },\n    {\n      \"column\": \"gender\",\n      \"properties\": {\n        \"dtype\": \"category\",\n        \"num_unique_values\": 2,\n        \"samples\": [\n          \"m\",\n          \"f\"\n        ],\n        \"semantic_type\": \"\",\n        \"description\": \"\"\n      }\n    },\n    {\n      \"column\": \"recruitment_channel\",\n      \"properties\": {\n        \"dtype\": \"category\",\n        \"num_unique_values\": 3,\n        \"samples\": [\n          \"sourcing\",\n          \"other\"\n        ],\n        \"semantic_type\": \"\",\n        \"description\": \"\"\n      }\n    },\n    {\n      \"column\": \"no_of_trainings\",\n      \"properties\": {\n        \"dtype\": \"number\",\n        \"std\": 0,\n        \"min\": 1,\n        \"max\": 10,\n        \"num_unique_values\": 10,\n        \"samples\": [\n          10,\n          2\n        ],\n        \"semantic_type\": \"\",\n        \"description\": \"\"\n      }\n    },\n    {\n      \"column\": \"age\",\n      \"properties\": {\n        \"dtype\": \"number\",\n        \"std\": 7,\n        \"min\": 20,\n        \"max\": 60,\n        \"num_unique_values\": 41,\n        \"samples\": [\n          56,\n          27\n        ],\n        \"semantic_type\": \"\",\n        \"description\": \"\"\n      }\n    },\n    {\n      \"column\": \"previous_year_rating\",\n      \"properties\": {\n        \"dtype\": \"category\",\n        \"num_unique_values\": 6,\n        \"samples\": [\n          5.0,\n          3.0\n        ],\n        \"semantic_type\": \"\",\n        \"description\": \"\"\n      }\n    },\n    {\n      \"column\": \"length_of_service\",\n      \"properties\": {\n        \"dtype\": \"number\",\n        \"std\": 4,\n        \"min\": 1,\n        \"max\": 37,\n        \"num_unique_values\": 35,\n        \"samples\": [\n          31,\n          12\n        ],\n        \"semantic_type\": \"\",\n        \"description\": \"\"\n      }\n    },\n    {\n      \"column\": \"KPIs_met >80%\",\n      \"properties\": {\n        \"dtype\": \"number\",\n        \"std\": 0,\n        \"min\": 0,\n        \"max\": 1,\n        \"num_unique_values\": 2,\n        \"samples\": [\n          0,\n          1\n        ],\n        \"semantic_type\": \"\",\n        \"description\": \"\"\n      }\n    },\n    {\n      \"column\": \"awards_won?\",\n      \"properties\": {\n        \"dtype\": \"number\",\n        \"std\": 0,\n        \"min\": 0,\n        \"max\": 1,\n        \"num_unique_values\": 2,\n        \"samples\": [\n          1,\n          0\n        ],\n        \"semantic_type\": \"\",\n        \"description\": \"\"\n      }\n    },\n    {\n      \"column\": \"avg_training_score\",\n      \"properties\": {\n        \"dtype\": \"number\",\n        \"std\": 13,\n        \"min\": 39,\n        \"max\": 99,\n        \"num_unique_values\": 61,\n        \"samples\": [\n          49,\n          59\n        ],\n        \"semantic_type\": \"\",\n        \"description\": \"\"\n      }\n    },\n    {\n      \"column\": \"is_promoted\",\n      \"properties\": {\n        \"dtype\": \"category\",\n        \"num_unique_values\": 2,\n        \"samples\": [\n          \"PROMOVIDO\",\n          \"NO_PROMOVIDO\"\n        ],\n        \"semantic_type\": \"\",\n        \"description\": \"\"\n      }\n    }\n  ]\n}"
            }
          },
          "metadata": {},
          "execution_count": 15
        }
      ],
      "source": [
        "# Vista general de los primeros 4 elementos\n",
        "pd.set_option('display.max_columns', None)  # Muestra todas las columnas\n",
        "pd.set_option('display.max_rows', 4)       # Muestra hasta 4 filas\n",
        "print(\"\\nPrimeros 4 elementos de los datos:\")\n",
        "datos_transformado.head(4)"
      ]
    },
    {
      "cell_type": "markdown",
      "id": "6a54c115",
      "metadata": {
        "id": "6a54c115"
      },
      "source": [
        "### 4.2. Identificando variables con varianza cero o casi cero"
      ]
    },
    {
      "cell_type": "code",
      "execution_count": 16,
      "id": "273eb045",
      "metadata": {
        "colab": {
          "base_uri": "https://localhost:8080/",
          "height": 316
        },
        "id": "273eb045",
        "outputId": "f3366612-9d62-4a7c-d486-6ccbfb2ab264"
      },
      "outputs": [
        {
          "output_type": "stream",
          "name": "stdout",
          "text": [
            "Variables con baja varianza: ['awards_won?']\n",
            "\n",
            "Primeros 4 elementos de los datos:\n"
          ]
        },
        {
          "output_type": "execute_result",
          "data": {
            "text/plain": [
              "          department         education gender recruitment_channel  \\\n",
              "0  Sales & Marketing  Master's & above      f            sourcing   \n",
              "1         Operations        Bachelor's      m               other   \n",
              "2  Sales & Marketing        Bachelor's      m            sourcing   \n",
              "3  Sales & Marketing        Bachelor's      m               other   \n",
              "\n",
              "   no_of_trainings  age previous_year_rating  length_of_service  \\\n",
              "0                1   35                  5.0                  8   \n",
              "1                1   30                  5.0                  4   \n",
              "2                1   34                  3.0                  7   \n",
              "3                2   39                  1.0                 10   \n",
              "\n",
              "   KPIs_met >80%  avg_training_score   is_promoted  \n",
              "0              1                  49  NO_PROMOVIDO  \n",
              "1              0                  60  NO_PROMOVIDO  \n",
              "2              0                  50  NO_PROMOVIDO  \n",
              "3              0                  50  NO_PROMOVIDO  "
            ],
            "text/html": [
              "\n",
              "  <div id=\"df-610528e5-12b7-45ea-ae89-32068121bd4f\" class=\"colab-df-container\">\n",
              "    <div>\n",
              "<style scoped>\n",
              "    .dataframe tbody tr th:only-of-type {\n",
              "        vertical-align: middle;\n",
              "    }\n",
              "\n",
              "    .dataframe tbody tr th {\n",
              "        vertical-align: top;\n",
              "    }\n",
              "\n",
              "    .dataframe thead th {\n",
              "        text-align: right;\n",
              "    }\n",
              "</style>\n",
              "<table border=\"1\" class=\"dataframe\">\n",
              "  <thead>\n",
              "    <tr style=\"text-align: right;\">\n",
              "      <th></th>\n",
              "      <th>department</th>\n",
              "      <th>education</th>\n",
              "      <th>gender</th>\n",
              "      <th>recruitment_channel</th>\n",
              "      <th>no_of_trainings</th>\n",
              "      <th>age</th>\n",
              "      <th>previous_year_rating</th>\n",
              "      <th>length_of_service</th>\n",
              "      <th>KPIs_met &gt;80%</th>\n",
              "      <th>avg_training_score</th>\n",
              "      <th>is_promoted</th>\n",
              "    </tr>\n",
              "  </thead>\n",
              "  <tbody>\n",
              "    <tr>\n",
              "      <th>0</th>\n",
              "      <td>Sales &amp; Marketing</td>\n",
              "      <td>Master's &amp; above</td>\n",
              "      <td>f</td>\n",
              "      <td>sourcing</td>\n",
              "      <td>1</td>\n",
              "      <td>35</td>\n",
              "      <td>5.0</td>\n",
              "      <td>8</td>\n",
              "      <td>1</td>\n",
              "      <td>49</td>\n",
              "      <td>NO_PROMOVIDO</td>\n",
              "    </tr>\n",
              "    <tr>\n",
              "      <th>1</th>\n",
              "      <td>Operations</td>\n",
              "      <td>Bachelor's</td>\n",
              "      <td>m</td>\n",
              "      <td>other</td>\n",
              "      <td>1</td>\n",
              "      <td>30</td>\n",
              "      <td>5.0</td>\n",
              "      <td>4</td>\n",
              "      <td>0</td>\n",
              "      <td>60</td>\n",
              "      <td>NO_PROMOVIDO</td>\n",
              "    </tr>\n",
              "    <tr>\n",
              "      <th>2</th>\n",
              "      <td>Sales &amp; Marketing</td>\n",
              "      <td>Bachelor's</td>\n",
              "      <td>m</td>\n",
              "      <td>sourcing</td>\n",
              "      <td>1</td>\n",
              "      <td>34</td>\n",
              "      <td>3.0</td>\n",
              "      <td>7</td>\n",
              "      <td>0</td>\n",
              "      <td>50</td>\n",
              "      <td>NO_PROMOVIDO</td>\n",
              "    </tr>\n",
              "    <tr>\n",
              "      <th>3</th>\n",
              "      <td>Sales &amp; Marketing</td>\n",
              "      <td>Bachelor's</td>\n",
              "      <td>m</td>\n",
              "      <td>other</td>\n",
              "      <td>2</td>\n",
              "      <td>39</td>\n",
              "      <td>1.0</td>\n",
              "      <td>10</td>\n",
              "      <td>0</td>\n",
              "      <td>50</td>\n",
              "      <td>NO_PROMOVIDO</td>\n",
              "    </tr>\n",
              "  </tbody>\n",
              "</table>\n",
              "</div>\n",
              "    <div class=\"colab-df-buttons\">\n",
              "\n",
              "  <div class=\"colab-df-container\">\n",
              "    <button class=\"colab-df-convert\" onclick=\"convertToInteractive('df-610528e5-12b7-45ea-ae89-32068121bd4f')\"\n",
              "            title=\"Convert this dataframe to an interactive table.\"\n",
              "            style=\"display:none;\">\n",
              "\n",
              "  <svg xmlns=\"http://www.w3.org/2000/svg\" height=\"24px\" viewBox=\"0 -960 960 960\">\n",
              "    <path d=\"M120-120v-720h720v720H120Zm60-500h600v-160H180v160Zm220 220h160v-160H400v160Zm0 220h160v-160H400v160ZM180-400h160v-160H180v160Zm440 0h160v-160H620v160ZM180-180h160v-160H180v160Zm440 0h160v-160H620v160Z\"/>\n",
              "  </svg>\n",
              "    </button>\n",
              "\n",
              "  <style>\n",
              "    .colab-df-container {\n",
              "      display:flex;\n",
              "      gap: 12px;\n",
              "    }\n",
              "\n",
              "    .colab-df-convert {\n",
              "      background-color: #E8F0FE;\n",
              "      border: none;\n",
              "      border-radius: 50%;\n",
              "      cursor: pointer;\n",
              "      display: none;\n",
              "      fill: #1967D2;\n",
              "      height: 32px;\n",
              "      padding: 0 0 0 0;\n",
              "      width: 32px;\n",
              "    }\n",
              "\n",
              "    .colab-df-convert:hover {\n",
              "      background-color: #E2EBFA;\n",
              "      box-shadow: 0px 1px 2px rgba(60, 64, 67, 0.3), 0px 1px 3px 1px rgba(60, 64, 67, 0.15);\n",
              "      fill: #174EA6;\n",
              "    }\n",
              "\n",
              "    .colab-df-buttons div {\n",
              "      margin-bottom: 4px;\n",
              "    }\n",
              "\n",
              "    [theme=dark] .colab-df-convert {\n",
              "      background-color: #3B4455;\n",
              "      fill: #D2E3FC;\n",
              "    }\n",
              "\n",
              "    [theme=dark] .colab-df-convert:hover {\n",
              "      background-color: #434B5C;\n",
              "      box-shadow: 0px 1px 3px 1px rgba(0, 0, 0, 0.15);\n",
              "      filter: drop-shadow(0px 1px 2px rgba(0, 0, 0, 0.3));\n",
              "      fill: #FFFFFF;\n",
              "    }\n",
              "  </style>\n",
              "\n",
              "    <script>\n",
              "      const buttonEl =\n",
              "        document.querySelector('#df-610528e5-12b7-45ea-ae89-32068121bd4f button.colab-df-convert');\n",
              "      buttonEl.style.display =\n",
              "        google.colab.kernel.accessAllowed ? 'block' : 'none';\n",
              "\n",
              "      async function convertToInteractive(key) {\n",
              "        const element = document.querySelector('#df-610528e5-12b7-45ea-ae89-32068121bd4f');\n",
              "        const dataTable =\n",
              "          await google.colab.kernel.invokeFunction('convertToInteractive',\n",
              "                                                    [key], {});\n",
              "        if (!dataTable) return;\n",
              "\n",
              "        const docLinkHtml = 'Like what you see? Visit the ' +\n",
              "          '<a target=\"_blank\" href=https://colab.research.google.com/notebooks/data_table.ipynb>data table notebook</a>'\n",
              "          + ' to learn more about interactive tables.';\n",
              "        element.innerHTML = '';\n",
              "        dataTable['output_type'] = 'display_data';\n",
              "        await google.colab.output.renderOutput(dataTable, element);\n",
              "        const docLink = document.createElement('div');\n",
              "        docLink.innerHTML = docLinkHtml;\n",
              "        element.appendChild(docLink);\n",
              "      }\n",
              "    </script>\n",
              "  </div>\n",
              "\n",
              "\n",
              "<div id=\"df-e7a34e14-27df-4c3d-a070-969eefe1dd23\">\n",
              "  <button class=\"colab-df-quickchart\" onclick=\"quickchart('df-e7a34e14-27df-4c3d-a070-969eefe1dd23')\"\n",
              "            title=\"Suggest charts\"\n",
              "            style=\"display:none;\">\n",
              "\n",
              "<svg xmlns=\"http://www.w3.org/2000/svg\" height=\"24px\"viewBox=\"0 0 24 24\"\n",
              "     width=\"24px\">\n",
              "    <g>\n",
              "        <path d=\"M19 3H5c-1.1 0-2 .9-2 2v14c0 1.1.9 2 2 2h14c1.1 0 2-.9 2-2V5c0-1.1-.9-2-2-2zM9 17H7v-7h2v7zm4 0h-2V7h2v10zm4 0h-2v-4h2v4z\"/>\n",
              "    </g>\n",
              "</svg>\n",
              "  </button>\n",
              "\n",
              "<style>\n",
              "  .colab-df-quickchart {\n",
              "      --bg-color: #E8F0FE;\n",
              "      --fill-color: #1967D2;\n",
              "      --hover-bg-color: #E2EBFA;\n",
              "      --hover-fill-color: #174EA6;\n",
              "      --disabled-fill-color: #AAA;\n",
              "      --disabled-bg-color: #DDD;\n",
              "  }\n",
              "\n",
              "  [theme=dark] .colab-df-quickchart {\n",
              "      --bg-color: #3B4455;\n",
              "      --fill-color: #D2E3FC;\n",
              "      --hover-bg-color: #434B5C;\n",
              "      --hover-fill-color: #FFFFFF;\n",
              "      --disabled-bg-color: #3B4455;\n",
              "      --disabled-fill-color: #666;\n",
              "  }\n",
              "\n",
              "  .colab-df-quickchart {\n",
              "    background-color: var(--bg-color);\n",
              "    border: none;\n",
              "    border-radius: 50%;\n",
              "    cursor: pointer;\n",
              "    display: none;\n",
              "    fill: var(--fill-color);\n",
              "    height: 32px;\n",
              "    padding: 0;\n",
              "    width: 32px;\n",
              "  }\n",
              "\n",
              "  .colab-df-quickchart:hover {\n",
              "    background-color: var(--hover-bg-color);\n",
              "    box-shadow: 0 1px 2px rgba(60, 64, 67, 0.3), 0 1px 3px 1px rgba(60, 64, 67, 0.15);\n",
              "    fill: var(--button-hover-fill-color);\n",
              "  }\n",
              "\n",
              "  .colab-df-quickchart-complete:disabled,\n",
              "  .colab-df-quickchart-complete:disabled:hover {\n",
              "    background-color: var(--disabled-bg-color);\n",
              "    fill: var(--disabled-fill-color);\n",
              "    box-shadow: none;\n",
              "  }\n",
              "\n",
              "  .colab-df-spinner {\n",
              "    border: 2px solid var(--fill-color);\n",
              "    border-color: transparent;\n",
              "    border-bottom-color: var(--fill-color);\n",
              "    animation:\n",
              "      spin 1s steps(1) infinite;\n",
              "  }\n",
              "\n",
              "  @keyframes spin {\n",
              "    0% {\n",
              "      border-color: transparent;\n",
              "      border-bottom-color: var(--fill-color);\n",
              "      border-left-color: var(--fill-color);\n",
              "    }\n",
              "    20% {\n",
              "      border-color: transparent;\n",
              "      border-left-color: var(--fill-color);\n",
              "      border-top-color: var(--fill-color);\n",
              "    }\n",
              "    30% {\n",
              "      border-color: transparent;\n",
              "      border-left-color: var(--fill-color);\n",
              "      border-top-color: var(--fill-color);\n",
              "      border-right-color: var(--fill-color);\n",
              "    }\n",
              "    40% {\n",
              "      border-color: transparent;\n",
              "      border-right-color: var(--fill-color);\n",
              "      border-top-color: var(--fill-color);\n",
              "    }\n",
              "    60% {\n",
              "      border-color: transparent;\n",
              "      border-right-color: var(--fill-color);\n",
              "    }\n",
              "    80% {\n",
              "      border-color: transparent;\n",
              "      border-right-color: var(--fill-color);\n",
              "      border-bottom-color: var(--fill-color);\n",
              "    }\n",
              "    90% {\n",
              "      border-color: transparent;\n",
              "      border-bottom-color: var(--fill-color);\n",
              "    }\n",
              "  }\n",
              "</style>\n",
              "\n",
              "  <script>\n",
              "    async function quickchart(key) {\n",
              "      const quickchartButtonEl =\n",
              "        document.querySelector('#' + key + ' button');\n",
              "      quickchartButtonEl.disabled = true;  // To prevent multiple clicks.\n",
              "      quickchartButtonEl.classList.add('colab-df-spinner');\n",
              "      try {\n",
              "        const charts = await google.colab.kernel.invokeFunction(\n",
              "            'suggestCharts', [key], {});\n",
              "      } catch (error) {\n",
              "        console.error('Error during call to suggestCharts:', error);\n",
              "      }\n",
              "      quickchartButtonEl.classList.remove('colab-df-spinner');\n",
              "      quickchartButtonEl.classList.add('colab-df-quickchart-complete');\n",
              "    }\n",
              "    (() => {\n",
              "      let quickchartButtonEl =\n",
              "        document.querySelector('#df-e7a34e14-27df-4c3d-a070-969eefe1dd23 button');\n",
              "      quickchartButtonEl.style.display =\n",
              "        google.colab.kernel.accessAllowed ? 'block' : 'none';\n",
              "    })();\n",
              "  </script>\n",
              "</div>\n",
              "\n",
              "    </div>\n",
              "  </div>\n"
            ],
            "application/vnd.google.colaboratory.intrinsic+json": {
              "type": "dataframe",
              "variable_name": "datos_transformado",
              "summary": "{\n  \"name\": \"datos_transformado\",\n  \"rows\": 54808,\n  \"fields\": [\n    {\n      \"column\": \"department\",\n      \"properties\": {\n        \"dtype\": \"category\",\n        \"num_unique_values\": 9,\n        \"samples\": [\n          \"HR\",\n          \"Operations\",\n          \"Procurement\"\n        ],\n        \"semantic_type\": \"\",\n        \"description\": \"\"\n      }\n    },\n    {\n      \"column\": \"education\",\n      \"properties\": {\n        \"dtype\": \"category\",\n        \"num_unique_values\": 4,\n        \"samples\": [\n          \"Bachelor's\",\n          \"Below Secondary\",\n          \"Master's & above\"\n        ],\n        \"semantic_type\": \"\",\n        \"description\": \"\"\n      }\n    },\n    {\n      \"column\": \"gender\",\n      \"properties\": {\n        \"dtype\": \"category\",\n        \"num_unique_values\": 2,\n        \"samples\": [\n          \"m\",\n          \"f\"\n        ],\n        \"semantic_type\": \"\",\n        \"description\": \"\"\n      }\n    },\n    {\n      \"column\": \"recruitment_channel\",\n      \"properties\": {\n        \"dtype\": \"category\",\n        \"num_unique_values\": 3,\n        \"samples\": [\n          \"sourcing\",\n          \"other\"\n        ],\n        \"semantic_type\": \"\",\n        \"description\": \"\"\n      }\n    },\n    {\n      \"column\": \"no_of_trainings\",\n      \"properties\": {\n        \"dtype\": \"number\",\n        \"std\": 0,\n        \"min\": 1,\n        \"max\": 10,\n        \"num_unique_values\": 10,\n        \"samples\": [\n          10,\n          2\n        ],\n        \"semantic_type\": \"\",\n        \"description\": \"\"\n      }\n    },\n    {\n      \"column\": \"age\",\n      \"properties\": {\n        \"dtype\": \"number\",\n        \"std\": 7,\n        \"min\": 20,\n        \"max\": 60,\n        \"num_unique_values\": 41,\n        \"samples\": [\n          56,\n          27\n        ],\n        \"semantic_type\": \"\",\n        \"description\": \"\"\n      }\n    },\n    {\n      \"column\": \"previous_year_rating\",\n      \"properties\": {\n        \"dtype\": \"category\",\n        \"num_unique_values\": 6,\n        \"samples\": [\n          5.0,\n          3.0\n        ],\n        \"semantic_type\": \"\",\n        \"description\": \"\"\n      }\n    },\n    {\n      \"column\": \"length_of_service\",\n      \"properties\": {\n        \"dtype\": \"number\",\n        \"std\": 4,\n        \"min\": 1,\n        \"max\": 37,\n        \"num_unique_values\": 35,\n        \"samples\": [\n          31,\n          12\n        ],\n        \"semantic_type\": \"\",\n        \"description\": \"\"\n      }\n    },\n    {\n      \"column\": \"KPIs_met >80%\",\n      \"properties\": {\n        \"dtype\": \"number\",\n        \"std\": 0,\n        \"min\": 0,\n        \"max\": 1,\n        \"num_unique_values\": 2,\n        \"samples\": [\n          0,\n          1\n        ],\n        \"semantic_type\": \"\",\n        \"description\": \"\"\n      }\n    },\n    {\n      \"column\": \"avg_training_score\",\n      \"properties\": {\n        \"dtype\": \"number\",\n        \"std\": 13,\n        \"min\": 39,\n        \"max\": 99,\n        \"num_unique_values\": 61,\n        \"samples\": [\n          49,\n          59\n        ],\n        \"semantic_type\": \"\",\n        \"description\": \"\"\n      }\n    },\n    {\n      \"column\": \"is_promoted\",\n      \"properties\": {\n        \"dtype\": \"category\",\n        \"num_unique_values\": 2,\n        \"samples\": [\n          \"PROMOVIDO\",\n          \"NO_PROMOVIDO\"\n        ],\n        \"semantic_type\": \"\",\n        \"description\": \"\"\n      }\n    }\n  ]\n}"
            }
          },
          "metadata": {},
          "execution_count": 16
        }
      ],
      "source": [
        "from sklearn.feature_selection import VarianceThreshold\n",
        "\n",
        "# Inicializamos el selector para identificar variables con varianza baja\n",
        "selector = VarianceThreshold(threshold=0.1)\n",
        "selector.fit(datos_transformado.select_dtypes(include=[np.number]))\n",
        "\n",
        "# Identificamos las columnas que se eliminarán\n",
        "low_variance_features = [column for column, keep in zip(datos_transformado.select_dtypes(include=[np.number]).columns, selector.get_support()) if not keep]\n",
        "print(\"Variables con baja varianza:\", low_variance_features)\n",
        "\n",
        "# Eliminamos las columnas de baja varianza identificadas\n",
        "datos_transformado.drop(columns=low_variance_features, inplace=True)\n",
        "\n",
        "# Verificamos la estructura del DataFrame después de la eliminación\n",
        "pd.set_option('display.max_columns', None)  # Muestra todas las columnas\n",
        "pd.set_option('display.max_rows', 4)       # Muestra hasta 4 filas\n",
        "print(\"\\nPrimeros 4 elementos de los datos:\")\n",
        "datos_transformado.head(4)"
      ]
    },
    {
      "cell_type": "markdown",
      "id": "735e273c",
      "metadata": {
        "id": "735e273c"
      },
      "source": [
        "- Se identifico a awards_won con baja varianza, de modo que se elimina."
      ]
    },
    {
      "cell_type": "markdown",
      "id": "dceeb161",
      "metadata": {
        "id": "dceeb161"
      },
      "source": [
        "### 4.3. Normalización de las variables numéricas."
      ]
    },
    {
      "cell_type": "markdown",
      "id": "45b81c44",
      "metadata": {
        "id": "45b81c44"
      },
      "source": [
        "Para garantizar la consistencia en las escalas de las variables, se realiza un escalado Min-Max de las variables numéricas."
      ]
    },
    {
      "cell_type": "code",
      "execution_count": 17,
      "id": "5c1f1b85",
      "metadata": {
        "colab": {
          "base_uri": "https://localhost:8080/"
        },
        "id": "5c1f1b85",
        "outputId": "f9135202-2532-473d-e2aa-282e96ecefc2"
      },
      "outputs": [
        {
          "output_type": "stream",
          "name": "stdout",
          "text": [
            "                age  avg_training_score  length_of_service\n",
            "count  54808.000000        54808.000000       54808.000000\n",
            "mean       0.370098            0.406446           0.135153\n",
            "std        0.191504            0.222859           0.118475\n",
            "min        0.000000            0.000000           0.000000\n",
            "25%        0.225000            0.200000           0.055556\n",
            "50%        0.325000            0.350000           0.111111\n",
            "75%        0.475000            0.616667           0.166667\n",
            "max        1.000000            1.000000           1.000000\n"
          ]
        }
      ],
      "source": [
        "from sklearn.preprocessing import MinMaxScaler\n",
        "\n",
        "# Seleccionamos las columnas numéricas para normalizarlas\n",
        "numerical_columns = ['age', 'avg_training_score', 'length_of_service']\n",
        "\n",
        "# Inicializamos el escalador Min-Max\n",
        "scaler = MinMaxScaler()\n",
        "\n",
        "# Aplicamos la normalización\n",
        "datos_transformado[numerical_columns] = scaler.fit_transform(datos_transformado[numerical_columns])\n",
        "\n",
        "# Verificamos el resumen de las variables normalizadas\n",
        "pd.set_option('display.max_columns', None)  # Muestra todas las columnas\n",
        "pd.set_option('display.max_rows', None)       # Muestra todas las filas\n",
        "print(datos_transformado[numerical_columns].describe())"
      ]
    },
    {
      "cell_type": "markdown",
      "id": "a63d9464",
      "metadata": {
        "id": "a63d9464"
      },
      "source": [
        "### 4.4. Creando variables dummies"
      ]
    },
    {
      "cell_type": "markdown",
      "id": "86cfde8d",
      "metadata": {
        "id": "86cfde8d"
      },
      "source": [
        "Se realiza la transformación de variables categóricas en variables dummies para facilitar el análisis en los modelos de aprendizaje supervisado."
      ]
    },
    {
      "cell_type": "code",
      "execution_count": 18,
      "id": "2564e68e",
      "metadata": {
        "colab": {
          "base_uri": "https://localhost:8080/"
        },
        "id": "2564e68e",
        "outputId": "a6f7533e-eb68-4d02-c771-8504348f93da"
      },
      "outputs": [
        {
          "output_type": "stream",
          "name": "stdout",
          "text": [
            "<class 'pandas.core.frame.DataFrame'>\n",
            "RangeIndex: 54808 entries, 0 to 54807\n",
            "Data columns (total 21 columns):\n",
            " #   Column                        Non-Null Count  Dtype   \n",
            "---  ------                        --------------  -----   \n",
            " 0   no_of_trainings               54808 non-null  int64   \n",
            " 1   age                           54808 non-null  float64 \n",
            " 2   previous_year_rating          54808 non-null  object  \n",
            " 3   length_of_service             54808 non-null  float64 \n",
            " 4   KPIs_met >80%                 54808 non-null  int64   \n",
            " 5   avg_training_score            54808 non-null  float64 \n",
            " 6   is_promoted                   54808 non-null  category\n",
            " 7   department_Finance            54808 non-null  bool    \n",
            " 8   department_HR                 54808 non-null  bool    \n",
            " 9   department_Legal              54808 non-null  bool    \n",
            " 10  department_Operations         54808 non-null  bool    \n",
            " 11  department_Procurement        54808 non-null  bool    \n",
            " 12  department_R&D                54808 non-null  bool    \n",
            " 13  department_Sales & Marketing  54808 non-null  bool    \n",
            " 14  department_Technology         54808 non-null  bool    \n",
            " 15  education_Below Secondary     54808 non-null  bool    \n",
            " 16  education_Master's & above    54808 non-null  bool    \n",
            " 17  education_Sin_información     54808 non-null  bool    \n",
            " 18  gender_m                      54808 non-null  bool    \n",
            " 19  recruitment_channel_referred  54808 non-null  bool    \n",
            " 20  recruitment_channel_sourcing  54808 non-null  bool    \n",
            "dtypes: bool(14), category(1), float64(3), int64(2), object(1)\n",
            "memory usage: 3.3+ MB\n"
          ]
        }
      ],
      "source": [
        "# Creación de variables dummies para las variables categóricas seleccionadas\n",
        "datos_transformado = pd.get_dummies(datos_transformado, columns=['department', 'education',\n",
        "                                                                 'gender', 'recruitment_channel'],\n",
        "                                    drop_first=True)\n",
        "\n",
        "# Verificamos la estructura después de crear las dummies\n",
        "datos_transformado.info()"
      ]
    },
    {
      "cell_type": "code",
      "execution_count": 19,
      "id": "5de61c11",
      "metadata": {
        "colab": {
          "base_uri": "https://localhost:8080/",
          "height": 247
        },
        "id": "5de61c11",
        "outputId": "f7b20bf7-839a-46cb-8da9-549e5994e62a"
      },
      "outputs": [
        {
          "output_type": "stream",
          "name": "stdout",
          "text": [
            "\n",
            "Primeros 4 elementos de los datos:\n"
          ]
        },
        {
          "output_type": "execute_result",
          "data": {
            "text/plain": [
              "   no_of_trainings    age previous_year_rating  length_of_service  \\\n",
              "0                1  0.375                  5.0           0.194444   \n",
              "1                1  0.250                  5.0           0.083333   \n",
              "2                1  0.350                  3.0           0.166667   \n",
              "3                2  0.475                  1.0           0.250000   \n",
              "\n",
              "   KPIs_met >80%  avg_training_score   is_promoted  department_Finance  \\\n",
              "0              1            0.166667  NO_PROMOVIDO               False   \n",
              "1              0            0.350000  NO_PROMOVIDO               False   \n",
              "2              0            0.183333  NO_PROMOVIDO               False   \n",
              "3              0            0.183333  NO_PROMOVIDO               False   \n",
              "\n",
              "   department_HR  department_Legal  department_Operations  \\\n",
              "0          False             False                  False   \n",
              "1          False             False                   True   \n",
              "2          False             False                  False   \n",
              "3          False             False                  False   \n",
              "\n",
              "   department_Procurement  department_R&D  department_Sales & Marketing  \\\n",
              "0                   False           False                          True   \n",
              "1                   False           False                         False   \n",
              "2                   False           False                          True   \n",
              "3                   False           False                          True   \n",
              "\n",
              "   department_Technology  education_Below Secondary  \\\n",
              "0                  False                      False   \n",
              "1                  False                      False   \n",
              "2                  False                      False   \n",
              "3                  False                      False   \n",
              "\n",
              "   education_Master's & above  education_Sin_información  gender_m  \\\n",
              "0                        True                      False     False   \n",
              "1                       False                      False      True   \n",
              "2                       False                      False      True   \n",
              "3                       False                      False      True   \n",
              "\n",
              "   recruitment_channel_referred  recruitment_channel_sourcing  \n",
              "0                         False                          True  \n",
              "1                         False                         False  \n",
              "2                         False                          True  \n",
              "3                         False                         False  "
            ],
            "text/html": [
              "\n",
              "  <div id=\"df-1bca3f67-76a2-4d54-a8e8-7931d9a03dd7\" class=\"colab-df-container\">\n",
              "    <div>\n",
              "<style scoped>\n",
              "    .dataframe tbody tr th:only-of-type {\n",
              "        vertical-align: middle;\n",
              "    }\n",
              "\n",
              "    .dataframe tbody tr th {\n",
              "        vertical-align: top;\n",
              "    }\n",
              "\n",
              "    .dataframe thead th {\n",
              "        text-align: right;\n",
              "    }\n",
              "</style>\n",
              "<table border=\"1\" class=\"dataframe\">\n",
              "  <thead>\n",
              "    <tr style=\"text-align: right;\">\n",
              "      <th></th>\n",
              "      <th>no_of_trainings</th>\n",
              "      <th>age</th>\n",
              "      <th>previous_year_rating</th>\n",
              "      <th>length_of_service</th>\n",
              "      <th>KPIs_met &gt;80%</th>\n",
              "      <th>avg_training_score</th>\n",
              "      <th>is_promoted</th>\n",
              "      <th>department_Finance</th>\n",
              "      <th>department_HR</th>\n",
              "      <th>department_Legal</th>\n",
              "      <th>department_Operations</th>\n",
              "      <th>department_Procurement</th>\n",
              "      <th>department_R&amp;D</th>\n",
              "      <th>department_Sales &amp; Marketing</th>\n",
              "      <th>department_Technology</th>\n",
              "      <th>education_Below Secondary</th>\n",
              "      <th>education_Master's &amp; above</th>\n",
              "      <th>education_Sin_información</th>\n",
              "      <th>gender_m</th>\n",
              "      <th>recruitment_channel_referred</th>\n",
              "      <th>recruitment_channel_sourcing</th>\n",
              "    </tr>\n",
              "  </thead>\n",
              "  <tbody>\n",
              "    <tr>\n",
              "      <th>0</th>\n",
              "      <td>1</td>\n",
              "      <td>0.375</td>\n",
              "      <td>5.0</td>\n",
              "      <td>0.194444</td>\n",
              "      <td>1</td>\n",
              "      <td>0.166667</td>\n",
              "      <td>NO_PROMOVIDO</td>\n",
              "      <td>False</td>\n",
              "      <td>False</td>\n",
              "      <td>False</td>\n",
              "      <td>False</td>\n",
              "      <td>False</td>\n",
              "      <td>False</td>\n",
              "      <td>True</td>\n",
              "      <td>False</td>\n",
              "      <td>False</td>\n",
              "      <td>True</td>\n",
              "      <td>False</td>\n",
              "      <td>False</td>\n",
              "      <td>False</td>\n",
              "      <td>True</td>\n",
              "    </tr>\n",
              "    <tr>\n",
              "      <th>1</th>\n",
              "      <td>1</td>\n",
              "      <td>0.250</td>\n",
              "      <td>5.0</td>\n",
              "      <td>0.083333</td>\n",
              "      <td>0</td>\n",
              "      <td>0.350000</td>\n",
              "      <td>NO_PROMOVIDO</td>\n",
              "      <td>False</td>\n",
              "      <td>False</td>\n",
              "      <td>False</td>\n",
              "      <td>True</td>\n",
              "      <td>False</td>\n",
              "      <td>False</td>\n",
              "      <td>False</td>\n",
              "      <td>False</td>\n",
              "      <td>False</td>\n",
              "      <td>False</td>\n",
              "      <td>False</td>\n",
              "      <td>True</td>\n",
              "      <td>False</td>\n",
              "      <td>False</td>\n",
              "    </tr>\n",
              "    <tr>\n",
              "      <th>2</th>\n",
              "      <td>1</td>\n",
              "      <td>0.350</td>\n",
              "      <td>3.0</td>\n",
              "      <td>0.166667</td>\n",
              "      <td>0</td>\n",
              "      <td>0.183333</td>\n",
              "      <td>NO_PROMOVIDO</td>\n",
              "      <td>False</td>\n",
              "      <td>False</td>\n",
              "      <td>False</td>\n",
              "      <td>False</td>\n",
              "      <td>False</td>\n",
              "      <td>False</td>\n",
              "      <td>True</td>\n",
              "      <td>False</td>\n",
              "      <td>False</td>\n",
              "      <td>False</td>\n",
              "      <td>False</td>\n",
              "      <td>True</td>\n",
              "      <td>False</td>\n",
              "      <td>True</td>\n",
              "    </tr>\n",
              "    <tr>\n",
              "      <th>3</th>\n",
              "      <td>2</td>\n",
              "      <td>0.475</td>\n",
              "      <td>1.0</td>\n",
              "      <td>0.250000</td>\n",
              "      <td>0</td>\n",
              "      <td>0.183333</td>\n",
              "      <td>NO_PROMOVIDO</td>\n",
              "      <td>False</td>\n",
              "      <td>False</td>\n",
              "      <td>False</td>\n",
              "      <td>False</td>\n",
              "      <td>False</td>\n",
              "      <td>False</td>\n",
              "      <td>True</td>\n",
              "      <td>False</td>\n",
              "      <td>False</td>\n",
              "      <td>False</td>\n",
              "      <td>False</td>\n",
              "      <td>True</td>\n",
              "      <td>False</td>\n",
              "      <td>False</td>\n",
              "    </tr>\n",
              "  </tbody>\n",
              "</table>\n",
              "</div>\n",
              "    <div class=\"colab-df-buttons\">\n",
              "\n",
              "  <div class=\"colab-df-container\">\n",
              "    <button class=\"colab-df-convert\" onclick=\"convertToInteractive('df-1bca3f67-76a2-4d54-a8e8-7931d9a03dd7')\"\n",
              "            title=\"Convert this dataframe to an interactive table.\"\n",
              "            style=\"display:none;\">\n",
              "\n",
              "  <svg xmlns=\"http://www.w3.org/2000/svg\" height=\"24px\" viewBox=\"0 -960 960 960\">\n",
              "    <path d=\"M120-120v-720h720v720H120Zm60-500h600v-160H180v160Zm220 220h160v-160H400v160Zm0 220h160v-160H400v160ZM180-400h160v-160H180v160Zm440 0h160v-160H620v160ZM180-180h160v-160H180v160Zm440 0h160v-160H620v160Z\"/>\n",
              "  </svg>\n",
              "    </button>\n",
              "\n",
              "  <style>\n",
              "    .colab-df-container {\n",
              "      display:flex;\n",
              "      gap: 12px;\n",
              "    }\n",
              "\n",
              "    .colab-df-convert {\n",
              "      background-color: #E8F0FE;\n",
              "      border: none;\n",
              "      border-radius: 50%;\n",
              "      cursor: pointer;\n",
              "      display: none;\n",
              "      fill: #1967D2;\n",
              "      height: 32px;\n",
              "      padding: 0 0 0 0;\n",
              "      width: 32px;\n",
              "    }\n",
              "\n",
              "    .colab-df-convert:hover {\n",
              "      background-color: #E2EBFA;\n",
              "      box-shadow: 0px 1px 2px rgba(60, 64, 67, 0.3), 0px 1px 3px 1px rgba(60, 64, 67, 0.15);\n",
              "      fill: #174EA6;\n",
              "    }\n",
              "\n",
              "    .colab-df-buttons div {\n",
              "      margin-bottom: 4px;\n",
              "    }\n",
              "\n",
              "    [theme=dark] .colab-df-convert {\n",
              "      background-color: #3B4455;\n",
              "      fill: #D2E3FC;\n",
              "    }\n",
              "\n",
              "    [theme=dark] .colab-df-convert:hover {\n",
              "      background-color: #434B5C;\n",
              "      box-shadow: 0px 1px 3px 1px rgba(0, 0, 0, 0.15);\n",
              "      filter: drop-shadow(0px 1px 2px rgba(0, 0, 0, 0.3));\n",
              "      fill: #FFFFFF;\n",
              "    }\n",
              "  </style>\n",
              "\n",
              "    <script>\n",
              "      const buttonEl =\n",
              "        document.querySelector('#df-1bca3f67-76a2-4d54-a8e8-7931d9a03dd7 button.colab-df-convert');\n",
              "      buttonEl.style.display =\n",
              "        google.colab.kernel.accessAllowed ? 'block' : 'none';\n",
              "\n",
              "      async function convertToInteractive(key) {\n",
              "        const element = document.querySelector('#df-1bca3f67-76a2-4d54-a8e8-7931d9a03dd7');\n",
              "        const dataTable =\n",
              "          await google.colab.kernel.invokeFunction('convertToInteractive',\n",
              "                                                    [key], {});\n",
              "        if (!dataTable) return;\n",
              "\n",
              "        const docLinkHtml = 'Like what you see? Visit the ' +\n",
              "          '<a target=\"_blank\" href=https://colab.research.google.com/notebooks/data_table.ipynb>data table notebook</a>'\n",
              "          + ' to learn more about interactive tables.';\n",
              "        element.innerHTML = '';\n",
              "        dataTable['output_type'] = 'display_data';\n",
              "        await google.colab.output.renderOutput(dataTable, element);\n",
              "        const docLink = document.createElement('div');\n",
              "        docLink.innerHTML = docLinkHtml;\n",
              "        element.appendChild(docLink);\n",
              "      }\n",
              "    </script>\n",
              "  </div>\n",
              "\n",
              "\n",
              "<div id=\"df-ebe20ddf-93fa-471a-8bad-4990c4518a24\">\n",
              "  <button class=\"colab-df-quickchart\" onclick=\"quickchart('df-ebe20ddf-93fa-471a-8bad-4990c4518a24')\"\n",
              "            title=\"Suggest charts\"\n",
              "            style=\"display:none;\">\n",
              "\n",
              "<svg xmlns=\"http://www.w3.org/2000/svg\" height=\"24px\"viewBox=\"0 0 24 24\"\n",
              "     width=\"24px\">\n",
              "    <g>\n",
              "        <path d=\"M19 3H5c-1.1 0-2 .9-2 2v14c0 1.1.9 2 2 2h14c1.1 0 2-.9 2-2V5c0-1.1-.9-2-2-2zM9 17H7v-7h2v7zm4 0h-2V7h2v10zm4 0h-2v-4h2v4z\"/>\n",
              "    </g>\n",
              "</svg>\n",
              "  </button>\n",
              "\n",
              "<style>\n",
              "  .colab-df-quickchart {\n",
              "      --bg-color: #E8F0FE;\n",
              "      --fill-color: #1967D2;\n",
              "      --hover-bg-color: #E2EBFA;\n",
              "      --hover-fill-color: #174EA6;\n",
              "      --disabled-fill-color: #AAA;\n",
              "      --disabled-bg-color: #DDD;\n",
              "  }\n",
              "\n",
              "  [theme=dark] .colab-df-quickchart {\n",
              "      --bg-color: #3B4455;\n",
              "      --fill-color: #D2E3FC;\n",
              "      --hover-bg-color: #434B5C;\n",
              "      --hover-fill-color: #FFFFFF;\n",
              "      --disabled-bg-color: #3B4455;\n",
              "      --disabled-fill-color: #666;\n",
              "  }\n",
              "\n",
              "  .colab-df-quickchart {\n",
              "    background-color: var(--bg-color);\n",
              "    border: none;\n",
              "    border-radius: 50%;\n",
              "    cursor: pointer;\n",
              "    display: none;\n",
              "    fill: var(--fill-color);\n",
              "    height: 32px;\n",
              "    padding: 0;\n",
              "    width: 32px;\n",
              "  }\n",
              "\n",
              "  .colab-df-quickchart:hover {\n",
              "    background-color: var(--hover-bg-color);\n",
              "    box-shadow: 0 1px 2px rgba(60, 64, 67, 0.3), 0 1px 3px 1px rgba(60, 64, 67, 0.15);\n",
              "    fill: var(--button-hover-fill-color);\n",
              "  }\n",
              "\n",
              "  .colab-df-quickchart-complete:disabled,\n",
              "  .colab-df-quickchart-complete:disabled:hover {\n",
              "    background-color: var(--disabled-bg-color);\n",
              "    fill: var(--disabled-fill-color);\n",
              "    box-shadow: none;\n",
              "  }\n",
              "\n",
              "  .colab-df-spinner {\n",
              "    border: 2px solid var(--fill-color);\n",
              "    border-color: transparent;\n",
              "    border-bottom-color: var(--fill-color);\n",
              "    animation:\n",
              "      spin 1s steps(1) infinite;\n",
              "  }\n",
              "\n",
              "  @keyframes spin {\n",
              "    0% {\n",
              "      border-color: transparent;\n",
              "      border-bottom-color: var(--fill-color);\n",
              "      border-left-color: var(--fill-color);\n",
              "    }\n",
              "    20% {\n",
              "      border-color: transparent;\n",
              "      border-left-color: var(--fill-color);\n",
              "      border-top-color: var(--fill-color);\n",
              "    }\n",
              "    30% {\n",
              "      border-color: transparent;\n",
              "      border-left-color: var(--fill-color);\n",
              "      border-top-color: var(--fill-color);\n",
              "      border-right-color: var(--fill-color);\n",
              "    }\n",
              "    40% {\n",
              "      border-color: transparent;\n",
              "      border-right-color: var(--fill-color);\n",
              "      border-top-color: var(--fill-color);\n",
              "    }\n",
              "    60% {\n",
              "      border-color: transparent;\n",
              "      border-right-color: var(--fill-color);\n",
              "    }\n",
              "    80% {\n",
              "      border-color: transparent;\n",
              "      border-right-color: var(--fill-color);\n",
              "      border-bottom-color: var(--fill-color);\n",
              "    }\n",
              "    90% {\n",
              "      border-color: transparent;\n",
              "      border-bottom-color: var(--fill-color);\n",
              "    }\n",
              "  }\n",
              "</style>\n",
              "\n",
              "  <script>\n",
              "    async function quickchart(key) {\n",
              "      const quickchartButtonEl =\n",
              "        document.querySelector('#' + key + ' button');\n",
              "      quickchartButtonEl.disabled = true;  // To prevent multiple clicks.\n",
              "      quickchartButtonEl.classList.add('colab-df-spinner');\n",
              "      try {\n",
              "        const charts = await google.colab.kernel.invokeFunction(\n",
              "            'suggestCharts', [key], {});\n",
              "      } catch (error) {\n",
              "        console.error('Error during call to suggestCharts:', error);\n",
              "      }\n",
              "      quickchartButtonEl.classList.remove('colab-df-spinner');\n",
              "      quickchartButtonEl.classList.add('colab-df-quickchart-complete');\n",
              "    }\n",
              "    (() => {\n",
              "      let quickchartButtonEl =\n",
              "        document.querySelector('#df-ebe20ddf-93fa-471a-8bad-4990c4518a24 button');\n",
              "      quickchartButtonEl.style.display =\n",
              "        google.colab.kernel.accessAllowed ? 'block' : 'none';\n",
              "    })();\n",
              "  </script>\n",
              "</div>\n",
              "\n",
              "    </div>\n",
              "  </div>\n"
            ],
            "application/vnd.google.colaboratory.intrinsic+json": {
              "type": "dataframe",
              "variable_name": "datos_transformado"
            }
          },
          "metadata": {},
          "execution_count": 19
        }
      ],
      "source": [
        "# Vista general de los primeros 4 elementos\n",
        "pd.set_option('display.max_columns', None)  # Muestra todas las columnas\n",
        "pd.set_option('display.max_rows', 4)       # Muestra hasta 4 filas\n",
        "print(\"\\nPrimeros 4 elementos de los datos:\")\n",
        "datos_transformado.head(4)"
      ]
    },
    {
      "cell_type": "markdown",
      "id": "9b5d3986",
      "metadata": {
        "id": "9b5d3986"
      },
      "source": [
        "### 4.5. Identificando predictores correlacionados"
      ]
    },
    {
      "cell_type": "code",
      "execution_count": 20,
      "id": "0e36a435",
      "metadata": {
        "colab": {
          "base_uri": "https://localhost:8080/"
        },
        "id": "0e36a435",
        "outputId": "7b0a53f2-a1e7-49e2-8cd8-7f334f2d1222"
      },
      "outputs": [
        {
          "output_type": "stream",
          "name": "stdout",
          "text": [
            "Resumen de los valores de correlación:\n",
            "count    15.000000\n",
            "mean      0.069493\n",
            "std       0.196564\n",
            "min      -0.081278\n",
            "25%      -0.052827\n",
            "50%      -0.025592\n",
            "75%       0.128163\n",
            "max       0.657111\n",
            "dtype: float64\n"
          ]
        }
      ],
      "source": [
        "import pandas as pd\n",
        "import numpy as np\n",
        "\n",
        "# Calculamos la matriz de correlación para las columnas de interés\n",
        "descr_cor = datos_transformado.iloc[:, :6].corr()\n",
        "\n",
        "# Extraemos la parte superior de la matriz de correlación (similar a 'upper.tri' en R)\n",
        "upper_tri = descr_cor.where(np.triu(np.ones(descr_cor.shape), k=1).astype(bool))\n",
        "\n",
        "# Resumen de los valores de correlación\n",
        "correlation_values = upper_tri.stack()\n",
        "pd.set_option('display.max_columns', None)  # Muestra todas las columnas\n",
        "pd.set_option('display.max_rows', None)       # Muestra todas las filas\n",
        "print(\"Resumen de los valores de correlación:\")\n",
        "print(correlation_values.describe())"
      ]
    },
    {
      "cell_type": "code",
      "execution_count": 21,
      "id": "3e4ec65d",
      "metadata": {
        "colab": {
          "base_uri": "https://localhost:8080/"
        },
        "id": "3e4ec65d",
        "outputId": "2decd8e3-872a-4a83-ddea-db0bd8575d87"
      },
      "outputs": [
        {
          "output_type": "stream",
          "name": "stdout",
          "text": [
            "\n",
            "Variables con alta correlación:\n",
            "['length_of_service']\n"
          ]
        }
      ],
      "source": [
        "# Encontrando las columnas con alta correlación (similar a 'findCorrelation' en R)\n",
        "threshold = 0.40\n",
        "high_corr = [column for column in upper_tri.columns if any(upper_tri[column].abs() > threshold)]\n",
        "\n",
        "# Mostramos las variables con alta correlación\n",
        "print(\"\\nVariables con alta correlación:\")\n",
        "print(high_corr)"
      ]
    },
    {
      "cell_type": "markdown",
      "id": "e3b38fec",
      "metadata": {
        "id": "e3b38fec"
      },
      "source": [
        "**Análisis de correlaciones (multicolinealidad):**  \n",
        "Se analiza la correlación entre las variables numéricas para identificar posibles relaciones de multicolinealidad. La variable `length_of_service` mostró alta correlación y por lo tanto será eliminada del análisis."
      ]
    },
    {
      "cell_type": "code",
      "execution_count": 22,
      "id": "649e0f14",
      "metadata": {
        "colab": {
          "base_uri": "https://localhost:8080/",
          "height": 281
        },
        "id": "649e0f14",
        "outputId": "e7a5e8b5-8077-41e3-e717-48d29b460fd3"
      },
      "outputs": [
        {
          "output_type": "stream",
          "name": "stdout",
          "text": [
            "\n",
            "Columna 'length_of_service' eliminada.\n",
            "\n",
            "Primeros 4 elementos de los datos:\n"
          ]
        },
        {
          "output_type": "execute_result",
          "data": {
            "text/plain": [
              "   no_of_trainings    age previous_year_rating  KPIs_met >80%  \\\n",
              "0                1  0.375                  5.0              1   \n",
              "1                1  0.250                  5.0              0   \n",
              "2                1  0.350                  3.0              0   \n",
              "3                2  0.475                  1.0              0   \n",
              "\n",
              "   avg_training_score   is_promoted  department_Finance  department_HR  \\\n",
              "0            0.166667  NO_PROMOVIDO               False          False   \n",
              "1            0.350000  NO_PROMOVIDO               False          False   \n",
              "2            0.183333  NO_PROMOVIDO               False          False   \n",
              "3            0.183333  NO_PROMOVIDO               False          False   \n",
              "\n",
              "   department_Legal  department_Operations  department_Procurement  \\\n",
              "0             False                  False                   False   \n",
              "1             False                   True                   False   \n",
              "2             False                  False                   False   \n",
              "3             False                  False                   False   \n",
              "\n",
              "   department_R&D  department_Sales & Marketing  department_Technology  \\\n",
              "0           False                          True                  False   \n",
              "1           False                         False                  False   \n",
              "2           False                          True                  False   \n",
              "3           False                          True                  False   \n",
              "\n",
              "   education_Below Secondary  education_Master's & above  \\\n",
              "0                      False                        True   \n",
              "1                      False                       False   \n",
              "2                      False                       False   \n",
              "3                      False                       False   \n",
              "\n",
              "   education_Sin_información  gender_m  recruitment_channel_referred  \\\n",
              "0                      False     False                         False   \n",
              "1                      False      True                         False   \n",
              "2                      False      True                         False   \n",
              "3                      False      True                         False   \n",
              "\n",
              "   recruitment_channel_sourcing  \n",
              "0                          True  \n",
              "1                         False  \n",
              "2                          True  \n",
              "3                         False  "
            ],
            "text/html": [
              "\n",
              "  <div id=\"df-2d69720f-c214-4849-8a2b-494e0b363847\" class=\"colab-df-container\">\n",
              "    <div>\n",
              "<style scoped>\n",
              "    .dataframe tbody tr th:only-of-type {\n",
              "        vertical-align: middle;\n",
              "    }\n",
              "\n",
              "    .dataframe tbody tr th {\n",
              "        vertical-align: top;\n",
              "    }\n",
              "\n",
              "    .dataframe thead th {\n",
              "        text-align: right;\n",
              "    }\n",
              "</style>\n",
              "<table border=\"1\" class=\"dataframe\">\n",
              "  <thead>\n",
              "    <tr style=\"text-align: right;\">\n",
              "      <th></th>\n",
              "      <th>no_of_trainings</th>\n",
              "      <th>age</th>\n",
              "      <th>previous_year_rating</th>\n",
              "      <th>KPIs_met &gt;80%</th>\n",
              "      <th>avg_training_score</th>\n",
              "      <th>is_promoted</th>\n",
              "      <th>department_Finance</th>\n",
              "      <th>department_HR</th>\n",
              "      <th>department_Legal</th>\n",
              "      <th>department_Operations</th>\n",
              "      <th>department_Procurement</th>\n",
              "      <th>department_R&amp;D</th>\n",
              "      <th>department_Sales &amp; Marketing</th>\n",
              "      <th>department_Technology</th>\n",
              "      <th>education_Below Secondary</th>\n",
              "      <th>education_Master's &amp; above</th>\n",
              "      <th>education_Sin_información</th>\n",
              "      <th>gender_m</th>\n",
              "      <th>recruitment_channel_referred</th>\n",
              "      <th>recruitment_channel_sourcing</th>\n",
              "    </tr>\n",
              "  </thead>\n",
              "  <tbody>\n",
              "    <tr>\n",
              "      <th>0</th>\n",
              "      <td>1</td>\n",
              "      <td>0.375</td>\n",
              "      <td>5.0</td>\n",
              "      <td>1</td>\n",
              "      <td>0.166667</td>\n",
              "      <td>NO_PROMOVIDO</td>\n",
              "      <td>False</td>\n",
              "      <td>False</td>\n",
              "      <td>False</td>\n",
              "      <td>False</td>\n",
              "      <td>False</td>\n",
              "      <td>False</td>\n",
              "      <td>True</td>\n",
              "      <td>False</td>\n",
              "      <td>False</td>\n",
              "      <td>True</td>\n",
              "      <td>False</td>\n",
              "      <td>False</td>\n",
              "      <td>False</td>\n",
              "      <td>True</td>\n",
              "    </tr>\n",
              "    <tr>\n",
              "      <th>1</th>\n",
              "      <td>1</td>\n",
              "      <td>0.250</td>\n",
              "      <td>5.0</td>\n",
              "      <td>0</td>\n",
              "      <td>0.350000</td>\n",
              "      <td>NO_PROMOVIDO</td>\n",
              "      <td>False</td>\n",
              "      <td>False</td>\n",
              "      <td>False</td>\n",
              "      <td>True</td>\n",
              "      <td>False</td>\n",
              "      <td>False</td>\n",
              "      <td>False</td>\n",
              "      <td>False</td>\n",
              "      <td>False</td>\n",
              "      <td>False</td>\n",
              "      <td>False</td>\n",
              "      <td>True</td>\n",
              "      <td>False</td>\n",
              "      <td>False</td>\n",
              "    </tr>\n",
              "    <tr>\n",
              "      <th>2</th>\n",
              "      <td>1</td>\n",
              "      <td>0.350</td>\n",
              "      <td>3.0</td>\n",
              "      <td>0</td>\n",
              "      <td>0.183333</td>\n",
              "      <td>NO_PROMOVIDO</td>\n",
              "      <td>False</td>\n",
              "      <td>False</td>\n",
              "      <td>False</td>\n",
              "      <td>False</td>\n",
              "      <td>False</td>\n",
              "      <td>False</td>\n",
              "      <td>True</td>\n",
              "      <td>False</td>\n",
              "      <td>False</td>\n",
              "      <td>False</td>\n",
              "      <td>False</td>\n",
              "      <td>True</td>\n",
              "      <td>False</td>\n",
              "      <td>True</td>\n",
              "    </tr>\n",
              "    <tr>\n",
              "      <th>3</th>\n",
              "      <td>2</td>\n",
              "      <td>0.475</td>\n",
              "      <td>1.0</td>\n",
              "      <td>0</td>\n",
              "      <td>0.183333</td>\n",
              "      <td>NO_PROMOVIDO</td>\n",
              "      <td>False</td>\n",
              "      <td>False</td>\n",
              "      <td>False</td>\n",
              "      <td>False</td>\n",
              "      <td>False</td>\n",
              "      <td>False</td>\n",
              "      <td>True</td>\n",
              "      <td>False</td>\n",
              "      <td>False</td>\n",
              "      <td>False</td>\n",
              "      <td>False</td>\n",
              "      <td>True</td>\n",
              "      <td>False</td>\n",
              "      <td>False</td>\n",
              "    </tr>\n",
              "  </tbody>\n",
              "</table>\n",
              "</div>\n",
              "    <div class=\"colab-df-buttons\">\n",
              "\n",
              "  <div class=\"colab-df-container\">\n",
              "    <button class=\"colab-df-convert\" onclick=\"convertToInteractive('df-2d69720f-c214-4849-8a2b-494e0b363847')\"\n",
              "            title=\"Convert this dataframe to an interactive table.\"\n",
              "            style=\"display:none;\">\n",
              "\n",
              "  <svg xmlns=\"http://www.w3.org/2000/svg\" height=\"24px\" viewBox=\"0 -960 960 960\">\n",
              "    <path d=\"M120-120v-720h720v720H120Zm60-500h600v-160H180v160Zm220 220h160v-160H400v160Zm0 220h160v-160H400v160ZM180-400h160v-160H180v160Zm440 0h160v-160H620v160ZM180-180h160v-160H180v160Zm440 0h160v-160H620v160Z\"/>\n",
              "  </svg>\n",
              "    </button>\n",
              "\n",
              "  <style>\n",
              "    .colab-df-container {\n",
              "      display:flex;\n",
              "      gap: 12px;\n",
              "    }\n",
              "\n",
              "    .colab-df-convert {\n",
              "      background-color: #E8F0FE;\n",
              "      border: none;\n",
              "      border-radius: 50%;\n",
              "      cursor: pointer;\n",
              "      display: none;\n",
              "      fill: #1967D2;\n",
              "      height: 32px;\n",
              "      padding: 0 0 0 0;\n",
              "      width: 32px;\n",
              "    }\n",
              "\n",
              "    .colab-df-convert:hover {\n",
              "      background-color: #E2EBFA;\n",
              "      box-shadow: 0px 1px 2px rgba(60, 64, 67, 0.3), 0px 1px 3px 1px rgba(60, 64, 67, 0.15);\n",
              "      fill: #174EA6;\n",
              "    }\n",
              "\n",
              "    .colab-df-buttons div {\n",
              "      margin-bottom: 4px;\n",
              "    }\n",
              "\n",
              "    [theme=dark] .colab-df-convert {\n",
              "      background-color: #3B4455;\n",
              "      fill: #D2E3FC;\n",
              "    }\n",
              "\n",
              "    [theme=dark] .colab-df-convert:hover {\n",
              "      background-color: #434B5C;\n",
              "      box-shadow: 0px 1px 3px 1px rgba(0, 0, 0, 0.15);\n",
              "      filter: drop-shadow(0px 1px 2px rgba(0, 0, 0, 0.3));\n",
              "      fill: #FFFFFF;\n",
              "    }\n",
              "  </style>\n",
              "\n",
              "    <script>\n",
              "      const buttonEl =\n",
              "        document.querySelector('#df-2d69720f-c214-4849-8a2b-494e0b363847 button.colab-df-convert');\n",
              "      buttonEl.style.display =\n",
              "        google.colab.kernel.accessAllowed ? 'block' : 'none';\n",
              "\n",
              "      async function convertToInteractive(key) {\n",
              "        const element = document.querySelector('#df-2d69720f-c214-4849-8a2b-494e0b363847');\n",
              "        const dataTable =\n",
              "          await google.colab.kernel.invokeFunction('convertToInteractive',\n",
              "                                                    [key], {});\n",
              "        if (!dataTable) return;\n",
              "\n",
              "        const docLinkHtml = 'Like what you see? Visit the ' +\n",
              "          '<a target=\"_blank\" href=https://colab.research.google.com/notebooks/data_table.ipynb>data table notebook</a>'\n",
              "          + ' to learn more about interactive tables.';\n",
              "        element.innerHTML = '';\n",
              "        dataTable['output_type'] = 'display_data';\n",
              "        await google.colab.output.renderOutput(dataTable, element);\n",
              "        const docLink = document.createElement('div');\n",
              "        docLink.innerHTML = docLinkHtml;\n",
              "        element.appendChild(docLink);\n",
              "      }\n",
              "    </script>\n",
              "  </div>\n",
              "\n",
              "\n",
              "<div id=\"df-a7f6a080-74f1-48f2-9159-30355c95139a\">\n",
              "  <button class=\"colab-df-quickchart\" onclick=\"quickchart('df-a7f6a080-74f1-48f2-9159-30355c95139a')\"\n",
              "            title=\"Suggest charts\"\n",
              "            style=\"display:none;\">\n",
              "\n",
              "<svg xmlns=\"http://www.w3.org/2000/svg\" height=\"24px\"viewBox=\"0 0 24 24\"\n",
              "     width=\"24px\">\n",
              "    <g>\n",
              "        <path d=\"M19 3H5c-1.1 0-2 .9-2 2v14c0 1.1.9 2 2 2h14c1.1 0 2-.9 2-2V5c0-1.1-.9-2-2-2zM9 17H7v-7h2v7zm4 0h-2V7h2v10zm4 0h-2v-4h2v4z\"/>\n",
              "    </g>\n",
              "</svg>\n",
              "  </button>\n",
              "\n",
              "<style>\n",
              "  .colab-df-quickchart {\n",
              "      --bg-color: #E8F0FE;\n",
              "      --fill-color: #1967D2;\n",
              "      --hover-bg-color: #E2EBFA;\n",
              "      --hover-fill-color: #174EA6;\n",
              "      --disabled-fill-color: #AAA;\n",
              "      --disabled-bg-color: #DDD;\n",
              "  }\n",
              "\n",
              "  [theme=dark] .colab-df-quickchart {\n",
              "      --bg-color: #3B4455;\n",
              "      --fill-color: #D2E3FC;\n",
              "      --hover-bg-color: #434B5C;\n",
              "      --hover-fill-color: #FFFFFF;\n",
              "      --disabled-bg-color: #3B4455;\n",
              "      --disabled-fill-color: #666;\n",
              "  }\n",
              "\n",
              "  .colab-df-quickchart {\n",
              "    background-color: var(--bg-color);\n",
              "    border: none;\n",
              "    border-radius: 50%;\n",
              "    cursor: pointer;\n",
              "    display: none;\n",
              "    fill: var(--fill-color);\n",
              "    height: 32px;\n",
              "    padding: 0;\n",
              "    width: 32px;\n",
              "  }\n",
              "\n",
              "  .colab-df-quickchart:hover {\n",
              "    background-color: var(--hover-bg-color);\n",
              "    box-shadow: 0 1px 2px rgba(60, 64, 67, 0.3), 0 1px 3px 1px rgba(60, 64, 67, 0.15);\n",
              "    fill: var(--button-hover-fill-color);\n",
              "  }\n",
              "\n",
              "  .colab-df-quickchart-complete:disabled,\n",
              "  .colab-df-quickchart-complete:disabled:hover {\n",
              "    background-color: var(--disabled-bg-color);\n",
              "    fill: var(--disabled-fill-color);\n",
              "    box-shadow: none;\n",
              "  }\n",
              "\n",
              "  .colab-df-spinner {\n",
              "    border: 2px solid var(--fill-color);\n",
              "    border-color: transparent;\n",
              "    border-bottom-color: var(--fill-color);\n",
              "    animation:\n",
              "      spin 1s steps(1) infinite;\n",
              "  }\n",
              "\n",
              "  @keyframes spin {\n",
              "    0% {\n",
              "      border-color: transparent;\n",
              "      border-bottom-color: var(--fill-color);\n",
              "      border-left-color: var(--fill-color);\n",
              "    }\n",
              "    20% {\n",
              "      border-color: transparent;\n",
              "      border-left-color: var(--fill-color);\n",
              "      border-top-color: var(--fill-color);\n",
              "    }\n",
              "    30% {\n",
              "      border-color: transparent;\n",
              "      border-left-color: var(--fill-color);\n",
              "      border-top-color: var(--fill-color);\n",
              "      border-right-color: var(--fill-color);\n",
              "    }\n",
              "    40% {\n",
              "      border-color: transparent;\n",
              "      border-right-color: var(--fill-color);\n",
              "      border-top-color: var(--fill-color);\n",
              "    }\n",
              "    60% {\n",
              "      border-color: transparent;\n",
              "      border-right-color: var(--fill-color);\n",
              "    }\n",
              "    80% {\n",
              "      border-color: transparent;\n",
              "      border-right-color: var(--fill-color);\n",
              "      border-bottom-color: var(--fill-color);\n",
              "    }\n",
              "    90% {\n",
              "      border-color: transparent;\n",
              "      border-bottom-color: var(--fill-color);\n",
              "    }\n",
              "  }\n",
              "</style>\n",
              "\n",
              "  <script>\n",
              "    async function quickchart(key) {\n",
              "      const quickchartButtonEl =\n",
              "        document.querySelector('#' + key + ' button');\n",
              "      quickchartButtonEl.disabled = true;  // To prevent multiple clicks.\n",
              "      quickchartButtonEl.classList.add('colab-df-spinner');\n",
              "      try {\n",
              "        const charts = await google.colab.kernel.invokeFunction(\n",
              "            'suggestCharts', [key], {});\n",
              "      } catch (error) {\n",
              "        console.error('Error during call to suggestCharts:', error);\n",
              "      }\n",
              "      quickchartButtonEl.classList.remove('colab-df-spinner');\n",
              "      quickchartButtonEl.classList.add('colab-df-quickchart-complete');\n",
              "    }\n",
              "    (() => {\n",
              "      let quickchartButtonEl =\n",
              "        document.querySelector('#df-a7f6a080-74f1-48f2-9159-30355c95139a button');\n",
              "      quickchartButtonEl.style.display =\n",
              "        google.colab.kernel.accessAllowed ? 'block' : 'none';\n",
              "    })();\n",
              "  </script>\n",
              "</div>\n",
              "\n",
              "    </div>\n",
              "  </div>\n"
            ],
            "application/vnd.google.colaboratory.intrinsic+json": {
              "type": "dataframe",
              "variable_name": "datos_transformado",
              "summary": "{\n  \"name\": \"datos_transformado\",\n  \"rows\": 54808,\n  \"fields\": [\n    {\n      \"column\": \"no_of_trainings\",\n      \"properties\": {\n        \"dtype\": \"number\",\n        \"std\": 0,\n        \"min\": 1,\n        \"max\": 10,\n        \"num_unique_values\": 10,\n        \"samples\": [\n          10,\n          2,\n          5\n        ],\n        \"semantic_type\": \"\",\n        \"description\": \"\"\n      }\n    },\n    {\n      \"column\": \"age\",\n      \"properties\": {\n        \"dtype\": \"number\",\n        \"std\": 0.19150423003963288,\n        \"min\": 0.0,\n        \"max\": 1.0,\n        \"num_unique_values\": 41,\n        \"samples\": [\n          0.9000000000000001,\n          0.17500000000000004,\n          0.30000000000000004\n        ],\n        \"semantic_type\": \"\",\n        \"description\": \"\"\n      }\n    },\n    {\n      \"column\": \"previous_year_rating\",\n      \"properties\": {\n        \"dtype\": \"category\",\n        \"num_unique_values\": 6,\n        \"samples\": [\n          5.0,\n          3.0,\n          2.0\n        ],\n        \"semantic_type\": \"\",\n        \"description\": \"\"\n      }\n    },\n    {\n      \"column\": \"KPIs_met >80%\",\n      \"properties\": {\n        \"dtype\": \"number\",\n        \"std\": 0,\n        \"min\": 0,\n        \"max\": 1,\n        \"num_unique_values\": 2,\n        \"samples\": [\n          0,\n          1\n        ],\n        \"semantic_type\": \"\",\n        \"description\": \"\"\n      }\n    },\n    {\n      \"column\": \"avg_training_score\",\n      \"properties\": {\n        \"dtype\": \"number\",\n        \"std\": 0.2228593249770881,\n        \"min\": 0.0,\n        \"max\": 0.9999999999999999,\n        \"num_unique_values\": 61,\n        \"samples\": [\n          0.16666666666666663,\n          0.33333333333333326\n        ],\n        \"semantic_type\": \"\",\n        \"description\": \"\"\n      }\n    },\n    {\n      \"column\": \"is_promoted\",\n      \"properties\": {\n        \"dtype\": \"category\",\n        \"num_unique_values\": 2,\n        \"samples\": [\n          \"PROMOVIDO\",\n          \"NO_PROMOVIDO\"\n        ],\n        \"semantic_type\": \"\",\n        \"description\": \"\"\n      }\n    },\n    {\n      \"column\": \"department_Finance\",\n      \"properties\": {\n        \"dtype\": \"boolean\",\n        \"num_unique_values\": 2,\n        \"samples\": [\n          true,\n          false\n        ],\n        \"semantic_type\": \"\",\n        \"description\": \"\"\n      }\n    },\n    {\n      \"column\": \"department_HR\",\n      \"properties\": {\n        \"dtype\": \"boolean\",\n        \"num_unique_values\": 2,\n        \"samples\": [\n          true,\n          false\n        ],\n        \"semantic_type\": \"\",\n        \"description\": \"\"\n      }\n    },\n    {\n      \"column\": \"department_Legal\",\n      \"properties\": {\n        \"dtype\": \"boolean\",\n        \"num_unique_values\": 2,\n        \"samples\": [\n          true,\n          false\n        ],\n        \"semantic_type\": \"\",\n        \"description\": \"\"\n      }\n    },\n    {\n      \"column\": \"department_Operations\",\n      \"properties\": {\n        \"dtype\": \"boolean\",\n        \"num_unique_values\": 2,\n        \"samples\": [\n          true,\n          false\n        ],\n        \"semantic_type\": \"\",\n        \"description\": \"\"\n      }\n    },\n    {\n      \"column\": \"department_Procurement\",\n      \"properties\": {\n        \"dtype\": \"boolean\",\n        \"num_unique_values\": 2,\n        \"samples\": [\n          true,\n          false\n        ],\n        \"semantic_type\": \"\",\n        \"description\": \"\"\n      }\n    },\n    {\n      \"column\": \"department_R&D\",\n      \"properties\": {\n        \"dtype\": \"boolean\",\n        \"num_unique_values\": 2,\n        \"samples\": [\n          true,\n          false\n        ],\n        \"semantic_type\": \"\",\n        \"description\": \"\"\n      }\n    },\n    {\n      \"column\": \"department_Sales & Marketing\",\n      \"properties\": {\n        \"dtype\": \"boolean\",\n        \"num_unique_values\": 2,\n        \"samples\": [\n          false,\n          true\n        ],\n        \"semantic_type\": \"\",\n        \"description\": \"\"\n      }\n    },\n    {\n      \"column\": \"department_Technology\",\n      \"properties\": {\n        \"dtype\": \"boolean\",\n        \"num_unique_values\": 2,\n        \"samples\": [\n          true,\n          false\n        ],\n        \"semantic_type\": \"\",\n        \"description\": \"\"\n      }\n    },\n    {\n      \"column\": \"education_Below Secondary\",\n      \"properties\": {\n        \"dtype\": \"boolean\",\n        \"num_unique_values\": 2,\n        \"samples\": [\n          true,\n          false\n        ],\n        \"semantic_type\": \"\",\n        \"description\": \"\"\n      }\n    },\n    {\n      \"column\": \"education_Master's & above\",\n      \"properties\": {\n        \"dtype\": \"boolean\",\n        \"num_unique_values\": 2,\n        \"samples\": [\n          false,\n          true\n        ],\n        \"semantic_type\": \"\",\n        \"description\": \"\"\n      }\n    },\n    {\n      \"column\": \"education_Sin_informaci\\u00f3n\",\n      \"properties\": {\n        \"dtype\": \"boolean\",\n        \"num_unique_values\": 2,\n        \"samples\": [\n          true,\n          false\n        ],\n        \"semantic_type\": \"\",\n        \"description\": \"\"\n      }\n    },\n    {\n      \"column\": \"gender_m\",\n      \"properties\": {\n        \"dtype\": \"boolean\",\n        \"num_unique_values\": 2,\n        \"samples\": [\n          true,\n          false\n        ],\n        \"semantic_type\": \"\",\n        \"description\": \"\"\n      }\n    },\n    {\n      \"column\": \"recruitment_channel_referred\",\n      \"properties\": {\n        \"dtype\": \"boolean\",\n        \"num_unique_values\": 2,\n        \"samples\": [\n          true,\n          false\n        ],\n        \"semantic_type\": \"\",\n        \"description\": \"\"\n      }\n    },\n    {\n      \"column\": \"recruitment_channel_sourcing\",\n      \"properties\": {\n        \"dtype\": \"boolean\",\n        \"num_unique_values\": 2,\n        \"samples\": [\n          false,\n          true\n        ],\n        \"semantic_type\": \"\",\n        \"description\": \"\"\n      }\n    }\n  ]\n}"
            }
          },
          "metadata": {},
          "execution_count": 22
        }
      ],
      "source": [
        "# Eliminamos la columna 'length_of_service' ya que se encuentra en la lista de alta correlación\n",
        "if 'length_of_service' in high_corr:\n",
        "    datos_transformado.drop(columns='length_of_service', inplace=True)\n",
        "    print(\"\\nColumna 'length_of_service' eliminada.\")\n",
        "else:\n",
        "    print(\"\\nColumna 'length_of_service' no está altamente correlacionada y no fue eliminada.\")\n",
        "\n",
        "# Verificamos la estructura del DataFrame después de la eliminación\n",
        "pd.set_option('display.max_columns', None)  # Muestra todas las columnas\n",
        "pd.set_option('display.max_rows', 4)       # Muestra hasta 4 filas\n",
        "print(\"\\nPrimeros 4 elementos de los datos:\")\n",
        "datos_transformado.head(4)"
      ]
    },
    {
      "cell_type": "markdown",
      "id": "1ea7b15d",
      "metadata": {
        "id": "1ea7b15d"
      },
      "source": [
        "## 5. Selección de muestra de entrenamiento (80%) y de evaluación (20%)"
      ]
    },
    {
      "cell_type": "markdown",
      "id": "86e83db9",
      "metadata": {
        "id": "86e83db9"
      },
      "source": [
        "**División en Train y Test:**  \n",
        "El conjunto de datos se divide en muestras de entrenamiento (80%) y prueba (20%) de manera estratificada para asegurar que las proporciones de la variable objetivo se mantengan en ambos conjuntos."
      ]
    },
    {
      "cell_type": "code",
      "execution_count": 23,
      "id": "a8811447",
      "metadata": {
        "id": "a8811447"
      },
      "outputs": [],
      "source": [
        "import pandas as pd\n",
        "from sklearn.model_selection import train_test_split, cross_val_score\n",
        "from imblearn.over_sampling import SMOTE\n",
        "from sklearn.linear_model import LogisticRegression\n",
        "from sklearn.metrics import accuracy_score\n",
        "import numpy as np\n",
        "\n",
        "# 1. Selección de muestra de entrenamiento (80%) y de evaluación (20%)\n",
        "# Configuramos la semilla para la reproducibilidad\n",
        "np.random.seed(2024)\n",
        "\n",
        "# Dividimos el dataset en entrenamiento (80%) y evaluación (20%)\n",
        "X = datos_transformado.drop(columns='is_promoted')\n",
        "y = datos_transformado['is_promoted']\n",
        "X_train, X_test, y_train, y_test = train_test_split(X, y, test_size=0.2, stratify=y, random_state=2024)\n",
        "\n",
        "# Calculando las frecuencias y porcentajes de las clases en el dataset original\n",
        "original_counts = y.value_counts()\n",
        "original_percent = round(y.value_counts(normalize=True) * 100, 2)\n",
        "\n",
        "# Calculando las frecuencias y porcentajes de las clases en el conjunto de entrenamiento\n",
        "train_counts = y_train.value_counts()\n",
        "train_percent = round(y_train.value_counts(normalize=True) * 100, 2)\n",
        "\n",
        "# Calculando las frecuencias y porcentajes de las clases en el conjunto de prueba\n",
        "test_counts = y_test.value_counts()\n",
        "test_percent = round(y_test.value_counts(normalize=True) * 100, 2)\n",
        "\n",
        "# Creando DataFrames para cada conjunto\n",
        "original_df = pd.DataFrame({'Frecuencia': original_counts, 'Porcentaje (%)': original_percent})\n",
        "train_df = pd.DataFrame({'Frecuencia': train_counts, 'Porcentaje (%)': train_percent})\n",
        "test_df = pd.DataFrame({'Frecuencia': test_counts, 'Porcentaje (%)': test_percent})\n",
        "\n",
        "# Aplicando estilo visual a cada cuadro\n",
        "def estilizar_tabla(df, titulo):\n",
        "    return (df.style.set_caption(titulo)\n",
        "                 .format({'Porcentaje (%)': '{:.2f}%'})\n",
        "                 .set_properties(**{'text-align': 'center'})\n",
        "                 .set_table_styles([{\n",
        "                     'selector': 'th',\n",
        "                     'props': [('font-size', '14px'), ('text-align', 'center'), ('color', 'white'),\n",
        "                               ('background-color', '#4CAF50')]\n",
        "                 }, {\n",
        "                     'selector': 'td',\n",
        "                     'props': [('font-size', '12px')]\n",
        "                 }]))"
      ]
    },
    {
      "cell_type": "code",
      "execution_count": 24,
      "id": "2dc4fb5e",
      "metadata": {
        "colab": {
          "base_uri": "https://localhost:8080/",
          "height": 160
        },
        "id": "2dc4fb5e",
        "outputId": "e17af5fd-7b66-4227-df2e-aaeed4c23e59"
      },
      "outputs": [
        {
          "output_type": "execute_result",
          "data": {
            "text/plain": [
              "<pandas.io.formats.style.Styler at 0x7dddcdd370d0>"
            ],
            "text/html": [
              "<style type=\"text/css\">\n",
              "#T_6767e th {\n",
              "  font-size: 14px;\n",
              "  text-align: center;\n",
              "  color: white;\n",
              "  background-color: #4CAF50;\n",
              "}\n",
              "#T_6767e td {\n",
              "  font-size: 12px;\n",
              "}\n",
              "#T_6767e_row0_col0, #T_6767e_row0_col1, #T_6767e_row1_col0, #T_6767e_row1_col1 {\n",
              "  text-align: center;\n",
              "}\n",
              "</style>\n",
              "<table id=\"T_6767e\" class=\"dataframe\">\n",
              "  <caption>Distribución de Clases en el Dataset Original</caption>\n",
              "  <thead>\n",
              "    <tr>\n",
              "      <th class=\"blank level0\" >&nbsp;</th>\n",
              "      <th id=\"T_6767e_level0_col0\" class=\"col_heading level0 col0\" >Frecuencia</th>\n",
              "      <th id=\"T_6767e_level0_col1\" class=\"col_heading level0 col1\" >Porcentaje (%)</th>\n",
              "    </tr>\n",
              "    <tr>\n",
              "      <th class=\"index_name level0\" >is_promoted</th>\n",
              "      <th class=\"blank col0\" >&nbsp;</th>\n",
              "      <th class=\"blank col1\" >&nbsp;</th>\n",
              "    </tr>\n",
              "  </thead>\n",
              "  <tbody>\n",
              "    <tr>\n",
              "      <th id=\"T_6767e_level0_row0\" class=\"row_heading level0 row0\" >NO_PROMOVIDO</th>\n",
              "      <td id=\"T_6767e_row0_col0\" class=\"data row0 col0\" >50140</td>\n",
              "      <td id=\"T_6767e_row0_col1\" class=\"data row0 col1\" >91.48%</td>\n",
              "    </tr>\n",
              "    <tr>\n",
              "      <th id=\"T_6767e_level0_row1\" class=\"row_heading level0 row1\" >PROMOVIDO</th>\n",
              "      <td id=\"T_6767e_row1_col0\" class=\"data row1 col0\" >4668</td>\n",
              "      <td id=\"T_6767e_row1_col1\" class=\"data row1 col1\" >8.52%</td>\n",
              "    </tr>\n",
              "  </tbody>\n",
              "</table>\n"
            ]
          },
          "metadata": {},
          "execution_count": 24
        }
      ],
      "source": [
        "estilizar_tabla(original_df, \"Distribución de Clases en el Dataset Original\")"
      ]
    },
    {
      "cell_type": "code",
      "execution_count": 25,
      "id": "28a6f315",
      "metadata": {
        "colab": {
          "base_uri": "https://localhost:8080/",
          "height": 178
        },
        "id": "28a6f315",
        "outputId": "7b00ad9e-bf5c-4865-930e-2853ec5c9393"
      },
      "outputs": [
        {
          "output_type": "execute_result",
          "data": {
            "text/plain": [
              "<pandas.io.formats.style.Styler at 0x7dddcdd24a30>"
            ],
            "text/html": [
              "<style type=\"text/css\">\n",
              "#T_ed331 th {\n",
              "  font-size: 14px;\n",
              "  text-align: center;\n",
              "  color: white;\n",
              "  background-color: #4CAF50;\n",
              "}\n",
              "#T_ed331 td {\n",
              "  font-size: 12px;\n",
              "}\n",
              "#T_ed331_row0_col0, #T_ed331_row0_col1, #T_ed331_row1_col0, #T_ed331_row1_col1 {\n",
              "  text-align: center;\n",
              "}\n",
              "</style>\n",
              "<table id=\"T_ed331\" class=\"dataframe\">\n",
              "  <caption>Distribución de Clases en el Conjunto de Entrenamiento</caption>\n",
              "  <thead>\n",
              "    <tr>\n",
              "      <th class=\"blank level0\" >&nbsp;</th>\n",
              "      <th id=\"T_ed331_level0_col0\" class=\"col_heading level0 col0\" >Frecuencia</th>\n",
              "      <th id=\"T_ed331_level0_col1\" class=\"col_heading level0 col1\" >Porcentaje (%)</th>\n",
              "    </tr>\n",
              "    <tr>\n",
              "      <th class=\"index_name level0\" >is_promoted</th>\n",
              "      <th class=\"blank col0\" >&nbsp;</th>\n",
              "      <th class=\"blank col1\" >&nbsp;</th>\n",
              "    </tr>\n",
              "  </thead>\n",
              "  <tbody>\n",
              "    <tr>\n",
              "      <th id=\"T_ed331_level0_row0\" class=\"row_heading level0 row0\" >NO_PROMOVIDO</th>\n",
              "      <td id=\"T_ed331_row0_col0\" class=\"data row0 col0\" >40112</td>\n",
              "      <td id=\"T_ed331_row0_col1\" class=\"data row0 col1\" >91.48%</td>\n",
              "    </tr>\n",
              "    <tr>\n",
              "      <th id=\"T_ed331_level0_row1\" class=\"row_heading level0 row1\" >PROMOVIDO</th>\n",
              "      <td id=\"T_ed331_row1_col0\" class=\"data row1 col0\" >3734</td>\n",
              "      <td id=\"T_ed331_row1_col1\" class=\"data row1 col1\" >8.52%</td>\n",
              "    </tr>\n",
              "  </tbody>\n",
              "</table>\n"
            ]
          },
          "metadata": {},
          "execution_count": 25
        }
      ],
      "source": [
        "estilizar_tabla(train_df, \"Distribución de Clases en el Conjunto de Entrenamiento\")"
      ]
    },
    {
      "cell_type": "code",
      "execution_count": 26,
      "id": "a2d61b78",
      "metadata": {
        "colab": {
          "base_uri": "https://localhost:8080/",
          "height": 160
        },
        "id": "a2d61b78",
        "outputId": "9b95faac-ecaa-4604-c397-042369bee599"
      },
      "outputs": [
        {
          "output_type": "execute_result",
          "data": {
            "text/plain": [
              "<pandas.io.formats.style.Styler at 0x7dddcdd242b0>"
            ],
            "text/html": [
              "<style type=\"text/css\">\n",
              "#T_e3281 th {\n",
              "  font-size: 14px;\n",
              "  text-align: center;\n",
              "  color: white;\n",
              "  background-color: #4CAF50;\n",
              "}\n",
              "#T_e3281 td {\n",
              "  font-size: 12px;\n",
              "}\n",
              "#T_e3281_row0_col0, #T_e3281_row0_col1, #T_e3281_row1_col0, #T_e3281_row1_col1 {\n",
              "  text-align: center;\n",
              "}\n",
              "</style>\n",
              "<table id=\"T_e3281\" class=\"dataframe\">\n",
              "  <caption>Distribución de Clases en el Conjunto de Prueba</caption>\n",
              "  <thead>\n",
              "    <tr>\n",
              "      <th class=\"blank level0\" >&nbsp;</th>\n",
              "      <th id=\"T_e3281_level0_col0\" class=\"col_heading level0 col0\" >Frecuencia</th>\n",
              "      <th id=\"T_e3281_level0_col1\" class=\"col_heading level0 col1\" >Porcentaje (%)</th>\n",
              "    </tr>\n",
              "    <tr>\n",
              "      <th class=\"index_name level0\" >is_promoted</th>\n",
              "      <th class=\"blank col0\" >&nbsp;</th>\n",
              "      <th class=\"blank col1\" >&nbsp;</th>\n",
              "    </tr>\n",
              "  </thead>\n",
              "  <tbody>\n",
              "    <tr>\n",
              "      <th id=\"T_e3281_level0_row0\" class=\"row_heading level0 row0\" >NO_PROMOVIDO</th>\n",
              "      <td id=\"T_e3281_row0_col0\" class=\"data row0 col0\" >10028</td>\n",
              "      <td id=\"T_e3281_row0_col1\" class=\"data row0 col1\" >91.48%</td>\n",
              "    </tr>\n",
              "    <tr>\n",
              "      <th id=\"T_e3281_level0_row1\" class=\"row_heading level0 row1\" >PROMOVIDO</th>\n",
              "      <td id=\"T_e3281_row1_col0\" class=\"data row1 col0\" >934</td>\n",
              "      <td id=\"T_e3281_row1_col1\" class=\"data row1 col1\" >8.52%</td>\n",
              "    </tr>\n",
              "  </tbody>\n",
              "</table>\n"
            ]
          },
          "metadata": {},
          "execution_count": 26
        }
      ],
      "source": [
        "estilizar_tabla(test_df, \"Distribución de Clases en el Conjunto de Prueba\")"
      ]
    },
    {
      "cell_type": "markdown",
      "id": "49e41d8b",
      "metadata": {
        "id": "49e41d8b"
      },
      "source": [
        "- En este caso tenemos un porcentaje igual para el entrenamiento y prueba entonces podemos continuar sin problemas."
      ]
    },
    {
      "cell_type": "markdown",
      "id": "50388782",
      "metadata": {
        "id": "50388782"
      },
      "source": [
        "## 6. Balanceo"
      ]
    },
    {
      "cell_type": "markdown",
      "id": "7e8f879a",
      "metadata": {
        "id": "7e8f879a"
      },
      "source": [
        "### Balanceo con Borderline-SMOTE"
      ]
    },
    {
      "cell_type": "code",
      "execution_count": 27,
      "id": "fe78d8c5",
      "metadata": {
        "colab": {
          "base_uri": "https://localhost:8080/",
          "height": 178
        },
        "id": "fe78d8c5",
        "outputId": "d22ff8e9-40d9-4de3-e830-c24e3c94f491"
      },
      "outputs": [
        {
          "output_type": "execute_result",
          "data": {
            "text/plain": [
              "<pandas.io.formats.style.Styler at 0x7dddcdd241c0>"
            ],
            "text/html": [
              "<style type=\"text/css\">\n",
              "#T_d45e5 th {\n",
              "  font-size: 14px;\n",
              "  text-align: center;\n",
              "  color: white;\n",
              "  background-color: #4CAF50;\n",
              "}\n",
              "#T_d45e5 td {\n",
              "  font-size: 12px;\n",
              "}\n",
              "#T_d45e5_row0_col0, #T_d45e5_row0_col1, #T_d45e5_row1_col0, #T_d45e5_row1_col1 {\n",
              "  text-align: center;\n",
              "}\n",
              "</style>\n",
              "<table id=\"T_d45e5\" class=\"dataframe\">\n",
              "  <caption>Distribución de Clases después de aplicar Borderline-SMOTE</caption>\n",
              "  <thead>\n",
              "    <tr>\n",
              "      <th class=\"blank level0\" >&nbsp;</th>\n",
              "      <th id=\"T_d45e5_level0_col0\" class=\"col_heading level0 col0\" >Frecuencia</th>\n",
              "      <th id=\"T_d45e5_level0_col1\" class=\"col_heading level0 col1\" >Porcentaje (%)</th>\n",
              "    </tr>\n",
              "    <tr>\n",
              "      <th class=\"index_name level0\" >is_promoted</th>\n",
              "      <th class=\"blank col0\" >&nbsp;</th>\n",
              "      <th class=\"blank col1\" >&nbsp;</th>\n",
              "    </tr>\n",
              "  </thead>\n",
              "  <tbody>\n",
              "    <tr>\n",
              "      <th id=\"T_d45e5_level0_row0\" class=\"row_heading level0 row0\" >NO_PROMOVIDO</th>\n",
              "      <td id=\"T_d45e5_row0_col0\" class=\"data row0 col0\" >40112</td>\n",
              "      <td id=\"T_d45e5_row0_col1\" class=\"data row0 col1\" >50.00%</td>\n",
              "    </tr>\n",
              "    <tr>\n",
              "      <th id=\"T_d45e5_level0_row1\" class=\"row_heading level0 row1\" >PROMOVIDO</th>\n",
              "      <td id=\"T_d45e5_row1_col0\" class=\"data row1 col0\" >40112</td>\n",
              "      <td id=\"T_d45e5_row1_col1\" class=\"data row1 col1\" >50.00%</td>\n",
              "    </tr>\n",
              "  </tbody>\n",
              "</table>\n"
            ]
          },
          "metadata": {},
          "execution_count": 27
        }
      ],
      "source": [
        "from imblearn.over_sampling import BorderlineSMOTE\n",
        "\n",
        "# Configuración de Borderline-SMOTE\n",
        "borderline_smote = BorderlineSMOTE(sampling_strategy='auto', random_state=2024, kind='borderline-1')\n",
        "\n",
        "# Aplicar Borderline-SMOTE al conjunto de datos de entrenamiento\n",
        "X_train_border, y_train_border = borderline_smote.fit_resample(X_train, y_train)\n",
        "\n",
        "# Calculando las frecuencias y porcentajes de las clases después de aplicar Borderline-SMOTE\n",
        "border_counts = y_train_border.value_counts()\n",
        "border_percent = round(y_train_border.value_counts(normalize=True) * 100, 2)\n",
        "\n",
        "# Creando un DataFrame para la distribución de clases después de Borderline-SMOTE\n",
        "borderline_df = pd.DataFrame({'Frecuencia': border_counts, 'Porcentaje (%)': border_percent})\n",
        "\n",
        "# Aplicando estilo visual al cuadro\n",
        "def estilizar_tabla(df, titulo):\n",
        "    return (df.style.set_caption(titulo)\n",
        "                 .format({'Porcentaje (%)': '{:.2f}%'})\n",
        "                 .set_properties(**{'text-align': 'center'})\n",
        "                 .set_table_styles([{\n",
        "                     'selector': 'th',\n",
        "                     'props': [('font-size', '14px'), ('text-align', 'center'), ('color', 'white'),\n",
        "                               ('background-color', '#4CAF50')]\n",
        "                 }, {\n",
        "                     'selector': 'td',\n",
        "                     'props': [('font-size', '12px')]\n",
        "                 }]))\n",
        "\n",
        "# Mostrar el cuadro estilizado\n",
        "estilizar_tabla(borderline_df, \"Distribución de Clases después de aplicar Borderline-SMOTE\")"
      ]
    },
    {
      "cell_type": "markdown",
      "id": "e0a62d54",
      "metadata": {
        "id": "e0a62d54"
      },
      "source": [
        "## 7. Modelado"
      ]
    },
    {
      "cell_type": "markdown",
      "id": "8cbd003c",
      "metadata": {
        "id": "8cbd003c"
      },
      "source": [
        "### 7.1. Modelo con Regresión Logistica"
      ]
    },
    {
      "cell_type": "code",
      "execution_count": 28,
      "id": "df3a42f2",
      "metadata": {
        "colab": {
          "base_uri": "https://localhost:8080/"
        },
        "id": "df3a42f2",
        "outputId": "268692e8-2e17-4f6e-9f48-ee3566af8ff7"
      },
      "outputs": [
        {
          "output_type": "stream",
          "name": "stdout",
          "text": [
            "\n",
            "Resultados con Regresión Logistica:\n",
            "                      Valor\n",
            "Métrica                    \n",
            "Sensibilidad       0.848150\n",
            "Especificidad      0.755734\n",
            "Accuracy           0.801942\n",
            "Balanced Accuracy  0.801942\n",
            "\n",
            "Matriz de Confusión:\n",
            "                     NO_PROMOVIDO (Pred)  PROMOVIDO (Pred)\n",
            "NO_PROMOVIDO (Real)                30314              9798\n",
            "PROMOVIDO (Real)                    6091             34021\n"
          ]
        }
      ],
      "source": [
        "from sklearn.model_selection import cross_val_predict\n",
        "from sklearn.linear_model import LogisticRegression\n",
        "from sklearn.metrics import confusion_matrix, accuracy_score, recall_score\n",
        "\n",
        "# Configuración y entrenamiento del modelo Regresión Logistica\n",
        "log_reg_border = LogisticRegression(max_iter=1000)\n",
        "log_reg_border.fit(X_train_border, y_train_border)\n",
        "y_pred_border = cross_val_predict(log_reg_border, X_train_border, y_train_border, cv=10)\n",
        "\n",
        "# Matriz de confusión\n",
        "cm_border = confusion_matrix(y_train_border, y_pred_border)\n",
        "\n",
        "# Cálculo de métricas\n",
        "sensitivity_border = recall_score(y_train_border, y_pred_border, pos_label='PROMOVIDO')\n",
        "specificity_border = cm_border[0, 0] / sum(cm_border[0, :])\n",
        "accuracy_border = accuracy_score(y_train_border, y_pred_border)\n",
        "balanced_accuracy_border = (sensitivity_border + specificity_border) / 2\n",
        "\n",
        "# Crear un DataFrame para organizar los resultados de las métricas\n",
        "resultados = pd.DataFrame({\n",
        "    \"Métrica\": [\"Sensibilidad\", \"Especificidad\", \"Accuracy\", \"Balanced Accuracy\"],\n",
        "    \"Valor\": [sensitivity_border, specificity_border, accuracy_border, balanced_accuracy_border]\n",
        "})\n",
        "\n",
        "# Configurar el índice para una presentación más clara\n",
        "resultados.set_index(\"Métrica\", inplace=True)\n",
        "\n",
        "# Crear un DataFrame para la matriz de confusión\n",
        "cm_df = pd.DataFrame(cm_border,\n",
        "                     index=[\"NO_PROMOVIDO (Real)\", \"PROMOVIDO (Real)\"],\n",
        "                     columns=[\"NO_PROMOVIDO (Pred)\", \"PROMOVIDO (Pred)\"])\n",
        "\n",
        "# Mostrar los resultados\n",
        "print(\"\\nResultados con Regresión Logistica:\")\n",
        "print(resultados)\n",
        "print(\"\\nMatriz de Confusión:\")\n",
        "print(cm_df)"
      ]
    },
    {
      "cell_type": "markdown",
      "id": "c22d4918",
      "metadata": {
        "id": "c22d4918"
      },
      "source": [
        "### 7.2. Modelo con K-Vecinos más cercanos (K-NN)"
      ]
    },
    {
      "cell_type": "code",
      "execution_count": 29,
      "id": "c73b9716",
      "metadata": {
        "colab": {
          "base_uri": "https://localhost:8080/"
        },
        "id": "c73b9716",
        "outputId": "48295f1f-f920-48f1-9a5d-56fe0a4b9d0d"
      },
      "outputs": [
        {
          "output_type": "stream",
          "name": "stdout",
          "text": [
            "\n",
            "Resultados con K-Nearest Neighbors (K-NN):\n",
            "                      Valor\n",
            "Métrica                    \n",
            "Sensibilidad       0.949068\n",
            "Especificidad      0.839973\n",
            "Accuracy           0.894520\n",
            "Balanced Accuracy  0.894520\n",
            "\n",
            "Matriz de Confusión:\n",
            "                     NO_PROMOVIDO (Pred)  PROMOVIDO (Pred)\n",
            "NO_PROMOVIDO (Real)                33693              6419\n",
            "PROMOVIDO (Real)                    2043             38069\n"
          ]
        }
      ],
      "source": [
        "from sklearn.neighbors import KNeighborsClassifier\n",
        "from sklearn.model_selection import cross_val_predict\n",
        "from sklearn.metrics import confusion_matrix, recall_score, accuracy_score\n",
        "\n",
        "# Configuración y entrenamiento del modelo K-NN\n",
        "knn_border = KNeighborsClassifier(n_neighbors=5)\n",
        "knn_border.fit(X_train_border, y_train_border)\n",
        "y_pred_knn = cross_val_predict(knn_border, X_train_border, y_train_border, cv=10)\n",
        "\n",
        "# Matriz de confusión\n",
        "cm_knn = confusion_matrix(y_train_border, y_pred_knn)\n",
        "\n",
        "# Cálculo de métricas\n",
        "sensitivity_knn = recall_score(y_train_border, y_pred_knn, pos_label='PROMOVIDO')\n",
        "specificity_knn = cm_knn[0, 0] / sum(cm_knn[0, :])\n",
        "accuracy_knn = accuracy_score(y_train_border, y_pred_knn)\n",
        "balanced_accuracy_knn = (sensitivity_knn + specificity_knn) / 2\n",
        "\n",
        "# Crear un DataFrame para organizar los resultados de las métricas\n",
        "resultados_knn = pd.DataFrame({\n",
        "    \"Métrica\": [\"Sensibilidad\", \"Especificidad\", \"Accuracy\", \"Balanced Accuracy\"],\n",
        "    \"Valor\": [sensitivity_knn, specificity_knn, accuracy_knn, balanced_accuracy_knn]\n",
        "})\n",
        "\n",
        "# Configurar el índice para una presentación más clara\n",
        "resultados_knn.set_index(\"Métrica\", inplace=True)\n",
        "\n",
        "# Crear un DataFrame para la matriz de confusión\n",
        "cm_knn_df = pd.DataFrame(cm_knn,\n",
        "                         index=[\"NO_PROMOVIDO (Real)\", \"PROMOVIDO (Real)\"],\n",
        "                         columns=[\"NO_PROMOVIDO (Pred)\", \"PROMOVIDO (Pred)\"])\n",
        "\n",
        "# Mostrar los resultados\n",
        "print(\"\\nResultados con K-Nearest Neighbors (K-NN):\")\n",
        "print(resultados_knn)\n",
        "print(\"\\nMatriz de Confusión:\")\n",
        "print(cm_knn_df)"
      ]
    },
    {
      "cell_type": "markdown",
      "id": "e37dbcfc",
      "metadata": {
        "id": "e37dbcfc"
      },
      "source": [
        "### 7.3. Modelo con Naive Bayes"
      ]
    },
    {
      "cell_type": "code",
      "execution_count": 30,
      "id": "1cf6dbfe",
      "metadata": {
        "colab": {
          "base_uri": "https://localhost:8080/"
        },
        "id": "1cf6dbfe",
        "outputId": "d5d30b25-e539-498d-c6db-0c27f2d21ac4"
      },
      "outputs": [
        {
          "output_type": "stream",
          "name": "stdout",
          "text": [
            "\n",
            "Resultados con Naive Bayes:\n",
            "                      Valor\n",
            "Métrica                    \n",
            "Sensibilidad       0.808037\n",
            "Especificidad      0.544102\n",
            "Accuracy           0.676070\n",
            "Balanced Accuracy  0.676070\n",
            "\n",
            "Matriz de Confusión:\n",
            "                     NO_PROMOVIDO (Pred)  PROMOVIDO (Pred)\n",
            "NO_PROMOVIDO (Real)                21825             18287\n",
            "PROMOVIDO (Real)                    7700             32412\n"
          ]
        }
      ],
      "source": [
        "from sklearn.naive_bayes import GaussianNB\n",
        "\n",
        "# Configuración y entrenamiento del modelo Naive Bayes\n",
        "nb_border = GaussianNB()\n",
        "nb_border.fit(X_train_border, y_train_border)\n",
        "y_pred_nb = cross_val_predict(nb_border, X_train_border, y_train_border, cv=10)\n",
        "\n",
        "# Matriz de confusión\n",
        "cm_nb = confusion_matrix(y_train_border, y_pred_nb)\n",
        "\n",
        "# Cálculo de métricas\n",
        "sensitivity_nb = recall_score(y_train_border, y_pred_nb, pos_label='PROMOVIDO')\n",
        "specificity_nb = cm_nb[0, 0] / sum(cm_nb[0, :])\n",
        "accuracy_nb = accuracy_score(y_train_border, y_pred_nb)\n",
        "balanced_accuracy_nb = (sensitivity_nb + specificity_nb) / 2\n",
        "\n",
        "# Crear un DataFrame para organizar los resultados de las métricas\n",
        "resultados_nb = pd.DataFrame({\n",
        "    \"Métrica\": [\"Sensibilidad\", \"Especificidad\", \"Accuracy\", \"Balanced Accuracy\"],\n",
        "    \"Valor\": [sensitivity_nb, specificity_nb, accuracy_nb, balanced_accuracy_nb]\n",
        "})\n",
        "\n",
        "# Configurar el índice para una presentación más clara\n",
        "resultados_nb.set_index(\"Métrica\", inplace=True)\n",
        "\n",
        "# Crear un DataFrame para la matriz de confusión\n",
        "cm_nb_df = pd.DataFrame(cm_nb,\n",
        "                        index=[\"NO_PROMOVIDO (Real)\", \"PROMOVIDO (Real)\"],\n",
        "                        columns=[\"NO_PROMOVIDO (Pred)\", \"PROMOVIDO (Pred)\"])\n",
        "\n",
        "# Mostrar los resultados\n",
        "print(\"\\nResultados con Naive Bayes:\")\n",
        "print(resultados_nb)\n",
        "print(\"\\nMatriz de Confusión:\")\n",
        "print(cm_nb_df)"
      ]
    },
    {
      "cell_type": "markdown",
      "id": "16c66995",
      "metadata": {
        "id": "16c66995"
      },
      "source": [
        "### 7.4. Modelo con Árbol de Clasificación con el Algoritmo CART"
      ]
    },
    {
      "cell_type": "code",
      "source": [
        "from sklearn.tree import DecisionTreeClassifier\n",
        "from sklearn.model_selection import cross_val_predict\n",
        "from sklearn.metrics import confusion_matrix, accuracy_score, recall_score\n",
        "\n",
        "# Configuración y entrenamiento del modelo CART\n",
        "cart_model = DecisionTreeClassifier()  # CART usa Gini como criterio por defecto\n",
        "y_pred_cart = cross_val_predict(cart_model, X_train_border, y_train_border, cv=10)\n",
        "\n",
        "# Matriz de confusión\n",
        "cm_cart = confusion_matrix(y_train_border, y_pred_cart)\n",
        "\n",
        "# Cálculo de métricas\n",
        "sensitivity_cart = recall_score(y_train_border, y_pred_cart, pos_label='PROMOVIDO')\n",
        "specificity_cart = cm_cart[0, 0] / sum(cm_cart[0, :])\n",
        "accuracy_cart = accuracy_score(y_train_border, y_pred_cart)\n",
        "balanced_accuracy_cart = (sensitivity_cart + specificity_cart) / 2\n",
        "\n",
        "# Crear un DataFrame para mostrar las métricas\n",
        "import pandas as pd\n",
        "\n",
        "resultados_cart = pd.DataFrame({\n",
        "    \"Métrica\": [\"Sensibilidad\", \"Especificidad\", \"Accuracy\", \"Balanced Accuracy\"],\n",
        "    \"Valor\": [sensitivity_cart, specificity_cart, accuracy_cart, balanced_accuracy_cart]\n",
        "})\n",
        "resultados_cart.set_index(\"Métrica\", inplace=True)\n",
        "\n",
        "# Crear un DataFrame para la matriz de confusión\n",
        "cm_cart_df = pd.DataFrame(cm_cart,\n",
        "                          index=[\"NO_PROMOVIDO (Real)\", \"PROMOVIDO (Real)\"],\n",
        "                          columns=[\"NO_PROMOVIDO (Pred)\", \"PROMOVIDO (Pred)\"])\n",
        "\n",
        "# Mostrar los resultados\n",
        "print(\"\\nResultados con Árbol de Clasificación (CART):\")\n",
        "print(resultados_cart)\n",
        "print(\"\\nMatriz de Confusión:\")\n",
        "print(cm_cart_df)"
      ],
      "metadata": {
        "colab": {
          "base_uri": "https://localhost:8080/"
        },
        "id": "gZklym3Y2rAX",
        "outputId": "2c97fa05-e5b8-4ab2-be97-9ce2ac6bfa48"
      },
      "id": "gZklym3Y2rAX",
      "execution_count": 31,
      "outputs": [
        {
          "output_type": "stream",
          "name": "stdout",
          "text": [
            "\n",
            "Resultados con Árbol de Clasificación (CART):\n",
            "                      Valor\n",
            "Métrica                    \n",
            "Sensibilidad       0.928999\n",
            "Especificidad      0.940566\n",
            "Accuracy           0.934783\n",
            "Balanced Accuracy  0.934783\n",
            "\n",
            "Matriz de Confusión:\n",
            "                     NO_PROMOVIDO (Pred)  PROMOVIDO (Pred)\n",
            "NO_PROMOVIDO (Real)                37728              2384\n",
            "PROMOVIDO (Real)                    2848             37264\n"
          ]
        }
      ]
    },
    {
      "cell_type": "markdown",
      "source": [
        "### 7.5. Modelo con Árbol de Clasificación con el Algoritmo Bagging"
      ],
      "metadata": {
        "id": "hMxwPSSm3Vs8"
      },
      "id": "hMxwPSSm3Vs8"
    },
    {
      "cell_type": "code",
      "source": [
        "from sklearn.ensemble import BaggingClassifier\n",
        "from sklearn.tree import DecisionTreeClassifier\n",
        "from sklearn.model_selection import cross_val_predict\n",
        "from sklearn.metrics import confusion_matrix, accuracy_score, recall_score\n",
        "import pandas as pd\n",
        "\n",
        "# Configuración y entrenamiento del modelo Bagging con árboles de decisión\n",
        "bagging_model = BaggingClassifier(estimator=DecisionTreeClassifier(random_state=42),\n",
        "                                  n_estimators=10, random_state=42)\n",
        "y_pred_bagging = cross_val_predict(bagging_model, X_train_border, y_train_border, cv=10)\n",
        "\n",
        "# Matriz de confusión\n",
        "cm_bagging = confusion_matrix(y_train_border, y_pred_bagging)\n",
        "\n",
        "# Cálculo de métricas\n",
        "sensitivity_bagging = recall_score(y_train_border, y_pred_bagging, pos_label='PROMOVIDO')\n",
        "specificity_bagging = cm_bagging[0, 0] / sum(cm_bagging[0, :])\n",
        "accuracy_bagging = accuracy_score(y_train_border, y_pred_bagging)\n",
        "balanced_accuracy_bagging = (sensitivity_bagging + specificity_bagging) / 2\n",
        "\n",
        "# Crear un DataFrame para las métricas\n",
        "resultados_bagging = pd.DataFrame({\n",
        "    \"Métrica\": [\"Sensibilidad\", \"Especificidad\", \"Accuracy\", \"Balanced Accuracy\"],\n",
        "    \"Valor\": [sensitivity_bagging, specificity_bagging, accuracy_bagging, balanced_accuracy_bagging]\n",
        "})\n",
        "resultados_bagging.set_index(\"Métrica\", inplace=True)\n",
        "\n",
        "# Crear un DataFrame para la matriz de confusión\n",
        "cm_bagging_df = pd.DataFrame(cm_bagging,\n",
        "                             index=[\"NO_PROMOVIDO (Real)\", \"PROMOVIDO (Real)\"],\n",
        "                             columns=[\"NO_PROMOVIDO (Pred)\", \"PROMOVIDO (Pred)\"])\n",
        "\n",
        "# Mostrar los resultados\n",
        "print(\"\\nResultados con Bagging:\")\n",
        "print(resultados_bagging)\n",
        "print(\"\\nMatriz de Confusión:\")\n",
        "print(cm_bagging_df)"
      ],
      "metadata": {
        "colab": {
          "base_uri": "https://localhost:8080/"
        },
        "id": "X_iFkyTW3SUU",
        "outputId": "7cc220c0-e899-422a-8e50-7b6b8c6bdc73"
      },
      "id": "X_iFkyTW3SUU",
      "execution_count": 32,
      "outputs": [
        {
          "output_type": "stream",
          "name": "stdout",
          "text": [
            "\n",
            "Resultados con Bagging:\n",
            "                      Valor\n",
            "Métrica                    \n",
            "Sensibilidad       0.935082\n",
            "Especificidad      0.961408\n",
            "Accuracy           0.948245\n",
            "Balanced Accuracy  0.948245\n",
            "\n",
            "Matriz de Confusión:\n",
            "                     NO_PROMOVIDO (Pred)  PROMOVIDO (Pred)\n",
            "NO_PROMOVIDO (Real)                38564              1548\n",
            "PROMOVIDO (Real)                    2604             37508\n"
          ]
        }
      ]
    },
    {
      "cell_type": "markdown",
      "source": [
        "### Comparación de Indicadores entre Modelos entrenamos"
      ],
      "metadata": {
        "id": "2wQqImbh5RHB"
      },
      "id": "2wQqImbh5RHB"
    },
    {
      "cell_type": "code",
      "source": [
        "import pandas as pd\n",
        "\n",
        "# Crear un DataFrame para comparar los resultados de cada modelo\n",
        "comparacion_resultados = pd.DataFrame({\n",
        "    \"Modelo\": [\"Regresión Logística\", \"K-Nearest Neighbors\", \"Naive Bayes\", \"CART\", \"Bagging\"],\n",
        "    \"Sensibilidad\": [sensitivity_border, sensitivity_knn, sensitivity_nb, sensitivity_cart, sensitivity_bagging],\n",
        "    \"Especificidad\": [specificity_border, specificity_knn, specificity_nb, specificity_cart, specificity_bagging],\n",
        "    \"Accuracy\": [accuracy_border, accuracy_knn, accuracy_nb, accuracy_cart, accuracy_bagging],\n",
        "    \"Balanced Accuracy\": [balanced_accuracy_border, balanced_accuracy_knn, balanced_accuracy_nb, balanced_accuracy_cart, balanced_accuracy_bagging]\n",
        "})\n",
        "\n",
        "# Configurar el índice para mejorar la presentación\n",
        "comparacion_resultados.set_index(\"Modelo\", inplace=True)\n",
        "\n",
        "# Mostrar la tabla comparativa\n",
        "pd.set_option('display.max_columns', None)  # Muestra todas las columnas\n",
        "pd.set_option('display.max_rows', None)       # Muestra todas las filas\n",
        "print(\"\\nComparación de Indicadores entre Modelos:\")\n",
        "print(comparacion_resultados)"
      ],
      "metadata": {
        "colab": {
          "base_uri": "https://localhost:8080/"
        },
        "id": "0xWroI3s46hO",
        "outputId": "38a6d86e-eb4b-4055-99d6-ff557801a949"
      },
      "id": "0xWroI3s46hO",
      "execution_count": 33,
      "outputs": [
        {
          "output_type": "stream",
          "name": "stdout",
          "text": [
            "\n",
            "Comparación de Indicadores entre Modelos:\n",
            "                     Sensibilidad  Especificidad  Accuracy  Balanced Accuracy\n",
            "Modelo                                                                       \n",
            "Regresión Logística      0.848150       0.755734  0.801942           0.801942\n",
            "K-Nearest Neighbors      0.949068       0.839973  0.894520           0.894520\n",
            "Naive Bayes              0.808037       0.544102  0.676070           0.676070\n",
            "CART                     0.928999       0.940566  0.934783           0.934783\n",
            "Bagging                  0.935082       0.961408  0.948245           0.948245\n"
          ]
        }
      ]
    },
    {
      "cell_type": "code",
      "source": [
        "import matplotlib.pyplot as plt\n",
        "import seaborn as sns\n",
        "import pandas as pd\n",
        "from sklearn.model_selection import cross_val_score\n",
        "\n",
        "# Definir el modelo para cada algoritmo\n",
        "models = {\n",
        "    \"Regresión Logística\": log_reg_border,\n",
        "    \"K-Nearest Neighbors\": knn_border,\n",
        "    \"Naive Bayes\": nb_border,\n",
        "    \"CART\": cart_model,\n",
        "    \"Bagging\": bagging_model\n",
        "}\n",
        "\n",
        "# Calcular los resultados de Accuracy para cada modelo usando validación cruzada\n",
        "accuracies = {}\n",
        "for model_name, model in models.items():\n",
        "    accuracies[model_name] = cross_val_score(model, X_train_border, y_train_border, cv=10, scoring='accuracy')\n",
        "\n",
        "# Crear un DataFrame con los resultados\n",
        "accuracy_df = pd.DataFrame(accuracies)\n",
        "\n",
        "# Graficar el boxplot\n",
        "plt.figure(figsize=(10, 6))\n",
        "sns.boxplot(data=accuracy_df)\n",
        "\n",
        "# Personalizar el gráfico\n",
        "plt.title('Comparación de Accuracy entre Modelos')\n",
        "plt.ylabel('Accuracy')\n",
        "plt.xticks(rotation=45)\n",
        "\n",
        "# Mostrar el gráfico\n",
        "plt.tight_layout()\n",
        "plt.show()"
      ],
      "metadata": {
        "colab": {
          "base_uri": "https://localhost:8080/",
          "height": 607
        },
        "id": "8ckpD-d05m3i",
        "outputId": "c86b6bda-e221-443c-ef11-6744f2847d14"
      },
      "id": "8ckpD-d05m3i",
      "execution_count": 34,
      "outputs": [
        {
          "output_type": "display_data",
          "data": {
            "text/plain": [
              "<Figure size 1000x600 with 1 Axes>"
            ],
            "image/png": "[encoded data removed]"
          },
          "metadata": {}
        }
      ]
    },
    {
      "cell_type": "markdown",
      "source": [
        "Podriamos anticipar que todos los modelos entrenados al momento de testearlos nos daria poca variabilidad en sus predicciones y en el caso de Naive Bayes podria ser el unico que no tenga una predicción tan cercada en su test como los demas modelos."
      ],
      "metadata": {
        "id": "8itqSwawIpfq"
      },
      "id": "8itqSwawIpfq"
    },
    {
      "cell_type": "markdown",
      "id": "17377a87",
      "metadata": {
        "id": "17377a87"
      },
      "source": [
        "## 8. Predicción de los modelos en la data testing"
      ]
    },
    {
      "cell_type": "code",
      "execution_count": 35,
      "id": "5226add6",
      "metadata": {
        "id": "5226add6"
      },
      "outputs": [],
      "source": [
        "import matplotlib.pyplot as plt\n",
        "from sklearn.metrics import roc_curve, auc, log_loss, confusion_matrix, recall_score, accuracy_score"
      ]
    },
    {
      "cell_type": "markdown",
      "id": "3d849303",
      "metadata": {
        "id": "3d849303"
      },
      "source": [
        "### 8.1. Predicción del Modelo Regresión Logistica en la data testing"
      ]
    },
    {
      "cell_type": "code",
      "execution_count": 36,
      "id": "9d8f0098",
      "metadata": {
        "colab": {
          "base_uri": "https://localhost:8080/",
          "height": 600
        },
        "id": "9d8f0098",
        "outputId": "a679f5ab-855f-4446-81bb-0514d138901b"
      },
      "outputs": [
        {
          "output_type": "stream",
          "name": "stdout",
          "text": [
            "\n",
            "Resultados del Modelo con Regresión Logística en la data testing:\n"
          ]
        },
        {
          "output_type": "display_data",
          "data": {
            "text/plain": [
              "<Figure size 800x600 with 1 Axes>"
            ],
            "image/png": "[encoded data removed]"
          },
          "metadata": {}
        }
      ],
      "source": [
        "from sklearn.metrics import precision_recall_curve, average_precision_score\n",
        "import matplotlib.pyplot as plt\n",
        "\n",
        "print(\"\\nResultados del Modelo con Regresión Logística en la data testing:\")\n",
        "\n",
        "# Probabilidades de predicción\n",
        "y_prob_log_test = log_reg_border.predict_proba(X_test)[:, 1]\n",
        "y_pred_log_test = log_reg_border.predict(X_test)\n",
        "\n",
        "# Cálculo de métricas\n",
        "cm_log_test = confusion_matrix(y_test, y_pred_log_test)\n",
        "sensitivity_log_test = recall_score(y_test, y_pred_log_test, pos_label='PROMOVIDO')\n",
        "specificity_log_test = cm_log_test[0, 0] / sum(cm_log_test[0, :])\n",
        "accuracy_log_test = accuracy_score(y_test, y_pred_log_test)\n",
        "balanced_accuracy_log_test = (sensitivity_log_test + specificity_log_test) / 2\n",
        "logloss_log_test = log_loss(y_test, y_prob_log_test)\n",
        "\n",
        "# Asegurarse de que las etiquetas estén correctamente definidas para `pos_label`\n",
        "# Cálculo de la curva Precision-Recall\n",
        "precision_log_test, recall_log_test, _ = precision_recall_curve(y_test, y_prob_log_test, pos_label='PROMOVIDO')\n",
        "average_precision_log_test = average_precision_score(y_test, y_prob_log_test, pos_label='PROMOVIDO')\n",
        "\n",
        "# Gráfico de la curva Precision-Recall para el Modelo con Regresión Logística\n",
        "plt.figure(figsize=(8, 6))\n",
        "plt.plot(recall_log_test, precision_log_test, color='blue', lw=2, label='Precision-Recall curve (AP = {:.2f})'.format(average_precision_log_test))\n",
        "plt.xlabel('Recall')\n",
        "plt.ylabel('Precision')\n",
        "plt.title('Precision-Recall Curve - Modelo con Regresión Logística')\n",
        "plt.legend(loc='lower left')\n",
        "plt.grid()\n",
        "plt.show()"
      ]
    },
    {
      "cell_type": "code",
      "execution_count": 37,
      "id": "1ab6a016",
      "metadata": {
        "colab": {
          "base_uri": "https://localhost:8080/"
        },
        "id": "1ab6a016",
        "outputId": "1ddc8cfe-143d-4174-d755-53d60e13b2c4"
      },
      "outputs": [
        {
          "output_type": "stream",
          "name": "stdout",
          "text": [
            "Matriz de Confusión:\n",
            " [[7585 2443]\n",
            " [ 176  758]]\n",
            "Sensibilidad (test): 0.8116\n",
            "Especificidad (test): 0.7564\n",
            "Accuracy (test): 0.7611\n",
            "Balanced Accuracy (test): 0.7840\n",
            "Log-Loss (test): 0.4609\n",
            "Average Precision (AP) (test): 0.4486\n"
          ]
        }
      ],
      "source": [
        "# Mostrar métricas\n",
        "print(\"Matriz de Confusión:\\n\", cm_log_test)\n",
        "print(f\"Sensibilidad (test): {sensitivity_log_test:.4f}\")\n",
        "print(f\"Especificidad (test): {specificity_log_test:.4f}\")\n",
        "print(f\"Accuracy (test): {accuracy_log_test:.4f}\")\n",
        "print(f\"Balanced Accuracy (test): {balanced_accuracy_log_test:.4f}\")\n",
        "print(f\"Log-Loss (test): {logloss_log_test:.4f}\")\n",
        "\n",
        "# Mostrar el Average Precision (AP) que es relevante para la curva Precision-Recall\n",
        "print(f\"Average Precision (AP) (test): {average_precision_log_test:.4f}\")"
      ]
    },
    {
      "cell_type": "markdown",
      "id": "c6e04e27",
      "metadata": {
        "id": "c6e04e27"
      },
      "source": [
        "### 8.2. Predicción del Modelo K-NN en la data testing"
      ]
    },
    {
      "cell_type": "code",
      "execution_count": 38,
      "id": "91669cf0",
      "metadata": {
        "colab": {
          "base_uri": "https://localhost:8080/",
          "height": 599
        },
        "id": "91669cf0",
        "outputId": "34d7f74e-7ec0-428a-858e-af86786ca142"
      },
      "outputs": [
        {
          "output_type": "stream",
          "name": "stdout",
          "text": [
            "\n",
            "Resultados del Modelo con K-NN en la data testing:\n"
          ]
        },
        {
          "output_type": "display_data",
          "data": {
            "text/plain": [
              "<Figure size 800x600 with 1 Axes>"
            ],
            "image/png": "[encoded data removed]"
          },
          "metadata": {}
        }
      ],
      "source": [
        "from sklearn.metrics import precision_recall_curve, average_precision_score\n",
        "\n",
        "print(\"\\nResultados del Modelo con K-NN en la data testing:\")\n",
        "y_prob_knn_test = knn_border.predict_proba(X_test)[:, 1]\n",
        "y_pred_knn_test = knn_border.predict(X_test)\n",
        "\n",
        "# Cálculo de métricas\n",
        "cm_knn_test = confusion_matrix(y_test, y_pred_knn_test)\n",
        "sensitivity_knn_test = recall_score(y_test, y_pred_knn_test, pos_label='PROMOVIDO')\n",
        "specificity_knn_test = cm_knn_test[0, 0] / sum(cm_knn_test[0, :])\n",
        "accuracy_knn_test = accuracy_score(y_test, y_pred_knn_test)\n",
        "balanced_accuracy_knn_test = (sensitivity_knn_test + specificity_knn_test) / 2\n",
        "logloss_knn_test = log_loss(y_test, y_prob_knn_test)\n",
        "\n",
        "# Cálculo de la curva Precision-Recall\n",
        "precision_knn_test, recall_knn_test, _ = precision_recall_curve(y_test, y_prob_knn_test, pos_label='PROMOVIDO')\n",
        "average_precision_knn_test = average_precision_score(y_test, y_prob_knn_test, pos_label='PROMOVIDO')\n",
        "\n",
        "# Gráfico de la curva Precision-Recall para el Modelo con K-NN\n",
        "plt.figure(figsize=(8, 6))\n",
        "plt.plot(recall_knn_test, precision_knn_test, color='green', lw=2, label='Precision-Recall curve (AP = {:.2f})'.format(average_precision_knn_test))\n",
        "plt.xlabel('Recall')\n",
        "plt.ylabel('Precision')\n",
        "plt.title('Precision-Recall Curve - Modelo K-NN')\n",
        "plt.legend(loc='lower left')\n",
        "plt.grid()\n",
        "plt.show()"
      ]
    },
    {
      "cell_type": "code",
      "execution_count": 39,
      "id": "3f2f3bb3",
      "metadata": {
        "colab": {
          "base_uri": "https://localhost:8080/"
        },
        "id": "3f2f3bb3",
        "outputId": "47c07569-ff2e-4d89-98be-c0da2e93914c"
      },
      "outputs": [
        {
          "output_type": "stream",
          "name": "stdout",
          "text": [
            "Matriz de Confusión:\n",
            " [[8530 1498]\n",
            " [ 411  523]]\n",
            "Sensibilidad (test): 0.5600\n",
            "Especificidad (test): 0.8506\n",
            "Accuracy (test): 0.8259\n",
            "Balanced Accuracy (test): 0.7053\n",
            "Log-Loss (test): 2.4479\n",
            "Average Precision (AP) (test): 0.2609\n"
          ]
        }
      ],
      "source": [
        "# Mostrar métricas\n",
        "print(\"Matriz de Confusión:\\n\", cm_knn_test)\n",
        "print(f\"Sensibilidad (test): {sensitivity_knn_test:.4f}\")\n",
        "print(f\"Especificidad (test): {specificity_knn_test:.4f}\")\n",
        "print(f\"Accuracy (test): {accuracy_knn_test:.4f}\")\n",
        "print(f\"Balanced Accuracy (test): {balanced_accuracy_knn_test:.4f}\")\n",
        "print(f\"Log-Loss (test): {logloss_knn_test:.4f}\")\n",
        "print(f\"Average Precision (AP) (test): {average_precision_knn_test:.4f}\")"
      ]
    },
    {
      "cell_type": "markdown",
      "id": "cee2e73d",
      "metadata": {
        "id": "cee2e73d"
      },
      "source": [
        "### 8.3. Predicción del Modelo Naive Bayes en la data testing"
      ]
    },
    {
      "cell_type": "code",
      "execution_count": 40,
      "id": "ced02253",
      "metadata": {
        "colab": {
          "base_uri": "https://localhost:8080/",
          "height": 599
        },
        "id": "ced02253",
        "outputId": "e4741204-5dde-4c4b-e389-d14c2c40571d"
      },
      "outputs": [
        {
          "output_type": "stream",
          "name": "stdout",
          "text": [
            "\n",
            "Resultados del Modelo con Naive Bayes en la data testing:\n"
          ]
        },
        {
          "output_type": "display_data",
          "data": {
            "text/plain": [
              "<Figure size 800x600 with 1 Axes>"
            ],
            "image/png": "[encoded data removed]"
          },
          "metadata": {}
        }
      ],
      "source": [
        "from sklearn.metrics import precision_recall_curve, average_precision_score\n",
        "\n",
        "print(\"\\nResultados del Modelo con Naive Bayes en la data testing:\")\n",
        "y_prob_nb_test = nb_border.predict_proba(X_test)[:, 1]\n",
        "y_pred_nb_test = nb_border.predict(X_test)\n",
        "\n",
        "# Cálculo de métricas\n",
        "cm_nb_test = confusion_matrix(y_test, y_pred_nb_test)\n",
        "sensitivity_nb_test = recall_score(y_test, y_pred_nb_test, pos_label='PROMOVIDO')\n",
        "specificity_nb_test = cm_nb_test[0, 0] / sum(cm_nb_test[0, :])\n",
        "accuracy_nb_test = accuracy_score(y_test, y_pred_nb_test)\n",
        "balanced_accuracy_nb_test = (sensitivity_nb_test + specificity_nb_test) / 2\n",
        "logloss_nb_test = log_loss(y_test, y_prob_nb_test)\n",
        "\n",
        "# Cálculo de la curva Precision-Recall\n",
        "precision_nb_test, recall_nb_test, _ = precision_recall_curve(y_test, y_prob_nb_test, pos_label='PROMOVIDO')\n",
        "average_precision_nb_test = average_precision_score(y_test, y_prob_nb_test, pos_label='PROMOVIDO')\n",
        "\n",
        "# Gráfico de la curva Precision-Recall para el Modelo Naive Bayes\n",
        "plt.figure(figsize=(8, 6))\n",
        "plt.plot(recall_nb_test, precision_nb_test, color='purple', lw=2, label='Precision-Recall curve (AP = {:.2f})'.format(average_precision_nb_test))\n",
        "plt.xlabel('Recall')\n",
        "plt.ylabel('Precision')\n",
        "plt.title('Precision-Recall Curve - Modelo Naive Bayes')\n",
        "plt.legend(loc='lower left')\n",
        "plt.grid()\n",
        "plt.show()"
      ]
    },
    {
      "cell_type": "code",
      "execution_count": 41,
      "id": "885ca4b9",
      "metadata": {
        "colab": {
          "base_uri": "https://localhost:8080/"
        },
        "id": "885ca4b9",
        "outputId": "8601479e-e9d9-4a36-c7cb-b52ec44af5aa"
      },
      "outputs": [
        {
          "output_type": "stream",
          "name": "stdout",
          "text": [
            "Matriz de Confusión:\n",
            " [[5432 4596]\n",
            " [ 215  719]]\n",
            "Sensibilidad (test): 0.7698\n",
            "Especificidad (test): 0.5417\n",
            "Accuracy (test): 0.5611\n",
            "Balanced Accuracy (test): 0.6557\n",
            "Log-Loss (test): 1.1572\n",
            "Average Precision (AP) (test): 0.1763\n"
          ]
        }
      ],
      "source": [
        "# Mostrar métricas\n",
        "print(\"Matriz de Confusión:\\n\", cm_nb_test)\n",
        "print(f\"Sensibilidad (test): {sensitivity_nb_test:.4f}\")\n",
        "print(f\"Especificidad (test): {specificity_nb_test:.4f}\")\n",
        "print(f\"Accuracy (test): {accuracy_nb_test:.4f}\")\n",
        "print(f\"Balanced Accuracy (test): {balanced_accuracy_nb_test:.4f}\")\n",
        "print(f\"Log-Loss (test): {logloss_nb_test:.4f}\")\n",
        "print(f\"Average Precision (AP) (test): {average_precision_nb_test:.4f}\")"
      ]
    },
    {
      "cell_type": "markdown",
      "id": "f50ad607",
      "metadata": {
        "id": "f50ad607"
      },
      "source": [
        "### 8.4. Predicción del Modelo Árbol de Clasificación con el Algoritmo CART en la data testing"
      ]
    },
    {
      "cell_type": "code",
      "execution_count": 42,
      "id": "57b5e104",
      "metadata": {
        "colab": {
          "base_uri": "https://localhost:8080/",
          "height": 565
        },
        "id": "57b5e104",
        "outputId": "a960550a-7759-4fd6-ead5-3d4bc93269fb"
      },
      "outputs": [
        {
          "output_type": "display_data",
          "data": {
            "text/plain": [
              "<Figure size 800x600 with 1 Axes>"
            ],
            "image/png": "[encoded data removed]"
          },
          "metadata": {}
        }
      ],
      "source": [
        "from sklearn.tree import DecisionTreeClassifier\n",
        "from sklearn.metrics import confusion_matrix, recall_score, accuracy_score, log_loss, roc_curve, auc\n",
        "import matplotlib.pyplot as plt\n",
        "from sklearn.metrics import precision_recall_curve, average_precision_score\n",
        "\n",
        "# Entrenamiento del modelo Árbol de Clasificación con CART\n",
        "cart_model = DecisionTreeClassifier(random_state=42)\n",
        "cart_model.fit(X_train, y_train)\n",
        "\n",
        "# Predicciones en la data de testing\n",
        "y_prob_cart_test = cart_model.predict_proba(X_test)[:, 1]\n",
        "y_pred_cart_test = cart_model.predict(X_test)\n",
        "\n",
        "# Cálculo de métricas\n",
        "cm_cart_test = confusion_matrix(y_test, y_pred_cart_test)\n",
        "sensitivity_cart_test = recall_score(y_test, y_pred_cart_test, pos_label='PROMOVIDO')\n",
        "specificity_cart_test = cm_cart_test[0, 0] / sum(cm_cart_test[0, :])\n",
        "accuracy_cart_test = accuracy_score(y_test, y_pred_cart_test)\n",
        "balanced_accuracy_cart_test = (sensitivity_cart_test + specificity_cart_test) / 2\n",
        "logloss_cart_test = log_loss(y_test, y_prob_cart_test)\n",
        "\n",
        "# Cálculo de la curva Precision-Recall\n",
        "precision_cart_test, recall_cart_test, _ = precision_recall_curve(y_test, y_prob_cart_test, pos_label='PROMOVIDO')\n",
        "average_precision_cart_test = average_precision_score(y_test, y_prob_cart_test, pos_label='PROMOVIDO')\n",
        "\n",
        "# Gráfico de la curva Precision-Recall para el Modelo Árbol de Clasificación (CART)\n",
        "plt.figure(figsize=(8, 6))\n",
        "plt.plot(recall_cart_test, precision_cart_test, color='orange', lw=2, label='Precision-Recall curve (AP = {:.2f})'.format(average_precision_cart_test))\n",
        "plt.xlabel('Recall')\n",
        "plt.ylabel('Precision')\n",
        "plt.title('Precision-Recall Curve - Modelo Árbol de Clasificación (CART)')\n",
        "plt.legend(loc='lower left')\n",
        "plt.grid()\n",
        "plt.show()"
      ]
    },
    {
      "cell_type": "code",
      "execution_count": 43,
      "id": "4150dc4b",
      "metadata": {
        "colab": {
          "base_uri": "https://localhost:8080/"
        },
        "id": "4150dc4b",
        "outputId": "617b599f-d3c4-4f1b-ada6-cc13c27a6852"
      },
      "outputs": [
        {
          "output_type": "stream",
          "name": "stdout",
          "text": [
            "\n",
            "Resultados del Modelo con Árbol de Clasificación (CART) en la data testing:\n",
            "Matriz de Confusión:\n",
            " [[9469  559]\n",
            " [ 533  401]]\n",
            "Sensibilidad (test): 0.4293\n",
            "Especificidad (test): 0.9443\n",
            "Accuracy (test): 0.9004\n",
            "Balanced Accuracy (test): 0.6868\n",
            "Log-Loss (test): 3.4665\n",
            "Average Precision (AP) (test): 0.2408\n"
          ]
        }
      ],
      "source": [
        "# Mostrar métricas\n",
        "print(\"\\nResultados del Modelo con Árbol de Clasificación (CART) en la data testing:\")\n",
        "print(\"Matriz de Confusión:\\n\", cm_cart_test)\n",
        "print(f\"Sensibilidad (test): {sensitivity_cart_test:.4f}\")\n",
        "print(f\"Especificidad (test): {specificity_cart_test:.4f}\")\n",
        "print(f\"Accuracy (test): {accuracy_cart_test:.4f}\")\n",
        "print(f\"Balanced Accuracy (test): {balanced_accuracy_cart_test:.4f}\")\n",
        "print(f\"Log-Loss (test): {logloss_cart_test:.4f}\")\n",
        "print(f\"Average Precision (AP) (test): {average_precision_cart_test:.4f}\")"
      ]
    },
    {
      "cell_type": "markdown",
      "id": "cce35d52",
      "metadata": {
        "id": "cce35d52"
      },
      "source": [
        "### 8.5. Predicción del Modelo Árbol de Clasificación con el Algoritmo Bagging en la data testing"
      ]
    },
    {
      "cell_type": "code",
      "execution_count": 44,
      "id": "402bae1b",
      "metadata": {
        "colab": {
          "base_uri": "https://localhost:8080/",
          "height": 564
        },
        "id": "402bae1b",
        "outputId": "17611e93-c8eb-48ea-ad4c-029462515f79"
      },
      "outputs": [
        {
          "output_type": "display_data",
          "data": {
            "text/plain": [
              "<Figure size 800x600 with 1 Axes>"
            ],
            "image/png": "[encoded data removed]"
          },
          "metadata": {}
        }
      ],
      "source": [
        "from sklearn.ensemble import BaggingClassifier\n",
        "from sklearn.tree import DecisionTreeClassifier\n",
        "from sklearn.metrics import confusion_matrix, recall_score, accuracy_score, log_loss, precision_recall_curve, average_precision_score\n",
        "import matplotlib.pyplot as plt\n",
        "\n",
        "# Entrenamiento del modelo Bagging con Árbol de Decisión (CART) como base\n",
        "bagging_model = BaggingClassifier(estimator=DecisionTreeClassifier(random_state=42),\n",
        "                                  n_estimators=10, random_state=42)\n",
        "bagging_model.fit(X_train, y_train)\n",
        "\n",
        "# Predicciones en la data de testing\n",
        "y_prob_bagging_test = bagging_model.predict_proba(X_test)[:, 1]\n",
        "y_pred_bagging_test = bagging_model.predict(X_test)\n",
        "\n",
        "# Cálculo de métricas\n",
        "cm_bagging_test = confusion_matrix(y_test, y_pred_bagging_test)\n",
        "sensitivity_bagging_test = recall_score(y_test, y_pred_bagging_test, pos_label='PROMOVIDO')\n",
        "specificity_bagging_test = cm_bagging_test[0, 0] / sum(cm_bagging_test[0, :])\n",
        "accuracy_bagging_test = accuracy_score(y_test, y_pred_bagging_test)\n",
        "balanced_accuracy_bagging_test = (sensitivity_bagging_test + specificity_bagging_test) / 2\n",
        "logloss_bagging_test = log_loss(y_test, y_prob_bagging_test)\n",
        "\n",
        "# Cálculo de la curva Precision-Recall\n",
        "precision_bagging_test, recall_bagging_test, _ = precision_recall_curve(y_test, y_prob_bagging_test, pos_label='PROMOVIDO')\n",
        "average_precision_bagging_test = average_precision_score(y_test, y_prob_bagging_test, pos_label='PROMOVIDO')\n",
        "\n",
        "# Gráfico de la curva Precision-Recall para el Modelo Bagging\n",
        "plt.figure(figsize=(8, 6))\n",
        "plt.plot(recall_bagging_test, precision_bagging_test, color='purple', lw=2, label='Precision-Recall curve (AP = {:.2f})'.format(average_precision_bagging_test))\n",
        "plt.xlabel('Recall')\n",
        "plt.ylabel('Precision')\n",
        "plt.title('Precision-Recall Curve - Modelo Bagging')\n",
        "plt.legend(loc='lower left')\n",
        "plt.grid()\n",
        "plt.show()"
      ]
    },
    {
      "cell_type": "code",
      "execution_count": 45,
      "id": "5a6cdebc",
      "metadata": {
        "colab": {
          "base_uri": "https://localhost:8080/"
        },
        "id": "5a6cdebc",
        "outputId": "1343f7cc-0ef3-4c9b-fa9c-38c2b33ee084"
      },
      "outputs": [
        {
          "output_type": "stream",
          "name": "stdout",
          "text": [
            "\n",
            "Resultados del Modelo con Bagging en la data testing:\n",
            "Matriz de Confusión:\n",
            " [[9762  266]\n",
            " [ 579  355]]\n",
            "Sensibilidad (test): 0.3801\n",
            "Especificidad (test): 0.9735\n",
            "Accuracy (test): 0.9229\n",
            "Balanced Accuracy (test): 0.6768\n",
            "Log-Loss (test): 0.8372\n",
            "Average Precision (AP) (test): 0.4971\n"
          ]
        }
      ],
      "source": [
        "# Mostrar métricas\n",
        "print(\"\\nResultados del Modelo con Bagging en la data testing:\")\n",
        "print(\"Matriz de Confusión:\\n\", cm_bagging_test)\n",
        "print(f\"Sensibilidad (test): {sensitivity_bagging_test:.4f}\")\n",
        "print(f\"Especificidad (test): {specificity_bagging_test:.4f}\")\n",
        "print(f\"Accuracy (test): {accuracy_bagging_test:.4f}\")\n",
        "print(f\"Balanced Accuracy (test): {balanced_accuracy_bagging_test:.4f}\")\n",
        "print(f\"Log-Loss (test): {logloss_bagging_test:.4f}\")\n",
        "print(f\"Average Precision (AP) (test): {average_precision_bagging_test:.4f}\")"
      ]
    },
    {
      "cell_type": "markdown",
      "source": [
        "### Comparación de Accuracy entre Entrenamiento y Predicción"
      ],
      "metadata": {
        "id": "tPCbZmkk_pjQ"
      },
      "id": "tPCbZmkk_pjQ"
    },
    {
      "cell_type": "code",
      "source": [
        "import pandas as pd\n",
        "\n",
        "# Crear un DataFrame para comparar el Accuracy de cada modelo en Entrenamiento y Predicción\n",
        "comparacion_accuracy = pd.DataFrame({\n",
        "    \"Modelo\": [\"Regresión Logística\", \"K-Nearest Neighbors\", \"Naive Bayes\", \"CART\", \"Bagging\"],\n",
        "    \"Accuracy (train)\": [accuracy_border, accuracy_knn, accuracy_nb, accuracy_cart, accuracy_bagging],\n",
        "    \"Accuracy (test)\": [accuracy_log_test, accuracy_knn_test, accuracy_nb_test, accuracy_cart_test, accuracy_bagging_test]\n",
        "})\n",
        "\n",
        "# Configurar el índice para mejorar la presentación\n",
        "comparacion_accuracy.set_index(\"Modelo\", inplace=True)\n",
        "\n",
        "# Mostrar la tabla comparativa del Accuracy\n",
        "pd.set_option('display.max_columns', None)  # Muestra todas las columnas\n",
        "pd.set_option('display.max_rows', None)     # Muestra todas las filas\n",
        "print(\"\\nComparación de Accuracy entre Entrenamiento y Predicción:\")\n",
        "print(comparacion_accuracy)"
      ],
      "metadata": {
        "colab": {
          "base_uri": "https://localhost:8080/"
        },
        "id": "wYaoJdR3_1Q_",
        "outputId": "998ca9d3-6f70-4a47-85ee-6f51a08bfa56"
      },
      "id": "wYaoJdR3_1Q_",
      "execution_count": 46,
      "outputs": [
        {
          "output_type": "stream",
          "name": "stdout",
          "text": [
            "\n",
            "Comparación de Accuracy entre Entrenamiento y Predicción:\n",
            "                     Accuracy (train)  Accuracy (test)\n",
            "Modelo                                                \n",
            "Regresión Logística          0.801942         0.761084\n",
            "K-Nearest Neighbors          0.894520         0.825853\n",
            "Naive Bayes                  0.676070         0.561120\n",
            "CART                         0.934783         0.900383\n",
            "Bagging                      0.948245         0.922916\n"
          ]
        }
      ]
    },
    {
      "cell_type": "markdown",
      "source": [
        "Descartaremos **K-Nearest Neighbors** por no tener una predicción precisa.\n",
        "\n"
      ],
      "metadata": {
        "id": "VfWtNmO0CqqR"
      },
      "id": "VfWtNmO0CqqR"
    },
    {
      "cell_type": "markdown",
      "id": "5ea9648a",
      "metadata": {
        "id": "5ea9648a"
      },
      "source": [
        "## 9. Comparación de las evaluación de los modelos"
      ]
    },
    {
      "cell_type": "code",
      "execution_count": 47,
      "id": "05d4f4b4",
      "metadata": {
        "colab": {
          "base_uri": "https://localhost:8080/",
          "height": 753
        },
        "id": "05d4f4b4",
        "outputId": "0d962dd1-7ea6-42ec-efae-984d7cd956c5"
      },
      "outputs": [
        {
          "output_type": "display_data",
          "data": {
            "text/plain": [
              "<Figure size 1000x600 with 2 Axes>"
            ],
            "image/png": "[encoded data removed]"
          },
          "metadata": {}
        }
      ],
      "source": [
        "import pandas as pd\n",
        "import seaborn as sns\n",
        "import matplotlib.pyplot as plt\n",
        "\n",
        "# Crear un diccionario con los resultados de cada modelo\n",
        "results = {\n",
        "    'Modelo': ['Regresión Logística', 'K-NN', 'Naive Bayes', 'CART', 'Bagging'],\n",
        "    'Sensibilidad (test)': [sensitivity_log_test, sensitivity_knn_test, sensitivity_nb_test, sensitivity_cart_test, sensitivity_bagging_test],\n",
        "    'Especificidad (test)': [specificity_log_test, specificity_knn_test, specificity_nb_test, specificity_cart_test, specificity_bagging_test],\n",
        "    'Accuracy (test)': [accuracy_log_test, accuracy_knn_test, accuracy_nb_test, accuracy_cart_test, accuracy_bagging_test],\n",
        "    'Balanced Accuracy (test)': [balanced_accuracy_log_test, balanced_accuracy_knn_test, balanced_accuracy_nb_test, balanced_accuracy_cart_test, balanced_accuracy_bagging_test],\n",
        "    'Log-Loss (test)': [logloss_log_test, logloss_knn_test, logloss_nb_test, logloss_cart_test, logloss_bagging_test],\n",
        "    'Average Precision (test)': [average_precision_log_test, average_precision_knn_test, average_precision_nb_test, average_precision_cart_test, average_precision_bagging_test]\n",
        "}\n",
        "\n",
        "# Crear un DataFrame de pandas\n",
        "results_df = pd.DataFrame(results)\n",
        "\n",
        "# Configuración para la visualización\n",
        "plt.figure(figsize=(10, 6))\n",
        "sns.set(style=\"whitegrid\")\n",
        "\n",
        "# Crear la tabla con seaborn\n",
        "table = sns.heatmap(results_df.set_index('Modelo'), annot=True, fmt=\".4f\", cmap='Blues', cbar=True, linewidths=.5, linecolor='gray')\n",
        "\n",
        "# Personalización de la tabla\n",
        "table.set_title('Comparación de Métricas de los Modelos en la data testing', fontweight='bold', fontsize=16)\n",
        "plt.xlabel('Métricas', fontsize=12)\n",
        "plt.ylabel('Modelos', fontsize=12)\n",
        "\n",
        "# Mostrar la tabla\n",
        "plt.show()"
      ]
    },
    {
      "cell_type": "markdown",
      "id": "174d94e7",
      "metadata": {
        "id": "174d94e7"
      },
      "source": [
        "**Comparación y selección del mejor modelo:**  \n",
        "Al comparar los indicadores del test vemos que los modelos de regresión logística y de Árboles con el algoritmo bagging son los mejores modelos ya que su Average Precision nos da valores mas alejados del cero y cernos al 1. Y sus Log-loss estan cercanos a cero lo cual es un buen indicador."
      ]
    },
    {
      "cell_type": "markdown",
      "id": "117d3faf",
      "metadata": {
        "id": "117d3faf"
      },
      "source": [
        "## 10. Interpretación de Resultados, Conclusiones y Recomendaciones"
      ]
    },
    {
      "cell_type": "markdown",
      "id": "5feb030b",
      "metadata": {
        "id": "5feb030b"
      },
      "source": [
        "### 10.1. Interpretación de Resultados:"
      ]
    },
    {
      "cell_type": "markdown",
      "id": "fab75d1e",
      "metadata": {
        "id": "fab75d1e"
      },
      "source": [
        "1. **Average Precision**: Este es el indicador clave para la evaluación de la precisión en un contexto de clases desbalanceadas, Bagging muestra un rendimiento destacable con un valor de **0.5000**, que es el más alto entre los modelos. En comparación, otros modelos como **Naive Bayes** tienen valores significativamente más bajos (0.1241), lo que indica un desempeño pobre en términos de precisión, especialmente para la clase positiva.\n",
        "\n",
        "2. **Accuracy**: Bagging también se destaca con un **Accuracy de 0.9293** en la data de test, lo cual es muy alto y se acerca al máximo valor. El modelo logra hacer predicciones correctas en una gran proporción de casos, lo que lo coloca como uno de los mejores entre los modelos evaluados, y se acerca al **Bagging (train)** con un **Accuracy de 0.9532**, lo que indica una predicción estable.\n",
        "\n",
        "3. **Log-Loss**: Bagging tiene un **Log-Loss de 0.8176**, que es considerablemente bajo, lo que indica que el modelo está realizando buenas predicciones probabilísticas, y las diferencias entre las predicciones y los valores reales son pequeñas. Este es un buen indicador de la capacidad del modelo para clasificar correctamente mientras minimiza los errores.\n",
        "\n"
      ]
    },
    {
      "cell_type": "markdown",
      "id": "10acb8f8",
      "metadata": {
        "id": "10acb8f8"
      },
      "source": [
        "### 10.2. Conclusiones y Recomendaciones:"
      ]
    },
    {
      "cell_type": "markdown",
      "id": "3759fef7",
      "metadata": {
        "id": "3759fef7"
      },
      "source": [
        "### **Conclusión:**\n",
        "El modelo **Bagging** se destaca como el más robusto al combinar alto rendimiento en **Accuracy**, **Average Precision** y **Log-Loss**. Aunque hay modelos como **CART** que muestran un rendimiento similar en términos de Accuracy, el **Average Precision** de Bagging lo coloca como el líder, especialmente en el contexto de clasificación desequilibrada. La baja tasa de **Log-Loss** refuerza la capacidad predictiva del modelo, y sus buenos resultados en **Sensitivity** y **Specificity** en general lo hacen el modelo más confiable para la predicción.\n",
        "\n",
        "### **Recomendaciones:**\n",
        "- **Implementar Bagging**: Dado su desempeño general, Bagging es el modelo recomendado para su implementación en predicciones. Su capacidad para manejar bien las clases desbalanceadas, junto con su alta precisión y baja tasa de error, lo convierte en la opción más robusta.\n",
        "- **Evaluar en producción**: Es recomendable seguir evaluando Bagging en un entorno de producción y con datos adicionales para asegurar que mantenga un rendimiento consistente en escenarios reales.\n"
      ]
    }
  ],
  "metadata": {
    "kernelspec": {
      "display_name": "Python 3 (ipykernel)",
      "language": "python",
      "name": "python3"
    },
    "language_info": {
      "codemirror_mode": {
        "name": "ipython",
        "version": 3
      },
      "file_extension": ".py",
      "mimetype": "text/x-python",
      "name": "python",
      "nbconvert_exporter": "python",
      "pygments_lexer": "ipython3",
      "version": "3.10.9"
    },
    "colab": {
      "provenance": []
    }
  },
  "nbformat": 4,
  "nbformat_minor": 5
}